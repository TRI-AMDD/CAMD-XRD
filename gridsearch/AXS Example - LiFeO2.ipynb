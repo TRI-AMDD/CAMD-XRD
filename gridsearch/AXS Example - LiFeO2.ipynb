{
 "cells": [
  {
   "cell_type": "markdown",
   "metadata": {},
   "source": [
    "# Import CAMD-XRD Package - hsg and relevant packages"
   ]
  },
  {
   "cell_type": "code",
   "execution_count": 32,
   "metadata": {},
   "outputs": [],
   "source": [
    "from tqdm.notebook import tqdm\n",
    "import hsg\n",
    "from matplotlib import pyplot as plt\n",
    "import numpy as np\n",
    "from pymatgen.analysis.diffraction import xrd"
   ]
  },
  {
   "cell_type": "markdown",
   "metadata": {},
   "source": [
    "# Relevant Parameters from Unsolved LiFeO$_2$ Pattern\n",
    "## Ref: Sakurai et al. J. Power Sources 1997\n"
   ]
  },
  {
   "cell_type": "code",
   "execution_count": 35,
   "metadata": {},
   "outputs": [
    {
     "data": {
      "application/vnd.jupyter.widget-view+json": {
       "model_id": "d78c52b5a4d04005a31d569b779a4a42",
       "version_major": 2,
       "version_minor": 0
      },
      "text/plain": [
       "HBox(children=(FloatProgress(value=0.0, max=21.0), HTML(value='')))"
      ]
     },
     "metadata": {},
     "output_type": "display_data"
    },
    {
     "data": {
      "application/vnd.jupyter.widget-view+json": {
       "model_id": "84c141ec636e45aab8d5c185ac579b6c",
       "version_major": 2,
       "version_minor": 0
      },
      "text/plain": [
       "HBox(children=(FloatProgress(value=0.0, max=2.0), HTML(value='')))"
      ]
     },
     "metadata": {},
     "output_type": "display_data"
    },
    {
     "name": "stdout",
     "output_type": "stream",
     "text": [
      "Using 5 points in direction 0\n",
      "Using 1 points in direction 1\n",
      "Using 6 points in direction 2\n",
      "Using 5 points in direction 0\n",
      "Using 6 points in direction 2\n",
      "Using 5 points in direction 0\n",
      "Using 6 points in direction 2\n",
      "Using 5 points in direction 0\n",
      "Using 6 points in direction 2\n",
      "\n"
     ]
    },
    {
     "data": {
      "application/vnd.jupyter.widget-view+json": {
       "model_id": "2d93f8d4aeda4bbcac9901d7f3155465",
       "version_major": 2,
       "version_minor": 0
      },
      "text/plain": [
       "HBox(children=(FloatProgress(value=0.0, max=1.0), HTML(value='')))"
      ]
     },
     "metadata": {},
     "output_type": "display_data"
    },
    {
     "name": "stdout",
     "output_type": "stream",
     "text": [
      "\n",
      "Using 5 points in direction 0\n",
      "Using 6 points in direction 2\n",
      "Using 5 points in direction 0\n",
      "Using 6 points in direction 2\n",
      "Using 5 points in direction 0\n",
      "Using 1 points in direction 1\n",
      "Using 6 points in direction 2\n"
     ]
    },
    {
     "data": {
      "application/vnd.jupyter.widget-view+json": {
       "model_id": "b0fb5f2288874ae481d7981b10cce539",
       "version_major": 2,
       "version_minor": 0
      },
      "text/plain": [
       "HBox(children=(FloatProgress(value=1.0, bar_style='info', max=1.0), HTML(value='')))"
      ]
     },
     "metadata": {},
     "output_type": "display_data"
    },
    {
     "name": "stdout",
     "output_type": "stream",
     "text": [
      "\n"
     ]
    },
    {
     "data": {
      "application/vnd.jupyter.widget-view+json": {
       "model_id": "e1c5b86966124febb03fae9283bc0526",
       "version_major": 2,
       "version_minor": 0
      },
      "text/plain": [
       "HBox(children=(FloatProgress(value=0.0, max=3.0), HTML(value='')))"
      ]
     },
     "metadata": {},
     "output_type": "display_data"
    },
    {
     "name": "stdout",
     "output_type": "stream",
     "text": [
      "Using 5 points in direction 0\n",
      "Using 1 points in direction 1\n",
      "Using 6 points in direction 2\n",
      "Using 5 points in direction 0\n",
      "Using 6 points in direction 2\n",
      "Using 5 points in direction 0\n",
      "Using 6 points in direction 2\n",
      "Using 5 points in direction 0\n",
      "Using 1 points in direction 1\n",
      "Using 6 points in direction 2\n",
      "\n"
     ]
    },
    {
     "data": {
      "application/vnd.jupyter.widget-view+json": {
       "model_id": "16f7c148a6794a1f9740ab31a3cc04b4",
       "version_major": 2,
       "version_minor": 0
      },
      "text/plain": [
       "HBox(children=(FloatProgress(value=0.0, max=1.0), HTML(value='')))"
      ]
     },
     "metadata": {},
     "output_type": "display_data"
    },
    {
     "name": "stdout",
     "output_type": "stream",
     "text": [
      "\n",
      "Using 5 points in direction 0\n",
      "Using 6 points in direction 2\n",
      "Using 5 points in direction 0\n",
      "Using 1 points in direction 1\n",
      "Using 6 points in direction 2\n"
     ]
    },
    {
     "data": {
      "application/vnd.jupyter.widget-view+json": {
       "model_id": "68d70ccc8c0a41c995dce50d1656dcf5",
       "version_major": 2,
       "version_minor": 0
      },
      "text/plain": [
       "HBox(children=(FloatProgress(value=1.0, bar_style='info', max=1.0), HTML(value='')))"
      ]
     },
     "metadata": {},
     "output_type": "display_data"
    },
    {
     "name": "stdout",
     "output_type": "stream",
     "text": [
      "\n"
     ]
    },
    {
     "data": {
      "application/vnd.jupyter.widget-view+json": {
       "model_id": "f594fe7a3737484baeff81a55ce789cc",
       "version_major": 2,
       "version_minor": 0
      },
      "text/plain": [
       "HBox(children=(FloatProgress(value=0.0, max=3.0), HTML(value='')))"
      ]
     },
     "metadata": {},
     "output_type": "display_data"
    },
    {
     "name": "stdout",
     "output_type": "stream",
     "text": [
      "Using 5 points in direction 0\n",
      "Using 1 points in direction 1\n",
      "Using 6 points in direction 2\n",
      "Using 5 points in direction 0\n",
      "Using 6 points in direction 2\n",
      "Using 5 points in direction 0\n",
      "Using 6 points in direction 2\n",
      "Using 5 points in direction 0\n",
      "Using 1 points in direction 1\n",
      "Using 6 points in direction 2\n",
      "\n"
     ]
    },
    {
     "data": {
      "application/vnd.jupyter.widget-view+json": {
       "model_id": "ed0204b5ce6d4a12858e19ff84f74090",
       "version_major": 2,
       "version_minor": 0
      },
      "text/plain": [
       "HBox(children=(FloatProgress(value=0.0, max=1.0), HTML(value='')))"
      ]
     },
     "metadata": {},
     "output_type": "display_data"
    },
    {
     "name": "stdout",
     "output_type": "stream",
     "text": [
      "\n",
      "Using 5 points in direction 0\n",
      "Using 6 points in direction 2\n",
      "Using 5 points in direction 0\n",
      "Using 1 points in direction 1\n",
      "Using 6 points in direction 2\n"
     ]
    },
    {
     "data": {
      "application/vnd.jupyter.widget-view+json": {
       "model_id": "61d6d6aabbba45f5a927988f8557e2c2",
       "version_major": 2,
       "version_minor": 0
      },
      "text/plain": [
       "HBox(children=(FloatProgress(value=1.0, bar_style='info', max=1.0), HTML(value='')))"
      ]
     },
     "metadata": {},
     "output_type": "display_data"
    },
    {
     "name": "stdout",
     "output_type": "stream",
     "text": [
      "\n"
     ]
    },
    {
     "data": {
      "application/vnd.jupyter.widget-view+json": {
       "model_id": "abbfdfc022294760862e1798761a8b6e",
       "version_major": 2,
       "version_minor": 0
      },
      "text/plain": [
       "HBox(children=(FloatProgress(value=0.0, max=3.0), HTML(value='')))"
      ]
     },
     "metadata": {},
     "output_type": "display_data"
    },
    {
     "name": "stdout",
     "output_type": "stream",
     "text": [
      "Using 5 points in direction 0\n",
      "Using 1 points in direction 1\n",
      "Using 6 points in direction 2\n",
      "Using 5 points in direction 0\n",
      "Using 6 points in direction 2\n",
      "Using 5 points in direction 0\n",
      "Using 1 points in direction 1\n",
      "Using 6 points in direction 2\n",
      "Using 5 points in direction 0\n",
      "Using 6 points in direction 2\n",
      "\n"
     ]
    },
    {
     "data": {
      "application/vnd.jupyter.widget-view+json": {
       "model_id": "487f9ca157684cafb806185ac9b06ae5",
       "version_major": 2,
       "version_minor": 0
      },
      "text/plain": [
       "HBox(children=(FloatProgress(value=0.0, max=1.0), HTML(value='')))"
      ]
     },
     "metadata": {},
     "output_type": "display_data"
    },
    {
     "name": "stdout",
     "output_type": "stream",
     "text": [
      "\n",
      "Using 5 points in direction 0\n",
      "Using 6 points in direction 2\n",
      "Using 5 points in direction 0\n",
      "Using 1 points in direction 1\n",
      "Using 6 points in direction 2\n"
     ]
    },
    {
     "data": {
      "application/vnd.jupyter.widget-view+json": {
       "model_id": "b640ac185c934a0e9a6f06771ae33240",
       "version_major": 2,
       "version_minor": 0
      },
      "text/plain": [
       "HBox(children=(FloatProgress(value=1.0, bar_style='info', max=1.0), HTML(value='')))"
      ]
     },
     "metadata": {},
     "output_type": "display_data"
    },
    {
     "name": "stdout",
     "output_type": "stream",
     "text": [
      "\n"
     ]
    },
    {
     "data": {
      "application/vnd.jupyter.widget-view+json": {
       "model_id": "45db4f357ff4496e93440e1429416ef5",
       "version_major": 2,
       "version_minor": 0
      },
      "text/plain": [
       "HBox(children=(FloatProgress(value=0.0, max=3.0), HTML(value='')))"
      ]
     },
     "metadata": {},
     "output_type": "display_data"
    },
    {
     "name": "stdout",
     "output_type": "stream",
     "text": [
      "Using 5 points in direction 0\n",
      "Using 1 points in direction 1\n",
      "Using 6 points in direction 2\n",
      "Using 5 points in direction 0\n",
      "Using 1 points in direction 1\n",
      "Using 6 points in direction 2\n",
      "\n"
     ]
    },
    {
     "data": {
      "application/vnd.jupyter.widget-view+json": {
       "model_id": "f31d8e4adc4d4386ad1c5c51c8ea0264",
       "version_major": 2,
       "version_minor": 0
      },
      "text/plain": [
       "HBox(children=(FloatProgress(value=0.0, max=1.0), HTML(value='')))"
      ]
     },
     "metadata": {},
     "output_type": "display_data"
    },
    {
     "name": "stdout",
     "output_type": "stream",
     "text": [
      "\n",
      "Using 5 points in direction 0\n",
      "Using 1 points in direction 1\n",
      "Using 6 points in direction 2\n"
     ]
    },
    {
     "data": {
      "application/vnd.jupyter.widget-view+json": {
       "model_id": "a2501ffa25a447eaafc5662d21b40477",
       "version_major": 2,
       "version_minor": 0
      },
      "text/plain": [
       "HBox(children=(FloatProgress(value=1.0, bar_style='info', max=1.0), HTML(value='')))"
      ]
     },
     "metadata": {},
     "output_type": "display_data"
    },
    {
     "name": "stdout",
     "output_type": "stream",
     "text": [
      "\n"
     ]
    },
    {
     "data": {
      "application/vnd.jupyter.widget-view+json": {
       "model_id": "a4ce42486118447aaccf372c242a8b18",
       "version_major": 2,
       "version_minor": 0
      },
      "text/plain": [
       "HBox(children=(FloatProgress(value=0.0, max=3.0), HTML(value='')))"
      ]
     },
     "metadata": {},
     "output_type": "display_data"
    },
    {
     "name": "stdout",
     "output_type": "stream",
     "text": [
      "Using 5 points in direction 0\n",
      "Using 6 points in direction 2\n",
      "Using 5 points in direction 0\n",
      "Using 1 points in direction 1\n",
      "Using 6 points in direction 2\n",
      "Using 5 points in direction 0\n",
      "Using 6 points in direction 2\n",
      "Using 5 points in direction 0\n",
      "Using 1 points in direction 1\n",
      "Using 6 points in direction 2\n",
      "\n"
     ]
    },
    {
     "data": {
      "application/vnd.jupyter.widget-view+json": {
       "model_id": "e30813fc586a48a88c66a10d989e9e55",
       "version_major": 2,
       "version_minor": 0
      },
      "text/plain": [
       "HBox(children=(FloatProgress(value=0.0, max=1.0), HTML(value='')))"
      ]
     },
     "metadata": {},
     "output_type": "display_data"
    },
    {
     "name": "stdout",
     "output_type": "stream",
     "text": [
      "\n",
      "Using 5 points in direction 0\n",
      "Using 6 points in direction 2\n",
      "Using 5 points in direction 0\n",
      "Using 1 points in direction 1\n",
      "Using 6 points in direction 2\n"
     ]
    },
    {
     "data": {
      "application/vnd.jupyter.widget-view+json": {
       "model_id": "949d27d5ff284978af940167bfaae0d1",
       "version_major": 2,
       "version_minor": 0
      },
      "text/plain": [
       "HBox(children=(FloatProgress(value=1.0, bar_style='info', max=1.0), HTML(value='')))"
      ]
     },
     "metadata": {},
     "output_type": "display_data"
    },
    {
     "name": "stdout",
     "output_type": "stream",
     "text": [
      "\n"
     ]
    },
    {
     "data": {
      "application/vnd.jupyter.widget-view+json": {
       "model_id": "b4305eb84a22421d8c87574f3521c45b",
       "version_major": 2,
       "version_minor": 0
      },
      "text/plain": [
       "HBox(children=(FloatProgress(value=0.0, max=3.0), HTML(value='')))"
      ]
     },
     "metadata": {},
     "output_type": "display_data"
    },
    {
     "name": "stdout",
     "output_type": "stream",
     "text": [
      "Using 5 points in direction 0\n",
      "Using 1 points in direction 1\n",
      "Using 6 points in direction 2\n",
      "Using 5 points in direction 0\n",
      "Using 1 points in direction 1\n",
      "Using 6 points in direction 2\n",
      "\n"
     ]
    },
    {
     "data": {
      "application/vnd.jupyter.widget-view+json": {
       "model_id": "bdf2d4b74eae44b3b72cf0d5a5afde42",
       "version_major": 2,
       "version_minor": 0
      },
      "text/plain": [
       "HBox(children=(FloatProgress(value=0.0, max=1.0), HTML(value='')))"
      ]
     },
     "metadata": {},
     "output_type": "display_data"
    },
    {
     "name": "stdout",
     "output_type": "stream",
     "text": [
      "\n",
      "Using 5 points in direction 0\n",
      "Using 1 points in direction 1\n",
      "Using 6 points in direction 2\n"
     ]
    },
    {
     "data": {
      "application/vnd.jupyter.widget-view+json": {
       "model_id": "bf83aef5fdf348f1a7a37e26e1710456",
       "version_major": 2,
       "version_minor": 0
      },
      "text/plain": [
       "HBox(children=(FloatProgress(value=1.0, bar_style='info', max=1.0), HTML(value='')))"
      ]
     },
     "metadata": {},
     "output_type": "display_data"
    },
    {
     "name": "stdout",
     "output_type": "stream",
     "text": [
      "\n"
     ]
    },
    {
     "data": {
      "application/vnd.jupyter.widget-view+json": {
       "model_id": "c20edd1dd9f24a25874d510bb11b9fcd",
       "version_major": 2,
       "version_minor": 0
      },
      "text/plain": [
       "HBox(children=(FloatProgress(value=0.0, max=1.0), HTML(value='')))"
      ]
     },
     "metadata": {},
     "output_type": "display_data"
    },
    {
     "name": "stdout",
     "output_type": "stream",
     "text": [
      "Using 5 points in direction 0\n",
      "Using 6 points in direction 2\n",
      "Using 5 points in direction 0\n",
      "Using 6 points in direction 2\n",
      "\n"
     ]
    },
    {
     "data": {
      "application/vnd.jupyter.widget-view+json": {
       "model_id": "703721a463a94904a3144c3ffbed1926",
       "version_major": 2,
       "version_minor": 0
      },
      "text/plain": [
       "HBox(children=(FloatProgress(value=0.0, max=2.0), HTML(value='')))"
      ]
     },
     "metadata": {},
     "output_type": "display_data"
    },
    {
     "name": "stdout",
     "output_type": "stream",
     "text": [
      "\n",
      "Using 5 points in direction 0\n",
      "Using 6 points in direction 2\n",
      "Using 5 points in direction 0\n",
      "Using 6 points in direction 2\n",
      "Using 5 points in direction 0\n",
      "Using 6 points in direction 2\n",
      "Using 5 points in direction 0\n",
      "Using 6 points in direction 2\n"
     ]
    },
    {
     "data": {
      "application/vnd.jupyter.widget-view+json": {
       "model_id": "a996e776b8f54da7b7825611aa585e22",
       "version_major": 2,
       "version_minor": 0
      },
      "text/plain": [
       "HBox(children=(FloatProgress(value=0.0, max=89346.0), HTML(value='')))"
      ]
     },
     "metadata": {},
     "output_type": "display_data"
    },
    {
     "name": "stdout",
     "output_type": "stream",
     "text": [
      "\n"
     ]
    },
    {
     "data": {
      "application/vnd.jupyter.widget-view+json": {
       "model_id": "90e0b8093733446eaf34f0b6b5037bdd",
       "version_major": 2,
       "version_minor": 0
      },
      "text/plain": [
       "HBox(children=(FloatProgress(value=0.0, max=2.0), HTML(value='')))"
      ]
     },
     "metadata": {},
     "output_type": "display_data"
    },
    {
     "name": "stdout",
     "output_type": "stream",
     "text": [
      "Using 5 points in direction 0\n",
      "Using 6 points in direction 2\n",
      "Using 5 points in direction 0\n",
      "Using 6 points in direction 2\n",
      "Using 5 points in direction 0\n",
      "Using 6 points in direction 2\n",
      "\n"
     ]
    },
    {
     "data": {
      "application/vnd.jupyter.widget-view+json": {
       "model_id": "595992ad855d4f89a068028c958e560e",
       "version_major": 2,
       "version_minor": 0
      },
      "text/plain": [
       "HBox(children=(FloatProgress(value=0.0, max=2.0), HTML(value='')))"
      ]
     },
     "metadata": {},
     "output_type": "display_data"
    },
    {
     "name": "stdout",
     "output_type": "stream",
     "text": [
      "\n",
      "Using 5 points in direction 0\n",
      "Using 6 points in direction 2\n",
      "Using 5 points in direction 0\n",
      "Using 6 points in direction 2\n",
      "Using 5 points in direction 0\n",
      "Using 6 points in direction 2\n"
     ]
    },
    {
     "data": {
      "application/vnd.jupyter.widget-view+json": {
       "model_id": "540202d90884450c9f540b895d8430a3",
       "version_major": 2,
       "version_minor": 0
      },
      "text/plain": [
       "HBox(children=(FloatProgress(value=1.0, bar_style='info', max=1.0), HTML(value='')))"
      ]
     },
     "metadata": {},
     "output_type": "display_data"
    },
    {
     "name": "stdout",
     "output_type": "stream",
     "text": [
      "\n"
     ]
    },
    {
     "data": {
      "application/vnd.jupyter.widget-view+json": {
       "model_id": "0705a321ec694700baf6d5b95c0dfd03",
       "version_major": 2,
       "version_minor": 0
      },
      "text/plain": [
       "HBox(children=(FloatProgress(value=0.0, max=2.0), HTML(value='')))"
      ]
     },
     "metadata": {},
     "output_type": "display_data"
    },
    {
     "name": "stdout",
     "output_type": "stream",
     "text": [
      "Using 5 points in direction 0\n",
      "Using 6 points in direction 2\n",
      "Using 5 points in direction 0\n",
      "Using 6 points in direction 2\n",
      "Using 5 points in direction 0\n",
      "Using 6 points in direction 2\n",
      "\n"
     ]
    },
    {
     "data": {
      "application/vnd.jupyter.widget-view+json": {
       "model_id": "bca9aceb01164e1a83f3b3f99280bffe",
       "version_major": 2,
       "version_minor": 0
      },
      "text/plain": [
       "HBox(children=(FloatProgress(value=0.0, max=2.0), HTML(value='')))"
      ]
     },
     "metadata": {},
     "output_type": "display_data"
    },
    {
     "name": "stdout",
     "output_type": "stream",
     "text": [
      "\n",
      "Using 5 points in direction 0\n",
      "Using 6 points in direction 2\n",
      "Using 5 points in direction 0\n",
      "Using 6 points in direction 2\n",
      "Using 5 points in direction 0\n",
      "Using 6 points in direction 2\n"
     ]
    },
    {
     "data": {
      "application/vnd.jupyter.widget-view+json": {
       "model_id": "c30c855aff9944c283f5672e372a25b0",
       "version_major": 2,
       "version_minor": 0
      },
      "text/plain": [
       "HBox(children=(FloatProgress(value=1.0, bar_style='info', max=1.0), HTML(value='')))"
      ]
     },
     "metadata": {},
     "output_type": "display_data"
    },
    {
     "name": "stdout",
     "output_type": "stream",
     "text": [
      "\n"
     ]
    },
    {
     "data": {
      "application/vnd.jupyter.widget-view+json": {
       "model_id": "83fc779891174be39bbbf2ccaf36c3b9",
       "version_major": 2,
       "version_minor": 0
      },
      "text/plain": [
       "HBox(children=(FloatProgress(value=0.0, max=4.0), HTML(value='')))"
      ]
     },
     "metadata": {},
     "output_type": "display_data"
    },
    {
     "name": "stdout",
     "output_type": "stream",
     "text": [
      "Using 5 points in direction 0\n",
      "Using 6 points in direction 2\n",
      "Using 5 points in direction 0\n",
      "Using 6 points in direction 2\n",
      "Using 5 points in direction 0\n",
      "Using 6 points in direction 2\n",
      "Using 5 points in direction 0\n",
      "Using 6 points in direction 2\n",
      "\n"
     ]
    },
    {
     "data": {
      "application/vnd.jupyter.widget-view+json": {
       "model_id": "d52f7a328fb94cef99b0d46c6b6539de",
       "version_major": 2,
       "version_minor": 0
      },
      "text/plain": [
       "HBox(children=(FloatProgress(value=0.0, max=2.0), HTML(value='')))"
      ]
     },
     "metadata": {},
     "output_type": "display_data"
    },
    {
     "name": "stdout",
     "output_type": "stream",
     "text": [
      "\n",
      "Using 5 points in direction 0\n",
      "Using 6 points in direction 2\n",
      "Using 5 points in direction 0\n",
      "Using 6 points in direction 2\n"
     ]
    },
    {
     "data": {
      "application/vnd.jupyter.widget-view+json": {
       "model_id": "c7f248cd1b184a29a6349b8b3086b955",
       "version_major": 2,
       "version_minor": 0
      },
      "text/plain": [
       "HBox(children=(FloatProgress(value=1.0, bar_style='info', max=1.0), HTML(value='')))"
      ]
     },
     "metadata": {},
     "output_type": "display_data"
    },
    {
     "name": "stdout",
     "output_type": "stream",
     "text": [
      "\n"
     ]
    },
    {
     "data": {
      "application/vnd.jupyter.widget-view+json": {
       "model_id": "44e7d69268eb4e0081994f72ba3f215a",
       "version_major": 2,
       "version_minor": 0
      },
      "text/plain": [
       "HBox(children=(FloatProgress(value=0.0, max=3.0), HTML(value='')))"
      ]
     },
     "metadata": {},
     "output_type": "display_data"
    },
    {
     "name": "stdout",
     "output_type": "stream",
     "text": [
      "Using 5 points in direction 0\n",
      "Using 6 points in direction 2\n",
      "Using 5 points in direction 0\n",
      "Using 6 points in direction 2\n",
      "Using 5 points in direction 0\n",
      "Using 6 points in direction 2\n",
      "Using 5 points in direction 0\n",
      "Using 6 points in direction 2\n",
      "\n"
     ]
    },
    {
     "data": {
      "application/vnd.jupyter.widget-view+json": {
       "model_id": "628b83ef401f4102af4ff8d8458c670f",
       "version_major": 2,
       "version_minor": 0
      },
      "text/plain": [
       "HBox(children=(FloatProgress(value=0.0, max=2.0), HTML(value='')))"
      ]
     },
     "metadata": {},
     "output_type": "display_data"
    },
    {
     "name": "stdout",
     "output_type": "stream",
     "text": [
      "\n",
      "Using 5 points in direction 0\n",
      "Using 6 points in direction 2\n",
      "Using 5 points in direction 0\n",
      "Using 6 points in direction 2\n",
      "Using 5 points in direction 0\n",
      "Using 6 points in direction 2\n"
     ]
    },
    {
     "data": {
      "application/vnd.jupyter.widget-view+json": {
       "model_id": "e3ee867d5ccc4026b7c147279f0875bc",
       "version_major": 2,
       "version_minor": 0
      },
      "text/plain": [
       "HBox(children=(FloatProgress(value=1.0, bar_style='info', max=1.0), HTML(value='')))"
      ]
     },
     "metadata": {},
     "output_type": "display_data"
    },
    {
     "name": "stdout",
     "output_type": "stream",
     "text": [
      "\n"
     ]
    },
    {
     "data": {
      "application/vnd.jupyter.widget-view+json": {
       "model_id": "8a9af042fffd4b1a897d5d20ecb4d362",
       "version_major": 2,
       "version_minor": 0
      },
      "text/plain": [
       "HBox(children=(FloatProgress(value=0.0, max=5.0), HTML(value='')))"
      ]
     },
     "metadata": {},
     "output_type": "display_data"
    },
    {
     "name": "stdout",
     "output_type": "stream",
     "text": [
      "Using 5 points in direction 0\n",
      "Using 6 points in direction 2\n",
      "Using 5 points in direction 0\n",
      "Using 6 points in direction 2\n",
      "Using 5 points in direction 0\n",
      "Using 6 points in direction 2\n",
      "Using 5 points in direction 0\n",
      "Using 6 points in direction 2\n",
      "Using 5 points in direction 0\n",
      "Using 6 points in direction 2\n",
      "\n"
     ]
    },
    {
     "data": {
      "application/vnd.jupyter.widget-view+json": {
       "model_id": "c3e59df377ce4c5e8d2189c2839ea3d8",
       "version_major": 2,
       "version_minor": 0
      },
      "text/plain": [
       "HBox(children=(FloatProgress(value=0.0, max=2.0), HTML(value='')))"
      ]
     },
     "metadata": {},
     "output_type": "display_data"
    },
    {
     "name": "stdout",
     "output_type": "stream",
     "text": [
      "\n",
      "Using 5 points in direction 0\n",
      "Using 6 points in direction 2\n",
      "Using 5 points in direction 0\n",
      "Using 6 points in direction 2\n"
     ]
    },
    {
     "data": {
      "application/vnd.jupyter.widget-view+json": {
       "model_id": "a9fe1e89427f4efbbe5e8f87086591c6",
       "version_major": 2,
       "version_minor": 0
      },
      "text/plain": [
       "HBox(children=(FloatProgress(value=1.0, bar_style='info', max=1.0), HTML(value='')))"
      ]
     },
     "metadata": {},
     "output_type": "display_data"
    },
    {
     "name": "stdout",
     "output_type": "stream",
     "text": [
      "\n"
     ]
    },
    {
     "data": {
      "application/vnd.jupyter.widget-view+json": {
       "model_id": "6db086e4c22c4d878cf913558dde88e5",
       "version_major": 2,
       "version_minor": 0
      },
      "text/plain": [
       "HBox(children=(FloatProgress(value=0.0, max=3.0), HTML(value='')))"
      ]
     },
     "metadata": {},
     "output_type": "display_data"
    },
    {
     "name": "stdout",
     "output_type": "stream",
     "text": [
      "Using 5 points in direction 0\n",
      "Using 6 points in direction 2\n",
      "Using 5 points in direction 0\n",
      "Using 6 points in direction 2\n",
      "Using 5 points in direction 0\n",
      "Using 6 points in direction 2\n",
      "Using 5 points in direction 0\n",
      "Using 6 points in direction 2\n",
      "\n"
     ]
    },
    {
     "data": {
      "application/vnd.jupyter.widget-view+json": {
       "model_id": "15453976af8b4c7e9b34b799d0ed130a",
       "version_major": 2,
       "version_minor": 0
      },
      "text/plain": [
       "HBox(children=(FloatProgress(value=0.0, max=2.0), HTML(value='')))"
      ]
     },
     "metadata": {},
     "output_type": "display_data"
    },
    {
     "name": "stdout",
     "output_type": "stream",
     "text": [
      "\n",
      "Using 5 points in direction 0\n",
      "Using 6 points in direction 2\n",
      "Using 5 points in direction 0\n",
      "Using 6 points in direction 2\n",
      "Using 5 points in direction 0\n",
      "Using 6 points in direction 2\n"
     ]
    },
    {
     "data": {
      "application/vnd.jupyter.widget-view+json": {
       "model_id": "125e633107b54e1281ce52438d933db0",
       "version_major": 2,
       "version_minor": 0
      },
      "text/plain": [
       "HBox(children=(FloatProgress(value=1.0, bar_style='info', max=1.0), HTML(value='')))"
      ]
     },
     "metadata": {},
     "output_type": "display_data"
    },
    {
     "name": "stdout",
     "output_type": "stream",
     "text": [
      "\n"
     ]
    },
    {
     "data": {
      "application/vnd.jupyter.widget-view+json": {
       "model_id": "af6e84bf6a484ac2af04f61ba2e4083e",
       "version_major": 2,
       "version_minor": 0
      },
      "text/plain": [
       "HBox(children=(FloatProgress(value=0.0, max=5.0), HTML(value='')))"
      ]
     },
     "metadata": {},
     "output_type": "display_data"
    },
    {
     "name": "stdout",
     "output_type": "stream",
     "text": [
      "Using 5 points in direction 0\n",
      "Using 6 points in direction 2\n",
      "Using 5 points in direction 0\n",
      "Using 6 points in direction 2\n",
      "Using 5 points in direction 0\n",
      "Using 6 points in direction 2\n",
      "Using 5 points in direction 0\n",
      "Using 6 points in direction 2\n",
      "Using 5 points in direction 0\n",
      "Using 6 points in direction 2\n",
      "\n"
     ]
    },
    {
     "data": {
      "application/vnd.jupyter.widget-view+json": {
       "model_id": "77a2c8fca0f24d1bb306f0e61dccd116",
       "version_major": 2,
       "version_minor": 0
      },
      "text/plain": [
       "HBox(children=(FloatProgress(value=0.0, max=2.0), HTML(value='')))"
      ]
     },
     "metadata": {},
     "output_type": "display_data"
    },
    {
     "name": "stdout",
     "output_type": "stream",
     "text": [
      "\n",
      "Using 5 points in direction 0\n",
      "Using 6 points in direction 2\n",
      "Using 5 points in direction 0\n",
      "Using 6 points in direction 2\n"
     ]
    },
    {
     "data": {
      "application/vnd.jupyter.widget-view+json": {
       "model_id": "c70b360a41fa49b8beb8567c3e08e8c5",
       "version_major": 2,
       "version_minor": 0
      },
      "text/plain": [
       "HBox(children=(FloatProgress(value=1.0, bar_style='info', max=1.0), HTML(value='')))"
      ]
     },
     "metadata": {},
     "output_type": "display_data"
    },
    {
     "name": "stdout",
     "output_type": "stream",
     "text": [
      "\n"
     ]
    },
    {
     "data": {
      "application/vnd.jupyter.widget-view+json": {
       "model_id": "35e101ef31af45049bc3b146e1f356f8",
       "version_major": 2,
       "version_minor": 0
      },
      "text/plain": [
       "HBox(children=(FloatProgress(value=0.0, max=2.0), HTML(value='')))"
      ]
     },
     "metadata": {},
     "output_type": "display_data"
    },
    {
     "name": "stdout",
     "output_type": "stream",
     "text": [
      "Using 5 points in direction 0\n",
      "Using 6 points in direction 2\n",
      "Using 5 points in direction 0\n",
      "Using 6 points in direction 2\n",
      "Using 5 points in direction 0\n",
      "Using 6 points in direction 2\n",
      "\n"
     ]
    },
    {
     "data": {
      "application/vnd.jupyter.widget-view+json": {
       "model_id": "41d71ac4336049a1af16134bf56692d6",
       "version_major": 2,
       "version_minor": 0
      },
      "text/plain": [
       "HBox(children=(FloatProgress(value=0.0, max=2.0), HTML(value='')))"
      ]
     },
     "metadata": {},
     "output_type": "display_data"
    },
    {
     "name": "stdout",
     "output_type": "stream",
     "text": [
      "\n",
      "Using 5 points in direction 0\n",
      "Using 6 points in direction 2\n",
      "Using 5 points in direction 0\n",
      "Using 6 points in direction 2\n",
      "Using 5 points in direction 0\n",
      "Using 6 points in direction 2\n"
     ]
    },
    {
     "data": {
      "application/vnd.jupyter.widget-view+json": {
       "model_id": "936e71017dcd413facd9d7bed7afe349",
       "version_major": 2,
       "version_minor": 0
      },
      "text/plain": [
       "HBox(children=(FloatProgress(value=1.0, bar_style='info', max=1.0), HTML(value='')))"
      ]
     },
     "metadata": {},
     "output_type": "display_data"
    },
    {
     "name": "stdout",
     "output_type": "stream",
     "text": [
      "\n"
     ]
    },
    {
     "data": {
      "application/vnd.jupyter.widget-view+json": {
       "model_id": "0361235bbded41108809ca6f01a6ab59",
       "version_major": 2,
       "version_minor": 0
      },
      "text/plain": [
       "HBox(children=(FloatProgress(value=0.0, max=4.0), HTML(value='')))"
      ]
     },
     "metadata": {},
     "output_type": "display_data"
    },
    {
     "name": "stdout",
     "output_type": "stream",
     "text": [
      "Using 5 points in direction 0\n",
      "Using 6 points in direction 2\n",
      "Using 5 points in direction 0\n",
      "Using 6 points in direction 2\n",
      "Using 5 points in direction 0\n",
      "Using 6 points in direction 2\n",
      "Using 5 points in direction 0\n",
      "Using 6 points in direction 2\n",
      "\n"
     ]
    },
    {
     "data": {
      "application/vnd.jupyter.widget-view+json": {
       "model_id": "baf04528505c4b95bc8622e07b84a516",
       "version_major": 2,
       "version_minor": 0
      },
      "text/plain": [
       "HBox(children=(FloatProgress(value=0.0, max=2.0), HTML(value='')))"
      ]
     },
     "metadata": {},
     "output_type": "display_data"
    },
    {
     "name": "stdout",
     "output_type": "stream",
     "text": [
      "\n",
      "Using 5 points in direction 0\n",
      "Using 6 points in direction 2\n",
      "Using 5 points in direction 0\n",
      "Using 6 points in direction 2\n"
     ]
    },
    {
     "data": {
      "application/vnd.jupyter.widget-view+json": {
       "model_id": "b6759857c7734b2fa282bafa24542971",
       "version_major": 2,
       "version_minor": 0
      },
      "text/plain": [
       "HBox(children=(FloatProgress(value=1.0, bar_style='info', max=1.0), HTML(value='')))"
      ]
     },
     "metadata": {},
     "output_type": "display_data"
    },
    {
     "name": "stdout",
     "output_type": "stream",
     "text": [
      "\n"
     ]
    },
    {
     "data": {
      "application/vnd.jupyter.widget-view+json": {
       "model_id": "e7fd001ebdbb4fa18dbf566ff08952f5",
       "version_major": 2,
       "version_minor": 0
      },
      "text/plain": [
       "HBox(children=(FloatProgress(value=0.0, max=4.0), HTML(value='')))"
      ]
     },
     "metadata": {},
     "output_type": "display_data"
    },
    {
     "name": "stdout",
     "output_type": "stream",
     "text": [
      "Using 5 points in direction 0\n",
      "Using 6 points in direction 2\n",
      "Using 5 points in direction 0\n",
      "Using 6 points in direction 2\n",
      "Using 5 points in direction 0\n",
      "Using 6 points in direction 2\n",
      "Using 5 points in direction 0\n",
      "Using 6 points in direction 2\n",
      "\n"
     ]
    },
    {
     "data": {
      "application/vnd.jupyter.widget-view+json": {
       "model_id": "346c15a13cca4330903b23815732b6b5",
       "version_major": 2,
       "version_minor": 0
      },
      "text/plain": [
       "HBox(children=(FloatProgress(value=0.0, max=2.0), HTML(value='')))"
      ]
     },
     "metadata": {},
     "output_type": "display_data"
    },
    {
     "name": "stdout",
     "output_type": "stream",
     "text": [
      "\n",
      "Using 5 points in direction 0\n",
      "Using 6 points in direction 2\n",
      "Using 5 points in direction 0\n",
      "Using 6 points in direction 2\n"
     ]
    },
    {
     "data": {
      "application/vnd.jupyter.widget-view+json": {
       "model_id": "98968f8223fb4294a844887f3c1e94bd",
       "version_major": 2,
       "version_minor": 0
      },
      "text/plain": [
       "HBox(children=(FloatProgress(value=1.0, bar_style='info', max=1.0), HTML(value='')))"
      ]
     },
     "metadata": {},
     "output_type": "display_data"
    },
    {
     "name": "stdout",
     "output_type": "stream",
     "text": [
      "\n"
     ]
    },
    {
     "data": {
      "application/vnd.jupyter.widget-view+json": {
       "model_id": "199c4d3c5b804ff989eb3f8ef7bc3c5b",
       "version_major": 2,
       "version_minor": 0
      },
      "text/plain": [
       "HBox(children=(FloatProgress(value=0.0, max=2.0), HTML(value='')))"
      ]
     },
     "metadata": {},
     "output_type": "display_data"
    },
    {
     "name": "stdout",
     "output_type": "stream",
     "text": [
      "Using 5 points in direction 0\n",
      "Using 6 points in direction 2\n",
      "Using 5 points in direction 0\n",
      "Using 6 points in direction 2\n",
      "Using 5 points in direction 0\n",
      "Using 6 points in direction 2\n",
      "\n"
     ]
    },
    {
     "data": {
      "application/vnd.jupyter.widget-view+json": {
       "model_id": "d7fbbcdb7dce4b7d975accf1dccc5a18",
       "version_major": 2,
       "version_minor": 0
      },
      "text/plain": [
       "HBox(children=(FloatProgress(value=0.0, max=2.0), HTML(value='')))"
      ]
     },
     "metadata": {},
     "output_type": "display_data"
    },
    {
     "name": "stdout",
     "output_type": "stream",
     "text": [
      "\n",
      "Using 5 points in direction 0\n",
      "Using 6 points in direction 2\n",
      "Using 5 points in direction 0\n",
      "Using 6 points in direction 2\n",
      "Using 5 points in direction 0\n",
      "Using 6 points in direction 2\n"
     ]
    },
    {
     "data": {
      "application/vnd.jupyter.widget-view+json": {
       "model_id": "107eed5b21c44264ab6b9e3e8b9797f4",
       "version_major": 2,
       "version_minor": 0
      },
      "text/plain": [
       "HBox(children=(FloatProgress(value=1.0, bar_style='info', max=1.0), HTML(value='')))"
      ]
     },
     "metadata": {},
     "output_type": "display_data"
    },
    {
     "name": "stdout",
     "output_type": "stream",
     "text": [
      "\n"
     ]
    },
    {
     "data": {
      "application/vnd.jupyter.widget-view+json": {
       "model_id": "f736a646d59e4805ae840856979ae2d2",
       "version_major": 2,
       "version_minor": 0
      },
      "text/plain": [
       "HBox(children=(FloatProgress(value=0.0, max=4.0), HTML(value='')))"
      ]
     },
     "metadata": {},
     "output_type": "display_data"
    },
    {
     "name": "stdout",
     "output_type": "stream",
     "text": [
      "Using 5 points in direction 0\n",
      "Using 6 points in direction 2\n",
      "Using 5 points in direction 0\n",
      "Using 6 points in direction 2\n",
      "Using 5 points in direction 0\n",
      "Using 6 points in direction 2\n",
      "Using 5 points in direction 0\n",
      "Using 6 points in direction 2\n",
      "\n"
     ]
    },
    {
     "data": {
      "application/vnd.jupyter.widget-view+json": {
       "model_id": "e8005d2cee4b4edd8d5b5bb1b6261f27",
       "version_major": 2,
       "version_minor": 0
      },
      "text/plain": [
       "HBox(children=(FloatProgress(value=0.0, max=2.0), HTML(value='')))"
      ]
     },
     "metadata": {},
     "output_type": "display_data"
    },
    {
     "name": "stdout",
     "output_type": "stream",
     "text": [
      "\n",
      "Using 5 points in direction 0\n",
      "Using 6 points in direction 2\n",
      "Using 5 points in direction 0\n",
      "Using 6 points in direction 2\n"
     ]
    },
    {
     "data": {
      "application/vnd.jupyter.widget-view+json": {
       "model_id": "71330e7949e04c07b41a84593b4f2421",
       "version_major": 2,
       "version_minor": 0
      },
      "text/plain": [
       "HBox(children=(FloatProgress(value=1.0, bar_style='info', max=1.0), HTML(value='')))"
      ]
     },
     "metadata": {},
     "output_type": "display_data"
    },
    {
     "name": "stdout",
     "output_type": "stream",
     "text": [
      "\n"
     ]
    },
    {
     "data": {
      "application/vnd.jupyter.widget-view+json": {
       "model_id": "858aa352383541e3940497c8b47728e9",
       "version_major": 2,
       "version_minor": 0
      },
      "text/plain": [
       "HBox(children=(FloatProgress(value=0.0, max=4.0), HTML(value='')))"
      ]
     },
     "metadata": {},
     "output_type": "display_data"
    },
    {
     "name": "stdout",
     "output_type": "stream",
     "text": [
      "Using 5 points in direction 0\n",
      "Using 6 points in direction 2\n",
      "Using 5 points in direction 0\n",
      "Using 6 points in direction 2\n",
      "Using 5 points in direction 0\n",
      "Using 6 points in direction 2\n",
      "Using 5 points in direction 0\n",
      "Using 6 points in direction 2\n",
      "\n"
     ]
    },
    {
     "data": {
      "application/vnd.jupyter.widget-view+json": {
       "model_id": "8ac10d00867a445cb2e5c9736e8d3940",
       "version_major": 2,
       "version_minor": 0
      },
      "text/plain": [
       "HBox(children=(FloatProgress(value=0.0, max=2.0), HTML(value='')))"
      ]
     },
     "metadata": {},
     "output_type": "display_data"
    },
    {
     "name": "stdout",
     "output_type": "stream",
     "text": [
      "\n",
      "Using 5 points in direction 0\n",
      "Using 6 points in direction 2\n",
      "Using 5 points in direction 0\n",
      "Using 6 points in direction 2\n"
     ]
    },
    {
     "data": {
      "application/vnd.jupyter.widget-view+json": {
       "model_id": "095f2accbfc84a1693128f0b2a1e66a6",
       "version_major": 2,
       "version_minor": 0
      },
      "text/plain": [
       "HBox(children=(FloatProgress(value=1.0, bar_style='info', max=1.0), HTML(value='')))"
      ]
     },
     "metadata": {},
     "output_type": "display_data"
    },
    {
     "name": "stdout",
     "output_type": "stream",
     "text": [
      "\n",
      "\n"
     ]
    }
   ],
   "source": [
    "#Li3CrO4\n",
    "a = 9.677\n",
    "b = 2.934\n",
    "c = 5.005\n",
    "alpha = 90\n",
    "beta = 90\n",
    "gamma = 90\n",
    "d_tol = 1.5\n",
    "d_mins = {}\n",
    "hsgtests = []\n",
    "spgs = [62]\n",
    "\n",
    "atoms = [(4, 'Li'), (4, 'Fe'), (8, 'O')]\n",
    "lifeo2twothetas = [19.945, 25.569, 32.989,35.408, 35.728,36.634,37.057,40.151,40.528,45.473,48.678,50.493,51.501,52.228,52.551,55.990,58.436,60.110,60.370,63.298,64.127,66.016]\n",
    "lifeo2intensities = [100,33,38,8,43,23,13,24,12,34,9,3,8,10,13,12,9,18,15,8,12,6]\n",
    "         \n",
    "strucs_new_full = []\n",
    "\n",
    "for i in range(len(spgs)):\n",
    "    density = 1\n",
    "    \n",
    "    hsgtest = hsg.HierarchicalStructureGeneration(spgs[i], a,b,c, alpha, beta, gamma, atoms, d_tol, d_mins, \\\n",
    "                                                         use_asu = True)\n",
    "\n",
    "    for k in tqdm(range(len(hsgtest.filter_combinations))):\n",
    "        strucs_new=hsgtest.get_structure_grid(density,combination = k)\n",
    "        strucs_new_full.append([])\n",
    "        for struc in tqdm(strucs_new):\n",
    "            strucs_new_full[-1].append(hsgtest.get_pymatgen_structure(struc))"
   ]
  },
  {
   "cell_type": "markdown",
   "metadata": {},
   "source": [
    "# Calculate XRD patterns using Pymatgen"
   ]
  },
  {
   "cell_type": "code",
   "execution_count": 36,
   "metadata": {},
   "outputs": [
    {
     "data": {
      "application/vnd.jupyter.widget-view+json": {
       "model_id": "8a5bb05167b74fea96bf3e5b43fabfec",
       "version_major": 2,
       "version_minor": 0
      },
      "text/plain": [
       "HBox(children=(FloatProgress(value=0.0, max=21.0), HTML(value='')))"
      ]
     },
     "metadata": {},
     "output_type": "display_data"
    },
    {
     "name": "stdout",
     "output_type": "stream",
     "text": [
      "\n"
     ]
    }
   ],
   "source": [
    "matpatterns_all = []\n",
    "xrd_calc = xrd.XRDCalculator()\n",
    "for strucs_spg in tqdm(strucs_new_full):\n",
    "    patterns = []\n",
    "    for strucs in strucs_spg:\n",
    "        patterns.append(xrd_calc.get_pattern(strucs))\n",
    "    matpatterns_all.append(patterns)\n"
   ]
  },
  {
   "cell_type": "markdown",
   "metadata": {},
   "source": [
    "# Calculate R values"
   ]
  },
  {
   "cell_type": "code",
   "execution_count": 46,
   "metadata": {},
   "outputs": [
    {
     "data": {
      "application/vnd.jupyter.widget-view+json": {
       "model_id": "de2ba5fbf4624ebf941c3d94d811b2aa",
       "version_major": 2,
       "version_minor": 0
      },
      "text/plain": [
       "HBox(children=(FloatProgress(value=0.0, max=21.0), HTML(value='')))"
      ]
     },
     "metadata": {},
     "output_type": "display_data"
    },
    {
     "name": "stdout",
     "output_type": "stream",
     "text": [
      "\n"
     ]
    }
   ],
   "source": [
    "Rvalues = []\n",
    "for i in tqdm(range(len(matpatterns_all))):\n",
    "    Rvalues.append([])\n",
    "    for j in range(len(matpatterns_all[i])):\n",
    "        Rvalues[-1].append(hsg.get_R(matpatterns_all[i][j].x, matpatterns_all[i][j].y, lifeo2twothetas, lifeo2intensities))"
   ]
  },
  {
   "cell_type": "markdown",
   "metadata": {},
   "source": [
    "# Determine lowest R value structures for DFT relaxation"
   ]
  },
  {
   "cell_type": "code",
   "execution_count": 9,
   "metadata": {},
   "outputs": [],
   "source": [
    "lowests = []\n",
    "struc_indexes = []\n",
    "lowest = []\n",
    "for i in range(len(Rvalues)):\n",
    "    for k in range(len(Rvalues[i])):\n",
    "\n",
    "        if len(lowest) == 100:\n",
    "            order = np.argsort(lowest)\n",
    "            if Rvalues[i][k] < lowest[order[-1]]:\n",
    "                lowest[order[-1]] = Rvalues[i][k]\n",
    "                struc_indexes[order[-1]] = (i,k)\n",
    "        else:\n",
    "            lowest.append(Rvalues[i][k])\n",
    "            struc_indexes.append((i,k))\n",
    "\n",
    "test_strucs = []\n",
    "\n",
    "for index2 in struc_indexes:\n",
    "    test_strucs.append(strucs_new_full[index2[0]][index2[1]])\n"
   ]
  },
  {
   "cell_type": "code",
   "execution_count": null,
   "metadata": {},
   "outputs": [],
   "source": []
  },
  {
   "cell_type": "markdown",
   "metadata": {},
   "source": [
    "# R value comparison between discrete and continuous"
   ]
  },
  {
   "cell_type": "code",
   "execution_count": 38,
   "metadata": {},
   "outputs": [],
   "source": [
    "import csv\n",
    "lifeo2twothetascont = []\n",
    "lifeo2intensitiescont = []\n",
    "with open('lifeo2cont.csv', mode='r', encoding='utf-8-sig') as csv_file:\n",
    "    csv_reader = csv.reader(csv_file, delimiter=',')\n",
    "    line_count = 0\n",
    "    for row in csv_reader:\n",
    "        lifeo2intensitiescont.append(float(row[1]))\n",
    "        lifeo2twothetascont.append(float(row[0]))"
   ]
  },
  {
   "cell_type": "code",
   "execution_count": 39,
   "metadata": {},
   "outputs": [],
   "source": [
    "def gaussian_peaks(twothetas, intensities, twothetascont, intensitiescont, c = 0.1):\n",
    "\n",
    "    intensitiescont = np.zeros([1,len(twothetascont)])[0]\n",
    "    for i in range(len(twothetascont)):\n",
    "        for j in range(len(twothetas)):\n",
    "            intensitiescont[i] += intensities[j]*np.exp(-(twothetascont[i]-twothetas[j])**2\\\n",
    "            /(2*c**2))\n",
    "\n",
    "    return intensitiescont"
   ]
  },
  {
   "cell_type": "code",
   "execution_count": 50,
   "metadata": {},
   "outputs": [
    {
     "data": {
      "application/vnd.jupyter.widget-view+json": {
       "model_id": "7412ffa4ccee4823b04b78ae50af907a",
       "version_major": 2,
       "version_minor": 0
      },
      "text/plain": [
       "HBox(children=(FloatProgress(value=0.0, max=21.0), HTML(value='')))"
      ]
     },
     "metadata": {},
     "output_type": "display_data"
    },
    {
     "name": "stdout",
     "output_type": "stream",
     "text": [
      "\n"
     ]
    }
   ],
   "source": [
    "fervalues = []\n",
    "for i in tqdm(range(len(Rvalues))):\n",
    "    for j in range(len(Rvalues[i])):\n",
    "        fervalues.append(Rvalues[i][j])"
   ]
  },
  {
   "cell_type": "code",
   "execution_count": 40,
   "metadata": {},
   "outputs": [],
   "source": [
    "lifeo2intensitiesg = []\n",
    "\n",
    "for i in range(len(matpatterns_all)):\n",
    "    for j in range(len(matpatterns_all[i])):\n",
    "        lifeo2intensitiesg.append(gaussian_peaks(matpatterns_all[i][j].x, matpatterns_all[i][j].y, lifeo2twothetascont, lifeo2intensitiescont))\n"
   ]
  },
  {
   "cell_type": "code",
   "execution_count": 41,
   "metadata": {},
   "outputs": [
    {
     "data": {
      "application/vnd.jupyter.widget-view+json": {
       "model_id": "708a0847aced4f5ebe16498dcb1c9873",
       "version_major": 2,
       "version_minor": 0
      },
      "text/plain": [
       "HBox(children=(FloatProgress(value=0.0, max=89346.0), HTML(value='')))"
      ]
     },
     "metadata": {},
     "output_type": "display_data"
    },
    {
     "name": "stdout",
     "output_type": "stream",
     "text": [
      "\n"
     ]
    }
   ],
   "source": [
    "fervaluescont = []\n",
    "for i in tqdm(range(len(lifeo2intensitiesg))):\n",
    "        fervaluescont.append(hsg.get_Rcont(lifeo2twothetascont, lifeo2intensitiesg[i], lifeo2intensitiescont))"
   ]
  },
  {
   "cell_type": "code",
   "execution_count": 52,
   "metadata": {},
   "outputs": [
    {
     "data": {
      "text/plain": [
       "<matplotlib.collections.PathCollection at 0x7fcd9730c3d0>"
      ]
     },
     "execution_count": 52,
     "metadata": {},
     "output_type": "execute_result"
    },
    {
     "data": {
      "image/png": "[encoded data removed]",
      "text/plain": [
       "<Figure size 432x288 with 1 Axes>"
      ]
     },
     "metadata": {
      "needs_background": "light"
     },
     "output_type": "display_data"
    }
   ],
   "source": [
    "plt.scatter(fervalues, fervaluescont)\n"
   ]
  },
  {
   "cell_type": "code",
   "execution_count": null,
   "metadata": {},
   "outputs": [],
   "source": []
  }
 ],
 "metadata": {
  "kernelspec": {
   "display_name": "Python 3",
   "language": "python",
   "name": "python3"
  },
  "language_info": {
   "codemirror_mode": {
    "name": "ipython",
    "version": 3
   },
   "file_extension": ".py",
   "mimetype": "text/x-python",
   "name": "python",
   "nbconvert_exporter": "python",
   "pygments_lexer": "ipython3",
   "version": "3.8.3"
  }
 },
 "nbformat": 4,
 "nbformat_minor": 4
}
