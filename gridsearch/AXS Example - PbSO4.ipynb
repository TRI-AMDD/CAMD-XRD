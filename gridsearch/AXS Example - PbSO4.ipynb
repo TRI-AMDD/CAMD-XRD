{
 "cells": [
  {
   "cell_type": "markdown",
   "metadata": {},
   "source": [
    "# Import CAMD-XRD Package - hsg and relevant packages"
   ]
  },
  {
   "cell_type": "code",
   "execution_count": 1,
   "metadata": {},
   "outputs": [],
   "source": [
    "from tqdm.notebook import tqdm\n",
    "import hsg\n",
    "import numpy as np\n",
    "from pymatgen.analysis.diffraction import xrd\n",
    "from pymatgen.core import Structure"
   ]
  },
  {
   "cell_type": "markdown",
   "metadata": {},
   "source": [
    "# Relevant Parameters from PbSO4 Pattern\n"
   ]
  },
  {
   "cell_type": "code",
   "execution_count": 9,
   "metadata": {},
   "outputs": [
    {
     "data": {
      "application/vnd.jupyter.widget-view+json": {
       "model_id": "3bdfadeff14d438ab8aaffaff398155a",
       "version_major": 2,
       "version_minor": 0
      },
      "text/plain": [
       "HBox(children=(FloatProgress(value=0.0, max=35.0), HTML(value='')))"
      ]
     },
     "metadata": {},
     "output_type": "display_data"
    },
    {
     "data": {
      "application/vnd.jupyter.widget-view+json": {
       "model_id": "8eb0014d693049dc87656730c6cff01a",
       "version_major": 2,
       "version_minor": 0
      },
      "text/plain": [
       "HBox(children=(FloatProgress(value=0.0, max=3.0), HTML(value='')))"
      ]
     },
     "metadata": {},
     "output_type": "display_data"
    },
    {
     "name": "stdout",
     "output_type": "stream",
     "text": [
      "Using 1 points in direction 0\n",
      "Using 1 points in direction 1\n",
      "Using 2 points in direction 2\n",
      "Using 1 points in direction 0\n",
      "Using 2 points in direction 2\n",
      "Using 1 points in direction 0\n",
      "Using 2 points in direction 2\n",
      "Using 1 points in direction 0\n",
      "Using 2 points in direction 2\n",
      "Using 1 points in direction 0\n",
      "Using 1 points in direction 1\n",
      "Using 2 points in direction 2\n",
      "Using 1 points in direction 0\n",
      "Using 1 points in direction 1\n",
      "Using 2 points in direction 2\n",
      "\n"
     ]
    },
    {
     "data": {
      "application/vnd.jupyter.widget-view+json": {
       "model_id": "798d094815bb4c8d95bec878829d52b7",
       "version_major": 2,
       "version_minor": 0
      },
      "text/plain": [
       "HBox(children=(FloatProgress(value=0.0, max=2.0), HTML(value='')))"
      ]
     },
     "metadata": {},
     "output_type": "display_data"
    },
    {
     "name": "stdout",
     "output_type": "stream",
     "text": [
      "\n",
      "Using 1 points in direction 0\n",
      "Using 2 points in direction 2\n",
      "Using 1 points in direction 0\n",
      "Using 2 points in direction 2\n",
      "Using 1 points in direction 0\n",
      "Using 1 points in direction 1\n",
      "Using 2 points in direction 2\n",
      "Using 1 points in direction 0\n",
      "Using 1 points in direction 1\n",
      "Using 2 points in direction 2\n"
     ]
    },
    {
     "data": {
      "application/vnd.jupyter.widget-view+json": {
       "model_id": "14d912355327430c9b23be08334ee3f1",
       "version_major": 2,
       "version_minor": 0
      },
      "text/plain": [
       "HBox(children=(FloatProgress(value=1.0, bar_style='info', max=1.0), HTML(value='')))"
      ]
     },
     "metadata": {},
     "output_type": "display_data"
    },
    {
     "name": "stdout",
     "output_type": "stream",
     "text": [
      "\n"
     ]
    },
    {
     "data": {
      "application/vnd.jupyter.widget-view+json": {
       "model_id": "1204425e1f774e9491650d38a4d53e2b",
       "version_major": 2,
       "version_minor": 0
      },
      "text/plain": [
       "HBox(children=(FloatProgress(value=0.0, max=4.0), HTML(value='')))"
      ]
     },
     "metadata": {},
     "output_type": "display_data"
    },
    {
     "name": "stdout",
     "output_type": "stream",
     "text": [
      "Using 1 points in direction 0\n",
      "Using 1 points in direction 1\n",
      "Using 2 points in direction 2\n",
      "Using 1 points in direction 0\n",
      "Using 2 points in direction 2\n",
      "Using 1 points in direction 0\n",
      "Using 2 points in direction 2\n",
      "Using 1 points in direction 0\n",
      "Using 1 points in direction 1\n",
      "Using 2 points in direction 2\n",
      "Using 1 points in direction 0\n",
      "Using 1 points in direction 1\n",
      "Using 2 points in direction 2\n",
      "Using 1 points in direction 0\n",
      "Using 1 points in direction 1\n",
      "Using 2 points in direction 2\n",
      "\n"
     ]
    },
    {
     "data": {
      "application/vnd.jupyter.widget-view+json": {
       "model_id": "c2f49bd414ee43a39dfae1e0736f099e",
       "version_major": 2,
       "version_minor": 0
      },
      "text/plain": [
       "HBox(children=(FloatProgress(value=0.0, max=2.0), HTML(value='')))"
      ]
     },
     "metadata": {},
     "output_type": "display_data"
    },
    {
     "name": "stdout",
     "output_type": "stream",
     "text": [
      "\n",
      "Using 1 points in direction 0\n",
      "Using 2 points in direction 2\n",
      "Using 1 points in direction 0\n",
      "Using 1 points in direction 1\n",
      "Using 2 points in direction 2\n",
      "Using 1 points in direction 0\n",
      "Using 1 points in direction 1\n",
      "Using 2 points in direction 2\n"
     ]
    },
    {
     "data": {
      "application/vnd.jupyter.widget-view+json": {
       "model_id": "dee9fcde938d4173bd5c8adbe7615ed0",
       "version_major": 2,
       "version_minor": 0
      },
      "text/plain": [
       "HBox(children=(FloatProgress(value=1.0, bar_style='info', max=1.0), HTML(value='')))"
      ]
     },
     "metadata": {},
     "output_type": "display_data"
    },
    {
     "name": "stdout",
     "output_type": "stream",
     "text": [
      "\n"
     ]
    },
    {
     "data": {
      "application/vnd.jupyter.widget-view+json": {
       "model_id": "45c32e0d17ed4c9ba532ac8524bf9548",
       "version_major": 2,
       "version_minor": 0
      },
      "text/plain": [
       "HBox(children=(FloatProgress(value=0.0, max=4.0), HTML(value='')))"
      ]
     },
     "metadata": {},
     "output_type": "display_data"
    },
    {
     "name": "stdout",
     "output_type": "stream",
     "text": [
      "Using 1 points in direction 0\n",
      "Using 1 points in direction 1\n",
      "Using 2 points in direction 2\n",
      "Using 1 points in direction 0\n",
      "Using 2 points in direction 2\n",
      "Using 1 points in direction 0\n",
      "Using 2 points in direction 2\n",
      "Using 1 points in direction 0\n",
      "Using 1 points in direction 1\n",
      "Using 2 points in direction 2\n",
      "Using 1 points in direction 0\n",
      "Using 1 points in direction 1\n",
      "Using 2 points in direction 2\n",
      "Using 1 points in direction 0\n",
      "Using 1 points in direction 1\n",
      "Using 2 points in direction 2\n",
      "\n"
     ]
    },
    {
     "data": {
      "application/vnd.jupyter.widget-view+json": {
       "model_id": "ef9f6648fffa4a359d254feecd6ca0f9",
       "version_major": 2,
       "version_minor": 0
      },
      "text/plain": [
       "HBox(children=(FloatProgress(value=0.0, max=2.0), HTML(value='')))"
      ]
     },
     "metadata": {},
     "output_type": "display_data"
    },
    {
     "name": "stdout",
     "output_type": "stream",
     "text": [
      "\n",
      "Using 1 points in direction 0\n",
      "Using 2 points in direction 2\n",
      "Using 1 points in direction 0\n",
      "Using 1 points in direction 1\n",
      "Using 2 points in direction 2\n",
      "Using 1 points in direction 0\n",
      "Using 1 points in direction 1\n",
      "Using 2 points in direction 2\n"
     ]
    },
    {
     "data": {
      "application/vnd.jupyter.widget-view+json": {
       "model_id": "9d4209ddb67847969fad9a7ee4f47355",
       "version_major": 2,
       "version_minor": 0
      },
      "text/plain": [
       "HBox(children=(FloatProgress(value=1.0, bar_style='info', max=1.0), HTML(value='')))"
      ]
     },
     "metadata": {},
     "output_type": "display_data"
    },
    {
     "name": "stdout",
     "output_type": "stream",
     "text": [
      "\n"
     ]
    },
    {
     "data": {
      "application/vnd.jupyter.widget-view+json": {
       "model_id": "072ca3c672d6448e8b208654c53931b3",
       "version_major": 2,
       "version_minor": 0
      },
      "text/plain": [
       "HBox(children=(FloatProgress(value=0.0, max=4.0), HTML(value='')))"
      ]
     },
     "metadata": {},
     "output_type": "display_data"
    },
    {
     "name": "stdout",
     "output_type": "stream",
     "text": [
      "Using 1 points in direction 0\n",
      "Using 1 points in direction 1\n",
      "Using 2 points in direction 2\n",
      "Using 1 points in direction 0\n",
      "Using 2 points in direction 2\n",
      "Using 1 points in direction 0\n",
      "Using 1 points in direction 1\n",
      "Using 2 points in direction 2\n",
      "Using 1 points in direction 0\n",
      "Using 2 points in direction 2\n",
      "Using 1 points in direction 0\n",
      "Using 1 points in direction 1\n",
      "Using 2 points in direction 2\n",
      "Using 1 points in direction 0\n",
      "Using 1 points in direction 1\n",
      "Using 2 points in direction 2\n",
      "\n"
     ]
    },
    {
     "data": {
      "application/vnd.jupyter.widget-view+json": {
       "model_id": "0691a3ca6eb645e2a5c245f7c4abcbde",
       "version_major": 2,
       "version_minor": 0
      },
      "text/plain": [
       "HBox(children=(FloatProgress(value=0.0, max=2.0), HTML(value='')))"
      ]
     },
     "metadata": {},
     "output_type": "display_data"
    },
    {
     "name": "stdout",
     "output_type": "stream",
     "text": [
      "\n",
      "Using 1 points in direction 0\n",
      "Using 2 points in direction 2\n",
      "Using 1 points in direction 0\n",
      "Using 1 points in direction 1\n",
      "Using 2 points in direction 2\n",
      "Using 1 points in direction 0\n",
      "Using 1 points in direction 1\n",
      "Using 2 points in direction 2\n"
     ]
    },
    {
     "data": {
      "application/vnd.jupyter.widget-view+json": {
       "model_id": "60f4b6fe30c7479bb7e233c9a0850af9",
       "version_major": 2,
       "version_minor": 0
      },
      "text/plain": [
       "HBox(children=(FloatProgress(value=1.0, bar_style='info', max=1.0), HTML(value='')))"
      ]
     },
     "metadata": {},
     "output_type": "display_data"
    },
    {
     "name": "stdout",
     "output_type": "stream",
     "text": [
      "\n"
     ]
    },
    {
     "data": {
      "application/vnd.jupyter.widget-view+json": {
       "model_id": "9c74dd14bc9a40d6ba24b7a7a9a4b9f0",
       "version_major": 2,
       "version_minor": 0
      },
      "text/plain": [
       "HBox(children=(FloatProgress(value=0.0, max=4.0), HTML(value='')))"
      ]
     },
     "metadata": {},
     "output_type": "display_data"
    },
    {
     "name": "stdout",
     "output_type": "stream",
     "text": [
      "Using 1 points in direction 0\n",
      "Using 1 points in direction 1\n",
      "Using 2 points in direction 2\n",
      "Using 1 points in direction 0\n",
      "Using 1 points in direction 1\n",
      "Using 2 points in direction 2\n",
      "Using 1 points in direction 0\n",
      "Using 1 points in direction 1\n",
      "Using 2 points in direction 2\n",
      "Using 1 points in direction 0\n",
      "Using 1 points in direction 1\n",
      "Using 2 points in direction 2\n",
      "\n"
     ]
    },
    {
     "data": {
      "application/vnd.jupyter.widget-view+json": {
       "model_id": "b1976984cdf34e3b9264b21066bb2f43",
       "version_major": 2,
       "version_minor": 0
      },
      "text/plain": [
       "HBox(children=(FloatProgress(value=0.0, max=2.0), HTML(value='')))"
      ]
     },
     "metadata": {},
     "output_type": "display_data"
    },
    {
     "name": "stdout",
     "output_type": "stream",
     "text": [
      "\n",
      "Using 1 points in direction 0\n",
      "Using 1 points in direction 1\n",
      "Using 2 points in direction 2\n",
      "Using 1 points in direction 0\n",
      "Using 1 points in direction 1\n",
      "Using 2 points in direction 2\n"
     ]
    },
    {
     "data": {
      "application/vnd.jupyter.widget-view+json": {
       "model_id": "70f978d0cf3a4cf7b0a43abf9d45e83d",
       "version_major": 2,
       "version_minor": 0
      },
      "text/plain": [
       "HBox(children=(FloatProgress(value=1.0, bar_style='info', max=1.0), HTML(value='')))"
      ]
     },
     "metadata": {},
     "output_type": "display_data"
    },
    {
     "name": "stdout",
     "output_type": "stream",
     "text": [
      "\n"
     ]
    },
    {
     "data": {
      "application/vnd.jupyter.widget-view+json": {
       "model_id": "2128296edb14483ca073a8f8d82b77df",
       "version_major": 2,
       "version_minor": 0
      },
      "text/plain": [
       "HBox(children=(FloatProgress(value=0.0, max=4.0), HTML(value='')))"
      ]
     },
     "metadata": {},
     "output_type": "display_data"
    },
    {
     "name": "stdout",
     "output_type": "stream",
     "text": [
      "Using 1 points in direction 0\n",
      "Using 2 points in direction 2\n",
      "Using 1 points in direction 0\n",
      "Using 1 points in direction 1\n",
      "Using 2 points in direction 2\n",
      "Using 1 points in direction 0\n",
      "Using 2 points in direction 2\n",
      "Using 1 points in direction 0\n",
      "Using 1 points in direction 1\n",
      "Using 2 points in direction 2\n",
      "Using 1 points in direction 0\n",
      "Using 1 points in direction 1\n",
      "Using 2 points in direction 2\n",
      "Using 1 points in direction 0\n",
      "Using 1 points in direction 1\n",
      "Using 2 points in direction 2\n",
      "\n"
     ]
    },
    {
     "data": {
      "application/vnd.jupyter.widget-view+json": {
       "model_id": "ebb1f0588f094715a4c772b724847790",
       "version_major": 2,
       "version_minor": 0
      },
      "text/plain": [
       "HBox(children=(FloatProgress(value=0.0, max=2.0), HTML(value='')))"
      ]
     },
     "metadata": {},
     "output_type": "display_data"
    },
    {
     "name": "stdout",
     "output_type": "stream",
     "text": [
      "\n",
      "Using 1 points in direction 0\n",
      "Using 2 points in direction 2\n",
      "Using 1 points in direction 0\n",
      "Using 1 points in direction 1\n",
      "Using 2 points in direction 2\n",
      "Using 1 points in direction 0\n",
      "Using 1 points in direction 1\n",
      "Using 2 points in direction 2\n"
     ]
    },
    {
     "data": {
      "application/vnd.jupyter.widget-view+json": {
       "model_id": "09749c5d55d64ae89b0081fa9e22a943",
       "version_major": 2,
       "version_minor": 0
      },
      "text/plain": [
       "HBox(children=(FloatProgress(value=1.0, bar_style='info', max=1.0), HTML(value='')))"
      ]
     },
     "metadata": {},
     "output_type": "display_data"
    },
    {
     "name": "stdout",
     "output_type": "stream",
     "text": [
      "\n"
     ]
    },
    {
     "data": {
      "application/vnd.jupyter.widget-view+json": {
       "model_id": "ebbf149c13904f7689c763e394018cf4",
       "version_major": 2,
       "version_minor": 0
      },
      "text/plain": [
       "HBox(children=(FloatProgress(value=0.0, max=4.0), HTML(value='')))"
      ]
     },
     "metadata": {},
     "output_type": "display_data"
    },
    {
     "name": "stdout",
     "output_type": "stream",
     "text": [
      "Using 1 points in direction 0\n",
      "Using 1 points in direction 1\n",
      "Using 2 points in direction 2\n",
      "Using 1 points in direction 0\n",
      "Using 1 points in direction 1\n",
      "Using 2 points in direction 2\n",
      "Using 1 points in direction 0\n",
      "Using 1 points in direction 1\n",
      "Using 2 points in direction 2\n",
      "Using 1 points in direction 0\n",
      "Using 1 points in direction 1\n",
      "Using 2 points in direction 2\n",
      "\n"
     ]
    },
    {
     "data": {
      "application/vnd.jupyter.widget-view+json": {
       "model_id": "acbea66f3868481982b017049ff7f887",
       "version_major": 2,
       "version_minor": 0
      },
      "text/plain": [
       "HBox(children=(FloatProgress(value=0.0, max=2.0), HTML(value='')))"
      ]
     },
     "metadata": {},
     "output_type": "display_data"
    },
    {
     "name": "stdout",
     "output_type": "stream",
     "text": [
      "\n",
      "Using 1 points in direction 0\n",
      "Using 1 points in direction 1\n",
      "Using 2 points in direction 2\n",
      "Using 1 points in direction 0\n",
      "Using 1 points in direction 1\n",
      "Using 2 points in direction 2\n"
     ]
    },
    {
     "data": {
      "application/vnd.jupyter.widget-view+json": {
       "model_id": "e684e66ce7e64e10908da486a99bae46",
       "version_major": 2,
       "version_minor": 0
      },
      "text/plain": [
       "HBox(children=(FloatProgress(value=1.0, bar_style='info', max=1.0), HTML(value='')))"
      ]
     },
     "metadata": {},
     "output_type": "display_data"
    },
    {
     "name": "stdout",
     "output_type": "stream",
     "text": [
      "\n"
     ]
    },
    {
     "data": {
      "application/vnd.jupyter.widget-view+json": {
       "model_id": "202a3859a43a4cf8b1bac944437369ed",
       "version_major": 2,
       "version_minor": 0
      },
      "text/plain": [
       "HBox(children=(FloatProgress(value=0.0, max=3.0), HTML(value='')))"
      ]
     },
     "metadata": {},
     "output_type": "display_data"
    },
    {
     "name": "stdout",
     "output_type": "stream",
     "text": [
      "Using 1 points in direction 0\n",
      "Using 1 points in direction 1\n",
      "Using 2 points in direction 2\n",
      "Using 1 points in direction 0\n",
      "Using 2 points in direction 2\n",
      "Using 1 points in direction 0\n",
      "Using 2 points in direction 2\n",
      "Using 1 points in direction 0\n",
      "Using 2 points in direction 2\n",
      "Using 1 points in direction 0\n",
      "Using 1 points in direction 1\n",
      "Using 2 points in direction 2\n",
      "Using 1 points in direction 0\n",
      "Using 2 points in direction 2\n",
      "\n"
     ]
    },
    {
     "data": {
      "application/vnd.jupyter.widget-view+json": {
       "model_id": "1cb8d9fdb3954f64a852ab73ca72475b",
       "version_major": 2,
       "version_minor": 0
      },
      "text/plain": [
       "HBox(children=(FloatProgress(value=0.0, max=3.0), HTML(value='')))"
      ]
     },
     "metadata": {},
     "output_type": "display_data"
    },
    {
     "name": "stdout",
     "output_type": "stream",
     "text": [
      "\n",
      "Using 1 points in direction 0\n",
      "Using 2 points in direction 2\n",
      "Using 1 points in direction 0\n",
      "Using 2 points in direction 2\n",
      "Using 1 points in direction 0\n",
      "Using 1 points in direction 1\n",
      "Using 2 points in direction 2\n",
      "Using 1 points in direction 0\n",
      "Using 2 points in direction 2\n",
      "Using 1 points in direction 0\n",
      "Using 2 points in direction 2\n"
     ]
    },
    {
     "data": {
      "application/vnd.jupyter.widget-view+json": {
       "model_id": "9c7d9b4595704d0d901b47821fa05abd",
       "version_major": 2,
       "version_minor": 0
      },
      "text/plain": [
       "HBox(children=(FloatProgress(value=1.0, bar_style='info', max=1.0), HTML(value='')))"
      ]
     },
     "metadata": {},
     "output_type": "display_data"
    },
    {
     "name": "stdout",
     "output_type": "stream",
     "text": [
      "\n"
     ]
    },
    {
     "data": {
      "application/vnd.jupyter.widget-view+json": {
       "model_id": "5c071a025214421b8184e56105eff3ac",
       "version_major": 2,
       "version_minor": 0
      },
      "text/plain": [
       "HBox(children=(FloatProgress(value=0.0, max=5.0), HTML(value='')))"
      ]
     },
     "metadata": {},
     "output_type": "display_data"
    },
    {
     "name": "stdout",
     "output_type": "stream",
     "text": [
      "Using 1 points in direction 0\n",
      "Using 1 points in direction 1\n",
      "Using 2 points in direction 2\n",
      "Using 1 points in direction 0\n",
      "Using 2 points in direction 2\n",
      "Using 1 points in direction 0\n",
      "Using 2 points in direction 2\n",
      "Using 1 points in direction 0\n",
      "Using 2 points in direction 2\n",
      "Using 1 points in direction 0\n",
      "Using 2 points in direction 2\n",
      "Using 1 points in direction 0\n",
      "Using 1 points in direction 1\n",
      "Using 2 points in direction 2\n",
      "Using 1 points in direction 0\n",
      "Using 1 points in direction 1\n",
      "Using 2 points in direction 2\n",
      "Using 1 points in direction 0\n",
      "Using 2 points in direction 2\n",
      "\n"
     ]
    },
    {
     "data": {
      "application/vnd.jupyter.widget-view+json": {
       "model_id": "9b16e1a04a494c5bb6ffc9918a8c242d",
       "version_major": 2,
       "version_minor": 0
      },
      "text/plain": [
       "HBox(children=(FloatProgress(value=0.0, max=3.0), HTML(value='')))"
      ]
     },
     "metadata": {},
     "output_type": "display_data"
    },
    {
     "name": "stdout",
     "output_type": "stream",
     "text": [
      "\n",
      "Using 1 points in direction 0\n",
      "Using 2 points in direction 2\n",
      "Using 1 points in direction 0\n",
      "Using 2 points in direction 2\n",
      "Using 1 points in direction 0\n",
      "Using 1 points in direction 1\n",
      "Using 2 points in direction 2\n",
      "Using 1 points in direction 0\n",
      "Using 2 points in direction 2\n"
     ]
    },
    {
     "data": {
      "application/vnd.jupyter.widget-view+json": {
       "model_id": "74058e0741704285a749caa0439622a2",
       "version_major": 2,
       "version_minor": 0
      },
      "text/plain": [
       "HBox(children=(FloatProgress(value=1.0, bar_style='info', max=1.0), HTML(value='')))"
      ]
     },
     "metadata": {},
     "output_type": "display_data"
    },
    {
     "name": "stdout",
     "output_type": "stream",
     "text": [
      "\n"
     ]
    },
    {
     "data": {
      "application/vnd.jupyter.widget-view+json": {
       "model_id": "5c5655b9fa15470596228faa70fb0b06",
       "version_major": 2,
       "version_minor": 0
      },
      "text/plain": [
       "HBox(children=(FloatProgress(value=0.0, max=5.0), HTML(value='')))"
      ]
     },
     "metadata": {},
     "output_type": "display_data"
    },
    {
     "name": "stdout",
     "output_type": "stream",
     "text": [
      "Using 1 points in direction 0\n",
      "Using 1 points in direction 1\n",
      "Using 2 points in direction 2\n",
      "Using 1 points in direction 0\n",
      "Using 2 points in direction 2\n",
      "Using 1 points in direction 0\n",
      "Using 2 points in direction 2\n",
      "Using 1 points in direction 0\n",
      "Using 2 points in direction 2\n",
      "Using 1 points in direction 0\n",
      "Using 1 points in direction 1\n",
      "Using 2 points in direction 2\n",
      "Using 1 points in direction 0\n",
      "Using 1 points in direction 1\n",
      "Using 2 points in direction 2\n",
      "Using 1 points in direction 0\n",
      "Using 2 points in direction 2\n",
      "Using 1 points in direction 0\n",
      "Using 2 points in direction 2\n",
      "\n"
     ]
    },
    {
     "data": {
      "application/vnd.jupyter.widget-view+json": {
       "model_id": "a645d20b0b7f4d098229b6feccf149b7",
       "version_major": 2,
       "version_minor": 0
      },
      "text/plain": [
       "HBox(children=(FloatProgress(value=0.0, max=3.0), HTML(value='')))"
      ]
     },
     "metadata": {},
     "output_type": "display_data"
    },
    {
     "name": "stdout",
     "output_type": "stream",
     "text": [
      "\n",
      "Using 1 points in direction 0\n",
      "Using 2 points in direction 2\n",
      "Using 1 points in direction 0\n",
      "Using 2 points in direction 2\n",
      "Using 1 points in direction 0\n",
      "Using 1 points in direction 1\n",
      "Using 2 points in direction 2\n",
      "Using 1 points in direction 0\n",
      "Using 2 points in direction 2\n"
     ]
    },
    {
     "data": {
      "application/vnd.jupyter.widget-view+json": {
       "model_id": "5131fb7506c8437abb9e6ee4a5274537",
       "version_major": 2,
       "version_minor": 0
      },
      "text/plain": [
       "HBox(children=(FloatProgress(value=1.0, bar_style='info', max=1.0), HTML(value='')))"
      ]
     },
     "metadata": {},
     "output_type": "display_data"
    },
    {
     "name": "stdout",
     "output_type": "stream",
     "text": [
      "\n"
     ]
    },
    {
     "data": {
      "application/vnd.jupyter.widget-view+json": {
       "model_id": "e785223f0ada4967bf6fc81b7fb3ba74",
       "version_major": 2,
       "version_minor": 0
      },
      "text/plain": [
       "HBox(children=(FloatProgress(value=0.0, max=7.0), HTML(value='')))"
      ]
     },
     "metadata": {},
     "output_type": "display_data"
    },
    {
     "name": "stdout",
     "output_type": "stream",
     "text": [
      "Using 1 points in direction 0\n",
      "Using 2 points in direction 2\n",
      "Using 1 points in direction 0\n",
      "Using 2 points in direction 2\n",
      "Using 1 points in direction 0\n",
      "Using 2 points in direction 2\n",
      "Using 1 points in direction 0\n",
      "Using 1 points in direction 1\n",
      "Using 2 points in direction 2\n",
      "Using 1 points in direction 0\n",
      "Using 1 points in direction 1\n",
      "Using 2 points in direction 2\n",
      "Using 1 points in direction 0\n",
      "Using 1 points in direction 1\n",
      "Using 2 points in direction 2\n",
      "Using 1 points in direction 0\n",
      "Using 2 points in direction 2\n",
      "Using 1 points in direction 0\n",
      "Using 2 points in direction 2\n",
      "\n"
     ]
    },
    {
     "data": {
      "application/vnd.jupyter.widget-view+json": {
       "model_id": "b071193bdcf34725a785e6e58b644302",
       "version_major": 2,
       "version_minor": 0
      },
      "text/plain": [
       "HBox(children=(FloatProgress(value=0.0, max=3.0), HTML(value='')))"
      ]
     },
     "metadata": {},
     "output_type": "display_data"
    },
    {
     "name": "stdout",
     "output_type": "stream",
     "text": [
      "\n",
      "Using 1 points in direction 0\n",
      "Using 2 points in direction 2\n",
      "Using 1 points in direction 0\n",
      "Using 2 points in direction 2\n",
      "Using 1 points in direction 0\n",
      "Using 1 points in direction 1\n",
      "Using 2 points in direction 2\n"
     ]
    },
    {
     "data": {
      "application/vnd.jupyter.widget-view+json": {
       "model_id": "a3526a34570a4207b58101e358e75e69",
       "version_major": 2,
       "version_minor": 0
      },
      "text/plain": [
       "HBox(children=(FloatProgress(value=1.0, bar_style='info', max=1.0), HTML(value='')))"
      ]
     },
     "metadata": {},
     "output_type": "display_data"
    },
    {
     "name": "stdout",
     "output_type": "stream",
     "text": [
      "\n"
     ]
    },
    {
     "data": {
      "application/vnd.jupyter.widget-view+json": {
       "model_id": "b18e08242f9646f3b8c1d1d582f76802",
       "version_major": 2,
       "version_minor": 0
      },
      "text/plain": [
       "HBox(children=(FloatProgress(value=0.0, max=6.0), HTML(value='')))"
      ]
     },
     "metadata": {},
     "output_type": "display_data"
    },
    {
     "name": "stdout",
     "output_type": "stream",
     "text": [
      "Using 1 points in direction 0\n",
      "Using 1 points in direction 1\n",
      "Using 2 points in direction 2\n",
      "Using 1 points in direction 0\n",
      "Using 2 points in direction 2\n",
      "Using 1 points in direction 0\n",
      "Using 2 points in direction 2\n",
      "Using 1 points in direction 0\n",
      "Using 2 points in direction 2\n",
      "Using 1 points in direction 0\n",
      "Using 2 points in direction 2\n",
      "Using 1 points in direction 0\n",
      "Using 2 points in direction 2\n",
      "Using 1 points in direction 0\n",
      "Using 1 points in direction 1\n",
      "Using 2 points in direction 2\n",
      "Using 1 points in direction 0\n",
      "Using 1 points in direction 1\n",
      "Using 2 points in direction 2\n",
      "Using 1 points in direction 0\n",
      "Using 2 points in direction 2\n",
      "\n"
     ]
    },
    {
     "data": {
      "application/vnd.jupyter.widget-view+json": {
       "model_id": "c50b6fc170d549dfa39090cf2e539dd8",
       "version_major": 2,
       "version_minor": 0
      },
      "text/plain": [
       "HBox(children=(FloatProgress(value=0.0, max=3.0), HTML(value='')))"
      ]
     },
     "metadata": {},
     "output_type": "display_data"
    },
    {
     "name": "stdout",
     "output_type": "stream",
     "text": [
      "\n",
      "Using 1 points in direction 0\n",
      "Using 2 points in direction 2\n",
      "Using 1 points in direction 0\n",
      "Using 1 points in direction 1\n",
      "Using 2 points in direction 2\n",
      "Using 1 points in direction 0\n",
      "Using 2 points in direction 2\n",
      "Using 1 points in direction 0\n",
      "Using 2 points in direction 2\n"
     ]
    },
    {
     "data": {
      "application/vnd.jupyter.widget-view+json": {
       "model_id": "4cb61c0a293849faa268409eea35d986",
       "version_major": 2,
       "version_minor": 0
      },
      "text/plain": [
       "HBox(children=(FloatProgress(value=1.0, bar_style='info', max=1.0), HTML(value='')))"
      ]
     },
     "metadata": {},
     "output_type": "display_data"
    },
    {
     "name": "stdout",
     "output_type": "stream",
     "text": [
      "\n"
     ]
    },
    {
     "data": {
      "application/vnd.jupyter.widget-view+json": {
       "model_id": "81586102b0254aa1969970f670a1eaf1",
       "version_major": 2,
       "version_minor": 0
      },
      "text/plain": [
       "HBox(children=(FloatProgress(value=0.0, max=9.0), HTML(value='')))"
      ]
     },
     "metadata": {},
     "output_type": "display_data"
    },
    {
     "name": "stdout",
     "output_type": "stream",
     "text": [
      "Using 1 points in direction 0\n",
      "Using 1 points in direction 1\n",
      "Using 2 points in direction 2\n",
      "Using 1 points in direction 0\n",
      "Using 2 points in direction 2\n",
      "Using 1 points in direction 0\n",
      "Using 2 points in direction 2\n",
      "Using 1 points in direction 0\n",
      "Using 2 points in direction 2\n",
      "Using 1 points in direction 0\n",
      "Using 2 points in direction 2\n",
      "Using 1 points in direction 0\n",
      "Using 2 points in direction 2\n",
      "Using 1 points in direction 0\n",
      "Using 1 points in direction 1\n",
      "Using 2 points in direction 2\n",
      "Using 1 points in direction 0\n",
      "Using 1 points in direction 1\n",
      "Using 2 points in direction 2\n",
      "Using 1 points in direction 0\n",
      "Using 1 points in direction 1\n",
      "Using 2 points in direction 2\n",
      "Using 1 points in direction 0\n",
      "Using 2 points in direction 2\n",
      "Using 1 points in direction 0\n",
      "Using 2 points in direction 2\n",
      "\n"
     ]
    },
    {
     "data": {
      "application/vnd.jupyter.widget-view+json": {
       "model_id": "eedffb75b9ed43c981405c874e456444",
       "version_major": 2,
       "version_minor": 0
      },
      "text/plain": [
       "HBox(children=(FloatProgress(value=0.0, max=3.0), HTML(value='')))"
      ]
     },
     "metadata": {},
     "output_type": "display_data"
    },
    {
     "name": "stdout",
     "output_type": "stream",
     "text": [
      "\n",
      "Using 1 points in direction 0\n",
      "Using 2 points in direction 2\n",
      "Using 1 points in direction 0\n",
      "Using 1 points in direction 1\n",
      "Using 2 points in direction 2\n",
      "Using 1 points in direction 0\n",
      "Using 2 points in direction 2\n"
     ]
    },
    {
     "data": {
      "application/vnd.jupyter.widget-view+json": {
       "model_id": "e2a83cb2a2dc417c87242c1033c59c31",
       "version_major": 2,
       "version_minor": 0
      },
      "text/plain": [
       "HBox(children=(FloatProgress(value=1.0, bar_style='info', max=1.0), HTML(value='')))"
      ]
     },
     "metadata": {},
     "output_type": "display_data"
    },
    {
     "name": "stdout",
     "output_type": "stream",
     "text": [
      "\n"
     ]
    },
    {
     "data": {
      "application/vnd.jupyter.widget-view+json": {
       "model_id": "9921dac194f6400b9f407abd7ddcf6bb",
       "version_major": 2,
       "version_minor": 0
      },
      "text/plain": [
       "HBox(children=(FloatProgress(value=0.0, max=6.0), HTML(value='')))"
      ]
     },
     "metadata": {},
     "output_type": "display_data"
    },
    {
     "name": "stdout",
     "output_type": "stream",
     "text": [
      "Using 1 points in direction 0\n",
      "Using 1 points in direction 1\n",
      "Using 2 points in direction 2\n",
      "Using 1 points in direction 0\n",
      "Using 2 points in direction 2\n",
      "Using 1 points in direction 0\n",
      "Using 2 points in direction 2\n",
      "Using 1 points in direction 0\n",
      "Using 2 points in direction 2\n",
      "Using 1 points in direction 0\n",
      "Using 2 points in direction 2\n",
      "Using 1 points in direction 0\n",
      "Using 1 points in direction 1\n",
      "Using 2 points in direction 2\n",
      "Using 1 points in direction 0\n",
      "Using 1 points in direction 1\n",
      "Using 2 points in direction 2\n",
      "Using 1 points in direction 0\n",
      "Using 2 points in direction 2\n",
      "Using 1 points in direction 0\n",
      "Using 2 points in direction 2\n",
      "\n"
     ]
    },
    {
     "data": {
      "application/vnd.jupyter.widget-view+json": {
       "model_id": "3adcb1d8e31144cfbcd8c59486b58e57",
       "version_major": 2,
       "version_minor": 0
      },
      "text/plain": [
       "HBox(children=(FloatProgress(value=0.0, max=3.0), HTML(value='')))"
      ]
     },
     "metadata": {},
     "output_type": "display_data"
    },
    {
     "name": "stdout",
     "output_type": "stream",
     "text": [
      "\n",
      "Using 1 points in direction 0\n",
      "Using 2 points in direction 2\n",
      "Using 1 points in direction 0\n",
      "Using 1 points in direction 1\n",
      "Using 2 points in direction 2\n",
      "Using 1 points in direction 0\n",
      "Using 2 points in direction 2\n",
      "Using 1 points in direction 0\n",
      "Using 2 points in direction 2\n"
     ]
    },
    {
     "data": {
      "application/vnd.jupyter.widget-view+json": {
       "model_id": "a082e0d6968a4aa7968d636722597d85",
       "version_major": 2,
       "version_minor": 0
      },
      "text/plain": [
       "HBox(children=(FloatProgress(value=1.0, bar_style='info', max=1.0), HTML(value='')))"
      ]
     },
     "metadata": {},
     "output_type": "display_data"
    },
    {
     "name": "stdout",
     "output_type": "stream",
     "text": [
      "\n"
     ]
    },
    {
     "data": {
      "application/vnd.jupyter.widget-view+json": {
       "model_id": "d8cb657c21bc480f8754762dc78735aa",
       "version_major": 2,
       "version_minor": 0
      },
      "text/plain": [
       "HBox(children=(FloatProgress(value=0.0, max=9.0), HTML(value='')))"
      ]
     },
     "metadata": {},
     "output_type": "display_data"
    },
    {
     "name": "stdout",
     "output_type": "stream",
     "text": [
      "Using 1 points in direction 0\n",
      "Using 1 points in direction 1\n",
      "Using 2 points in direction 2\n",
      "Using 1 points in direction 0\n",
      "Using 2 points in direction 2\n",
      "Using 1 points in direction 0\n",
      "Using 2 points in direction 2\n",
      "Using 1 points in direction 0\n",
      "Using 2 points in direction 2\n",
      "Using 1 points in direction 0\n",
      "Using 2 points in direction 2\n",
      "Using 1 points in direction 0\n",
      "Using 2 points in direction 2\n",
      "Using 1 points in direction 0\n",
      "Using 1 points in direction 1\n",
      "Using 2 points in direction 2\n",
      "Using 1 points in direction 0\n",
      "Using 1 points in direction 1\n",
      "Using 2 points in direction 2\n",
      "Using 1 points in direction 0\n",
      "Using 1 points in direction 1\n",
      "Using 2 points in direction 2\n",
      "Using 1 points in direction 0\n",
      "Using 2 points in direction 2\n",
      "Using 1 points in direction 0\n",
      "Using 2 points in direction 2\n",
      "\n"
     ]
    },
    {
     "data": {
      "application/vnd.jupyter.widget-view+json": {
       "model_id": "11f7adfd3c9c48b99bbe4484973789c8",
       "version_major": 2,
       "version_minor": 0
      },
      "text/plain": [
       "HBox(children=(FloatProgress(value=0.0, max=3.0), HTML(value='')))"
      ]
     },
     "metadata": {},
     "output_type": "display_data"
    },
    {
     "name": "stdout",
     "output_type": "stream",
     "text": [
      "\n",
      "Using 1 points in direction 0\n",
      "Using 2 points in direction 2\n",
      "Using 1 points in direction 0\n",
      "Using 1 points in direction 1\n",
      "Using 2 points in direction 2\n",
      "Using 1 points in direction 0\n",
      "Using 2 points in direction 2\n"
     ]
    },
    {
     "data": {
      "application/vnd.jupyter.widget-view+json": {
       "model_id": "ed19bdf63fb54067b28c2bf1bb525985",
       "version_major": 2,
       "version_minor": 0
      },
      "text/plain": [
       "HBox(children=(FloatProgress(value=1.0, bar_style='info', max=1.0), HTML(value='')))"
      ]
     },
     "metadata": {},
     "output_type": "display_data"
    },
    {
     "name": "stdout",
     "output_type": "stream",
     "text": [
      "\n"
     ]
    },
    {
     "data": {
      "application/vnd.jupyter.widget-view+json": {
       "model_id": "28605953a2eb44f79785182489272763",
       "version_major": 2,
       "version_minor": 0
      },
      "text/plain": [
       "HBox(children=(FloatProgress(value=0.0, max=5.0), HTML(value='')))"
      ]
     },
     "metadata": {},
     "output_type": "display_data"
    },
    {
     "name": "stdout",
     "output_type": "stream",
     "text": [
      "Using 1 points in direction 0\n",
      "Using 1 points in direction 1\n",
      "Using 2 points in direction 2\n",
      "Using 1 points in direction 0\n",
      "Using 2 points in direction 2\n",
      "Using 1 points in direction 0\n",
      "Using 2 points in direction 2\n",
      "Using 1 points in direction 0\n",
      "Using 2 points in direction 2\n",
      "Using 1 points in direction 0\n",
      "Using 2 points in direction 2\n",
      "Using 1 points in direction 0\n",
      "Using 1 points in direction 1\n",
      "Using 2 points in direction 2\n",
      "Using 1 points in direction 0\n",
      "Using 1 points in direction 1\n",
      "Using 2 points in direction 2\n",
      "Using 1 points in direction 0\n",
      "Using 2 points in direction 2\n",
      "\n"
     ]
    },
    {
     "data": {
      "application/vnd.jupyter.widget-view+json": {
       "model_id": "bd641d101d924a16bf4d677565497457",
       "version_major": 2,
       "version_minor": 0
      },
      "text/plain": [
       "HBox(children=(FloatProgress(value=0.0, max=3.0), HTML(value='')))"
      ]
     },
     "metadata": {},
     "output_type": "display_data"
    },
    {
     "name": "stdout",
     "output_type": "stream",
     "text": [
      "\n",
      "Using 1 points in direction 0\n",
      "Using 2 points in direction 2\n",
      "Using 1 points in direction 0\n",
      "Using 1 points in direction 1\n",
      "Using 2 points in direction 2\n",
      "Using 1 points in direction 0\n",
      "Using 2 points in direction 2\n",
      "Using 1 points in direction 0\n",
      "Using 2 points in direction 2\n"
     ]
    },
    {
     "data": {
      "application/vnd.jupyter.widget-view+json": {
       "model_id": "04da9c8345064da2bb9e5a070981550f",
       "version_major": 2,
       "version_minor": 0
      },
      "text/plain": [
       "HBox(children=(FloatProgress(value=1.0, bar_style='info', max=1.0), HTML(value='')))"
      ]
     },
     "metadata": {},
     "output_type": "display_data"
    },
    {
     "name": "stdout",
     "output_type": "stream",
     "text": [
      "\n"
     ]
    },
    {
     "data": {
      "application/vnd.jupyter.widget-view+json": {
       "model_id": "2313043f6f6b4fb78b627674a247d8d3",
       "version_major": 2,
       "version_minor": 0
      },
      "text/plain": [
       "HBox(children=(FloatProgress(value=0.0, max=8.0), HTML(value='')))"
      ]
     },
     "metadata": {},
     "output_type": "display_data"
    },
    {
     "name": "stdout",
     "output_type": "stream",
     "text": [
      "Using 1 points in direction 0\n",
      "Using 1 points in direction 1\n",
      "Using 2 points in direction 2\n",
      "Using 1 points in direction 0\n",
      "Using 2 points in direction 2\n",
      "Using 1 points in direction 0\n",
      "Using 2 points in direction 2\n",
      "Using 1 points in direction 0\n",
      "Using 2 points in direction 2\n",
      "Using 1 points in direction 0\n",
      "Using 2 points in direction 2\n",
      "Using 1 points in direction 0\n",
      "Using 1 points in direction 1\n",
      "Using 2 points in direction 2\n",
      "Using 1 points in direction 0\n",
      "Using 1 points in direction 1\n",
      "Using 2 points in direction 2\n",
      "Using 1 points in direction 0\n",
      "Using 1 points in direction 1\n",
      "Using 2 points in direction 2\n",
      "Using 1 points in direction 0\n",
      "Using 2 points in direction 2\n",
      "Using 1 points in direction 0\n",
      "Using 2 points in direction 2\n",
      "\n"
     ]
    },
    {
     "data": {
      "application/vnd.jupyter.widget-view+json": {
       "model_id": "2300c9eb5208481ab28e9a334f02455a",
       "version_major": 2,
       "version_minor": 0
      },
      "text/plain": [
       "HBox(children=(FloatProgress(value=0.0, max=3.0), HTML(value='')))"
      ]
     },
     "metadata": {},
     "output_type": "display_data"
    },
    {
     "name": "stdout",
     "output_type": "stream",
     "text": [
      "\n",
      "Using 1 points in direction 0\n",
      "Using 2 points in direction 2\n",
      "Using 1 points in direction 0\n",
      "Using 1 points in direction 1\n",
      "Using 2 points in direction 2\n",
      "Using 1 points in direction 0\n",
      "Using 2 points in direction 2\n"
     ]
    },
    {
     "data": {
      "application/vnd.jupyter.widget-view+json": {
       "model_id": "2bc8fd4261194ffb890c59b54e79eff3",
       "version_major": 2,
       "version_minor": 0
      },
      "text/plain": [
       "HBox(children=(FloatProgress(value=1.0, bar_style='info', max=1.0), HTML(value='')))"
      ]
     },
     "metadata": {},
     "output_type": "display_data"
    },
    {
     "name": "stdout",
     "output_type": "stream",
     "text": [
      "\n"
     ]
    },
    {
     "data": {
      "application/vnd.jupyter.widget-view+json": {
       "model_id": "22f41756dd93469a9bbcce2ab3c86fa8",
       "version_major": 2,
       "version_minor": 0
      },
      "text/plain": [
       "HBox(children=(FloatProgress(value=0.0, max=7.0), HTML(value='')))"
      ]
     },
     "metadata": {},
     "output_type": "display_data"
    },
    {
     "name": "stdout",
     "output_type": "stream",
     "text": [
      "Using 1 points in direction 0\n",
      "Using 1 points in direction 1\n",
      "Using 2 points in direction 2\n",
      "Using 1 points in direction 0\n",
      "Using 2 points in direction 2\n",
      "Using 1 points in direction 0\n",
      "Using 2 points in direction 2\n",
      "Using 1 points in direction 0\n",
      "Using 2 points in direction 2\n",
      "Using 1 points in direction 0\n",
      "Using 2 points in direction 2\n",
      "Using 1 points in direction 0\n",
      "Using 2 points in direction 2\n",
      "Using 1 points in direction 0\n",
      "Using 1 points in direction 1\n",
      "Using 2 points in direction 2\n",
      "Using 1 points in direction 0\n",
      "Using 1 points in direction 1\n",
      "Using 2 points in direction 2\n",
      "\n"
     ]
    },
    {
     "data": {
      "application/vnd.jupyter.widget-view+json": {
       "model_id": "c804762adc254eaea37430a78739aad2",
       "version_major": 2,
       "version_minor": 0
      },
      "text/plain": [
       "HBox(children=(FloatProgress(value=0.0, max=3.0), HTML(value='')))"
      ]
     },
     "metadata": {},
     "output_type": "display_data"
    },
    {
     "name": "stdout",
     "output_type": "stream",
     "text": [
      "\n",
      "Using 1 points in direction 0\n",
      "Using 1 points in direction 1\n",
      "Using 2 points in direction 2\n",
      "Using 1 points in direction 0\n",
      "Using 2 points in direction 2\n",
      "Using 1 points in direction 0\n",
      "Using 2 points in direction 2\n"
     ]
    },
    {
     "data": {
      "application/vnd.jupyter.widget-view+json": {
       "model_id": "35d73156c8e240799158a63634a7023b",
       "version_major": 2,
       "version_minor": 0
      },
      "text/plain": [
       "HBox(children=(FloatProgress(value=1.0, bar_style='info', max=1.0), HTML(value='')))"
      ]
     },
     "metadata": {},
     "output_type": "display_data"
    },
    {
     "name": "stdout",
     "output_type": "stream",
     "text": [
      "\n"
     ]
    },
    {
     "data": {
      "application/vnd.jupyter.widget-view+json": {
       "model_id": "993d49b2b00140b49774f7cf1c0c7bdb",
       "version_major": 2,
       "version_minor": 0
      },
      "text/plain": [
       "HBox(children=(FloatProgress(value=0.0, max=5.0), HTML(value='')))"
      ]
     },
     "metadata": {},
     "output_type": "display_data"
    },
    {
     "name": "stdout",
     "output_type": "stream",
     "text": [
      "Using 1 points in direction 0\n",
      "Using 1 points in direction 1\n",
      "Using 2 points in direction 2\n",
      "Using 1 points in direction 0\n",
      "Using 2 points in direction 2\n",
      "Using 1 points in direction 0\n",
      "Using 2 points in direction 2\n",
      "Using 1 points in direction 0\n",
      "Using 2 points in direction 2\n",
      "Using 1 points in direction 0\n",
      "Using 2 points in direction 2\n",
      "Using 1 points in direction 0\n",
      "Using 1 points in direction 1\n",
      "Using 2 points in direction 2\n",
      "Using 1 points in direction 0\n",
      "Using 1 points in direction 1\n",
      "Using 2 points in direction 2\n",
      "Using 1 points in direction 0\n",
      "Using 2 points in direction 2\n",
      "\n"
     ]
    },
    {
     "data": {
      "application/vnd.jupyter.widget-view+json": {
       "model_id": "ab9ebe6db1834d0cad0b11f1ebc53abe",
       "version_major": 2,
       "version_minor": 0
      },
      "text/plain": [
       "HBox(children=(FloatProgress(value=0.0, max=3.0), HTML(value='')))"
      ]
     },
     "metadata": {},
     "output_type": "display_data"
    },
    {
     "name": "stdout",
     "output_type": "stream",
     "text": [
      "\n",
      "Using 1 points in direction 0\n",
      "Using 2 points in direction 2\n",
      "Using 1 points in direction 0\n",
      "Using 1 points in direction 1\n",
      "Using 2 points in direction 2\n",
      "Using 1 points in direction 0\n",
      "Using 2 points in direction 2\n",
      "Using 1 points in direction 0\n",
      "Using 2 points in direction 2\n"
     ]
    },
    {
     "data": {
      "application/vnd.jupyter.widget-view+json": {
       "model_id": "47703f9dd08a4dc18711979ff0963d90",
       "version_major": 2,
       "version_minor": 0
      },
      "text/plain": [
       "HBox(children=(FloatProgress(value=1.0, bar_style='info', max=1.0), HTML(value='')))"
      ]
     },
     "metadata": {},
     "output_type": "display_data"
    },
    {
     "name": "stdout",
     "output_type": "stream",
     "text": [
      "\n"
     ]
    },
    {
     "data": {
      "application/vnd.jupyter.widget-view+json": {
       "model_id": "4cfdd628ddb24b8d81dcd4dfc53d65ee",
       "version_major": 2,
       "version_minor": 0
      },
      "text/plain": [
       "HBox(children=(FloatProgress(value=0.0, max=8.0), HTML(value='')))"
      ]
     },
     "metadata": {},
     "output_type": "display_data"
    },
    {
     "name": "stdout",
     "output_type": "stream",
     "text": [
      "Using 1 points in direction 0\n",
      "Using 1 points in direction 1\n",
      "Using 2 points in direction 2\n",
      "Using 1 points in direction 0\n",
      "Using 2 points in direction 2\n",
      "Using 1 points in direction 0\n",
      "Using 2 points in direction 2\n",
      "Using 1 points in direction 0\n",
      "Using 2 points in direction 2\n",
      "Using 1 points in direction 0\n",
      "Using 2 points in direction 2\n",
      "Using 1 points in direction 0\n",
      "Using 2 points in direction 2\n",
      "Using 1 points in direction 0\n",
      "Using 1 points in direction 1\n",
      "Using 2 points in direction 2\n",
      "Using 1 points in direction 0\n",
      "Using 1 points in direction 1\n",
      "Using 2 points in direction 2\n",
      "Using 1 points in direction 0\n",
      "Using 1 points in direction 1\n",
      "Using 2 points in direction 2\n",
      "Using 1 points in direction 0\n",
      "Using 2 points in direction 2\n",
      "\n"
     ]
    },
    {
     "data": {
      "application/vnd.jupyter.widget-view+json": {
       "model_id": "0dd4fe2ff09d4403a598f639f98e1872",
       "version_major": 2,
       "version_minor": 0
      },
      "text/plain": [
       "HBox(children=(FloatProgress(value=0.0, max=3.0), HTML(value='')))"
      ]
     },
     "metadata": {},
     "output_type": "display_data"
    },
    {
     "name": "stdout",
     "output_type": "stream",
     "text": [
      "\n",
      "Using 1 points in direction 0\n",
      "Using 2 points in direction 2\n",
      "Using 1 points in direction 0\n",
      "Using 1 points in direction 1\n",
      "Using 2 points in direction 2\n",
      "Using 1 points in direction 0\n",
      "Using 2 points in direction 2\n"
     ]
    },
    {
     "data": {
      "application/vnd.jupyter.widget-view+json": {
       "model_id": "99e9c1f26ddb4d7d90d842ae0aca00ed",
       "version_major": 2,
       "version_minor": 0
      },
      "text/plain": [
       "HBox(children=(FloatProgress(value=1.0, bar_style='info', max=1.0), HTML(value='')))"
      ]
     },
     "metadata": {},
     "output_type": "display_data"
    },
    {
     "name": "stdout",
     "output_type": "stream",
     "text": [
      "\n"
     ]
    },
    {
     "data": {
      "application/vnd.jupyter.widget-view+json": {
       "model_id": "ae6a150c8fc04f9aa9f3c8659025f480",
       "version_major": 2,
       "version_minor": 0
      },
      "text/plain": [
       "HBox(children=(FloatProgress(value=0.0, max=7.0), HTML(value='')))"
      ]
     },
     "metadata": {},
     "output_type": "display_data"
    },
    {
     "name": "stdout",
     "output_type": "stream",
     "text": [
      "Using 1 points in direction 0\n",
      "Using 1 points in direction 1\n",
      "Using 2 points in direction 2\n",
      "Using 1 points in direction 0\n",
      "Using 2 points in direction 2\n",
      "Using 1 points in direction 0\n",
      "Using 2 points in direction 2\n",
      "Using 1 points in direction 0\n",
      "Using 2 points in direction 2\n",
      "Using 1 points in direction 0\n",
      "Using 2 points in direction 2\n",
      "Using 1 points in direction 0\n",
      "Using 2 points in direction 2\n",
      "Using 1 points in direction 0\n",
      "Using 1 points in direction 1\n",
      "Using 2 points in direction 2\n",
      "Using 1 points in direction 0\n",
      "Using 1 points in direction 1\n",
      "Using 2 points in direction 2\n",
      "\n"
     ]
    },
    {
     "data": {
      "application/vnd.jupyter.widget-view+json": {
       "model_id": "f45e5639d7b54e04a22d02626eb48685",
       "version_major": 2,
       "version_minor": 0
      },
      "text/plain": [
       "HBox(children=(FloatProgress(value=0.0, max=3.0), HTML(value='')))"
      ]
     },
     "metadata": {},
     "output_type": "display_data"
    },
    {
     "name": "stdout",
     "output_type": "stream",
     "text": [
      "\n",
      "Using 1 points in direction 0\n",
      "Using 1 points in direction 1\n",
      "Using 2 points in direction 2\n",
      "Using 1 points in direction 0\n",
      "Using 2 points in direction 2\n",
      "Using 1 points in direction 0\n",
      "Using 2 points in direction 2\n"
     ]
    },
    {
     "data": {
      "application/vnd.jupyter.widget-view+json": {
       "model_id": "1bf596db48f040a586181fa67a4a6b60",
       "version_major": 2,
       "version_minor": 0
      },
      "text/plain": [
       "HBox(children=(FloatProgress(value=1.0, bar_style='info', max=1.0), HTML(value='')))"
      ]
     },
     "metadata": {},
     "output_type": "display_data"
    },
    {
     "name": "stdout",
     "output_type": "stream",
     "text": [
      "\n"
     ]
    },
    {
     "data": {
      "application/vnd.jupyter.widget-view+json": {
       "model_id": "7753e779a3814987b0188a2fe2655162",
       "version_major": 2,
       "version_minor": 0
      },
      "text/plain": [
       "HBox(children=(FloatProgress(value=0.0, max=1.0), HTML(value='')))"
      ]
     },
     "metadata": {},
     "output_type": "display_data"
    },
    {
     "name": "stdout",
     "output_type": "stream",
     "text": [
      "Using 1 points in direction 0\n",
      "Using 2 points in direction 2\n",
      "Using 1 points in direction 0\n",
      "Using 2 points in direction 2\n",
      "\n"
     ]
    },
    {
     "data": {
      "application/vnd.jupyter.widget-view+json": {
       "model_id": "92c687824d804fd7b29b793bcec9b46f",
       "version_major": 2,
       "version_minor": 0
      },
      "text/plain": [
       "HBox(children=(FloatProgress(value=0.0, max=4.0), HTML(value='')))"
      ]
     },
     "metadata": {},
     "output_type": "display_data"
    },
    {
     "name": "stdout",
     "output_type": "stream",
     "text": [
      "\n",
      "Using 1 points in direction 0\n",
      "Using 2 points in direction 2\n",
      "Using 1 points in direction 0\n",
      "Using 2 points in direction 2\n",
      "Using 1 points in direction 0\n",
      "Using 2 points in direction 2\n",
      "Using 1 points in direction 0\n",
      "Using 2 points in direction 2\n",
      "Using 1 points in direction 0\n",
      "Using 2 points in direction 2\n",
      "Using 1 points in direction 0\n",
      "Using 2 points in direction 2\n"
     ]
    },
    {
     "data": {
      "application/vnd.jupyter.widget-view+json": {
       "model_id": "2309e40388a5440a859de7fc2a5751fd",
       "version_major": 2,
       "version_minor": 0
      },
      "text/plain": [
       "HBox(children=(FloatProgress(value=0.0, max=1.0), HTML(value='')))"
      ]
     },
     "metadata": {},
     "output_type": "display_data"
    },
    {
     "name": "stdout",
     "output_type": "stream",
     "text": [
      "\n"
     ]
    },
    {
     "data": {
      "application/vnd.jupyter.widget-view+json": {
       "model_id": "4a24eed435c043e0aaebca89942096fc",
       "version_major": 2,
       "version_minor": 0
      },
      "text/plain": [
       "HBox(children=(FloatProgress(value=0.0, max=2.0), HTML(value='')))"
      ]
     },
     "metadata": {},
     "output_type": "display_data"
    },
    {
     "name": "stdout",
     "output_type": "stream",
     "text": [
      "Using 1 points in direction 0\n",
      "Using 2 points in direction 2\n",
      "Using 1 points in direction 0\n",
      "Using 2 points in direction 2\n",
      "Using 1 points in direction 0\n",
      "Using 2 points in direction 2\n",
      "\n"
     ]
    },
    {
     "data": {
      "application/vnd.jupyter.widget-view+json": {
       "model_id": "0b564ffbcebd4b7c965caa7cf9900b21",
       "version_major": 2,
       "version_minor": 0
      },
      "text/plain": [
       "HBox(children=(FloatProgress(value=0.0, max=4.0), HTML(value='')))"
      ]
     },
     "metadata": {},
     "output_type": "display_data"
    },
    {
     "name": "stdout",
     "output_type": "stream",
     "text": [
      "\n",
      "Using 1 points in direction 0\n",
      "Using 2 points in direction 2\n",
      "Using 1 points in direction 0\n",
      "Using 2 points in direction 2\n",
      "Using 1 points in direction 0\n",
      "Using 2 points in direction 2\n",
      "Using 1 points in direction 0\n",
      "Using 2 points in direction 2\n",
      "Using 1 points in direction 0\n",
      "Using 2 points in direction 2\n"
     ]
    },
    {
     "data": {
      "application/vnd.jupyter.widget-view+json": {
       "model_id": "57760e64f93d44b08034a47217cc8719",
       "version_major": 2,
       "version_minor": 0
      },
      "text/plain": [
       "HBox(children=(FloatProgress(value=0.0, max=1.0), HTML(value='')))"
      ]
     },
     "metadata": {},
     "output_type": "display_data"
    },
    {
     "name": "stdout",
     "output_type": "stream",
     "text": [
      "\n"
     ]
    },
    {
     "data": {
      "application/vnd.jupyter.widget-view+json": {
       "model_id": "2938697916864c26a25101527f07cfed",
       "version_major": 2,
       "version_minor": 0
      },
      "text/plain": [
       "HBox(children=(FloatProgress(value=0.0, max=2.0), HTML(value='')))"
      ]
     },
     "metadata": {},
     "output_type": "display_data"
    },
    {
     "name": "stdout",
     "output_type": "stream",
     "text": [
      "Using 1 points in direction 0\n",
      "Using 2 points in direction 2\n",
      "Using 1 points in direction 0\n",
      "Using 2 points in direction 2\n",
      "Using 1 points in direction 0\n",
      "Using 2 points in direction 2\n",
      "\n"
     ]
    },
    {
     "data": {
      "application/vnd.jupyter.widget-view+json": {
       "model_id": "071c4edebfa3453ea91ff2d03ddbba99",
       "version_major": 2,
       "version_minor": 0
      },
      "text/plain": [
       "HBox(children=(FloatProgress(value=0.0, max=4.0), HTML(value='')))"
      ]
     },
     "metadata": {},
     "output_type": "display_data"
    },
    {
     "name": "stdout",
     "output_type": "stream",
     "text": [
      "\n",
      "Using 1 points in direction 0\n",
      "Using 2 points in direction 2\n",
      "Using 1 points in direction 0\n",
      "Using 2 points in direction 2\n",
      "Using 1 points in direction 0\n",
      "Using 2 points in direction 2\n",
      "Using 1 points in direction 0\n",
      "Using 2 points in direction 2\n",
      "Using 1 points in direction 0\n",
      "Using 2 points in direction 2\n"
     ]
    },
    {
     "data": {
      "application/vnd.jupyter.widget-view+json": {
       "model_id": "389e68f9d3cb4082b509425943fd089d",
       "version_major": 2,
       "version_minor": 0
      },
      "text/plain": [
       "HBox(children=(FloatProgress(value=0.0, max=1.0), HTML(value='')))"
      ]
     },
     "metadata": {},
     "output_type": "display_data"
    },
    {
     "name": "stdout",
     "output_type": "stream",
     "text": [
      "\n"
     ]
    },
    {
     "data": {
      "application/vnd.jupyter.widget-view+json": {
       "model_id": "1828dbcda292403ca73b123f83d0427b",
       "version_major": 2,
       "version_minor": 0
      },
      "text/plain": [
       "HBox(children=(FloatProgress(value=0.0, max=4.0), HTML(value='')))"
      ]
     },
     "metadata": {},
     "output_type": "display_data"
    },
    {
     "name": "stdout",
     "output_type": "stream",
     "text": [
      "Using 1 points in direction 0\n",
      "Using 2 points in direction 2\n",
      "Using 1 points in direction 0\n",
      "Using 2 points in direction 2\n",
      "Using 1 points in direction 0\n",
      "Using 2 points in direction 2\n",
      "Using 1 points in direction 0\n",
      "Using 2 points in direction 2\n",
      "\n"
     ]
    },
    {
     "data": {
      "application/vnd.jupyter.widget-view+json": {
       "model_id": "703c2625956845fb80bc0be79b706894",
       "version_major": 2,
       "version_minor": 0
      },
      "text/plain": [
       "HBox(children=(FloatProgress(value=0.0, max=4.0), HTML(value='')))"
      ]
     },
     "metadata": {},
     "output_type": "display_data"
    },
    {
     "name": "stdout",
     "output_type": "stream",
     "text": [
      "\n",
      "Using 1 points in direction 0\n",
      "Using 2 points in direction 2\n",
      "Using 1 points in direction 0\n",
      "Using 2 points in direction 2\n",
      "Using 1 points in direction 0\n",
      "Using 2 points in direction 2\n",
      "Using 1 points in direction 0\n",
      "Using 2 points in direction 2\n"
     ]
    },
    {
     "data": {
      "application/vnd.jupyter.widget-view+json": {
       "model_id": "00095203fbd348ed80410eeb5881cad4",
       "version_major": 2,
       "version_minor": 0
      },
      "text/plain": [
       "HBox(children=(FloatProgress(value=0.0, max=1.0), HTML(value='')))"
      ]
     },
     "metadata": {},
     "output_type": "display_data"
    },
    {
     "name": "stdout",
     "output_type": "stream",
     "text": [
      "\n"
     ]
    },
    {
     "data": {
      "application/vnd.jupyter.widget-view+json": {
       "model_id": "e331c38b5255475b857b011ad7b91278",
       "version_major": 2,
       "version_minor": 0
      },
      "text/plain": [
       "HBox(children=(FloatProgress(value=0.0, max=3.0), HTML(value='')))"
      ]
     },
     "metadata": {},
     "output_type": "display_data"
    },
    {
     "name": "stdout",
     "output_type": "stream",
     "text": [
      "Using 1 points in direction 0\n",
      "Using 2 points in direction 2\n",
      "Using 1 points in direction 0\n",
      "Using 2 points in direction 2\n",
      "Using 1 points in direction 0\n",
      "Using 2 points in direction 2\n",
      "Using 1 points in direction 0\n",
      "Using 2 points in direction 2\n",
      "\n"
     ]
    },
    {
     "data": {
      "application/vnd.jupyter.widget-view+json": {
       "model_id": "a7b3969dbf6449f785f40acd92580ecc",
       "version_major": 2,
       "version_minor": 0
      },
      "text/plain": [
       "HBox(children=(FloatProgress(value=0.0, max=4.0), HTML(value='')))"
      ]
     },
     "metadata": {},
     "output_type": "display_data"
    },
    {
     "name": "stdout",
     "output_type": "stream",
     "text": [
      "\n",
      "Using 1 points in direction 0\n",
      "Using 2 points in direction 2\n",
      "Using 1 points in direction 0\n",
      "Using 2 points in direction 2\n",
      "Using 1 points in direction 0\n",
      "Using 2 points in direction 2\n",
      "Using 1 points in direction 0\n",
      "Using 2 points in direction 2\n",
      "Using 1 points in direction 0\n",
      "Using 2 points in direction 2\n"
     ]
    },
    {
     "data": {
      "application/vnd.jupyter.widget-view+json": {
       "model_id": "e509eb005c04475994fe13df684ce25b",
       "version_major": 2,
       "version_minor": 0
      },
      "text/plain": [
       "HBox(children=(FloatProgress(value=0.0, max=2.0), HTML(value='')))"
      ]
     },
     "metadata": {},
     "output_type": "display_data"
    },
    {
     "name": "stdout",
     "output_type": "stream",
     "text": [
      "\n"
     ]
    },
    {
     "data": {
      "application/vnd.jupyter.widget-view+json": {
       "model_id": "8fb4a0839a554321a3e465a7ab8659b5",
       "version_major": 2,
       "version_minor": 0
      },
      "text/plain": [
       "HBox(children=(FloatProgress(value=0.0, max=5.0), HTML(value='')))"
      ]
     },
     "metadata": {},
     "output_type": "display_data"
    },
    {
     "name": "stdout",
     "output_type": "stream",
     "text": [
      "Using 1 points in direction 0\n",
      "Using 2 points in direction 2\n",
      "Using 1 points in direction 0\n",
      "Using 2 points in direction 2\n",
      "Using 1 points in direction 0\n",
      "Using 2 points in direction 2\n",
      "Using 1 points in direction 0\n",
      "Using 2 points in direction 2\n",
      "Using 1 points in direction 0\n",
      "Using 2 points in direction 2\n",
      "\n"
     ]
    },
    {
     "data": {
      "application/vnd.jupyter.widget-view+json": {
       "model_id": "d99ace2094ed4d62bcb79bc149ba6481",
       "version_major": 2,
       "version_minor": 0
      },
      "text/plain": [
       "HBox(children=(FloatProgress(value=0.0, max=4.0), HTML(value='')))"
      ]
     },
     "metadata": {},
     "output_type": "display_data"
    },
    {
     "name": "stdout",
     "output_type": "stream",
     "text": [
      "\n",
      "Using 1 points in direction 0\n",
      "Using 2 points in direction 2\n",
      "Using 1 points in direction 0\n",
      "Using 2 points in direction 2\n",
      "Using 1 points in direction 0\n",
      "Using 2 points in direction 2\n",
      "Using 1 points in direction 0\n",
      "Using 2 points in direction 2\n"
     ]
    },
    {
     "data": {
      "application/vnd.jupyter.widget-view+json": {
       "model_id": "92cdb6900f1346f2a7e9dff883225661",
       "version_major": 2,
       "version_minor": 0
      },
      "text/plain": [
       "HBox(children=(FloatProgress(value=0.0, max=2.0), HTML(value='')))"
      ]
     },
     "metadata": {},
     "output_type": "display_data"
    },
    {
     "name": "stdout",
     "output_type": "stream",
     "text": [
      "\n"
     ]
    },
    {
     "data": {
      "application/vnd.jupyter.widget-view+json": {
       "model_id": "3771ecb0d9be46c99251f0d8b585c87b",
       "version_major": 2,
       "version_minor": 0
      },
      "text/plain": [
       "HBox(children=(FloatProgress(value=0.0, max=3.0), HTML(value='')))"
      ]
     },
     "metadata": {},
     "output_type": "display_data"
    },
    {
     "name": "stdout",
     "output_type": "stream",
     "text": [
      "Using 1 points in direction 0\n",
      "Using 2 points in direction 2\n",
      "Using 1 points in direction 0\n",
      "Using 2 points in direction 2\n",
      "Using 1 points in direction 0\n",
      "Using 2 points in direction 2\n",
      "Using 1 points in direction 0\n",
      "Using 2 points in direction 2\n",
      "\n"
     ]
    },
    {
     "data": {
      "application/vnd.jupyter.widget-view+json": {
       "model_id": "48fc6029731f4698b2282d8b32fd52af",
       "version_major": 2,
       "version_minor": 0
      },
      "text/plain": [
       "HBox(children=(FloatProgress(value=0.0, max=4.0), HTML(value='')))"
      ]
     },
     "metadata": {},
     "output_type": "display_data"
    },
    {
     "name": "stdout",
     "output_type": "stream",
     "text": [
      "\n",
      "Using 1 points in direction 0\n",
      "Using 2 points in direction 2\n",
      "Using 1 points in direction 0\n",
      "Using 2 points in direction 2\n",
      "Using 1 points in direction 0\n",
      "Using 2 points in direction 2\n",
      "Using 1 points in direction 0\n",
      "Using 2 points in direction 2\n",
      "Using 1 points in direction 0\n",
      "Using 2 points in direction 2\n"
     ]
    },
    {
     "data": {
      "application/vnd.jupyter.widget-view+json": {
       "model_id": "a5eed5994a7f4bdb84d3cc4c61839361",
       "version_major": 2,
       "version_minor": 0
      },
      "text/plain": [
       "HBox(children=(FloatProgress(value=0.0, max=2.0), HTML(value='')))"
      ]
     },
     "metadata": {},
     "output_type": "display_data"
    },
    {
     "name": "stdout",
     "output_type": "stream",
     "text": [
      "\n"
     ]
    },
    {
     "data": {
      "application/vnd.jupyter.widget-view+json": {
       "model_id": "652bb63fa478402580813323a830b062",
       "version_major": 2,
       "version_minor": 0
      },
      "text/plain": [
       "HBox(children=(FloatProgress(value=0.0, max=5.0), HTML(value='')))"
      ]
     },
     "metadata": {},
     "output_type": "display_data"
    },
    {
     "name": "stdout",
     "output_type": "stream",
     "text": [
      "Using 1 points in direction 0\n",
      "Using 2 points in direction 2\n",
      "Using 1 points in direction 0\n",
      "Using 2 points in direction 2\n",
      "Using 1 points in direction 0\n",
      "Using 2 points in direction 2\n",
      "Using 1 points in direction 0\n",
      "Using 2 points in direction 2\n",
      "Using 1 points in direction 0\n",
      "Using 2 points in direction 2\n",
      "\n"
     ]
    },
    {
     "data": {
      "application/vnd.jupyter.widget-view+json": {
       "model_id": "30d5b5b1c3b34b1dbc238d72ad67f644",
       "version_major": 2,
       "version_minor": 0
      },
      "text/plain": [
       "HBox(children=(FloatProgress(value=0.0, max=4.0), HTML(value='')))"
      ]
     },
     "metadata": {},
     "output_type": "display_data"
    },
    {
     "name": "stdout",
     "output_type": "stream",
     "text": [
      "\n",
      "Using 1 points in direction 0\n",
      "Using 2 points in direction 2\n",
      "Using 1 points in direction 0\n",
      "Using 2 points in direction 2\n",
      "Using 1 points in direction 0\n",
      "Using 2 points in direction 2\n",
      "Using 1 points in direction 0\n",
      "Using 2 points in direction 2\n"
     ]
    },
    {
     "data": {
      "application/vnd.jupyter.widget-view+json": {
       "model_id": "507d5da767c74518847a91b0f58bf654",
       "version_major": 2,
       "version_minor": 0
      },
      "text/plain": [
       "HBox(children=(FloatProgress(value=0.0, max=2.0), HTML(value='')))"
      ]
     },
     "metadata": {},
     "output_type": "display_data"
    },
    {
     "name": "stdout",
     "output_type": "stream",
     "text": [
      "\n"
     ]
    },
    {
     "data": {
      "application/vnd.jupyter.widget-view+json": {
       "model_id": "01b9c44042174c7c80f51dad34a9017c",
       "version_major": 2,
       "version_minor": 0
      },
      "text/plain": [
       "HBox(children=(FloatProgress(value=0.0, max=2.0), HTML(value='')))"
      ]
     },
     "metadata": {},
     "output_type": "display_data"
    },
    {
     "name": "stdout",
     "output_type": "stream",
     "text": [
      "Using 1 points in direction 0\n",
      "Using 2 points in direction 2\n",
      "Using 1 points in direction 0\n",
      "Using 2 points in direction 2\n",
      "Using 1 points in direction 0\n",
      "Using 2 points in direction 2\n",
      "\n"
     ]
    },
    {
     "data": {
      "application/vnd.jupyter.widget-view+json": {
       "model_id": "1e58d087c8ba4aea8169ed36a16eb95c",
       "version_major": 2,
       "version_minor": 0
      },
      "text/plain": [
       "HBox(children=(FloatProgress(value=0.0, max=4.0), HTML(value='')))"
      ]
     },
     "metadata": {},
     "output_type": "display_data"
    },
    {
     "name": "stdout",
     "output_type": "stream",
     "text": [
      "\n",
      "Using 1 points in direction 0\n",
      "Using 2 points in direction 2\n",
      "Using 1 points in direction 0\n",
      "Using 2 points in direction 2\n",
      "Using 1 points in direction 0\n",
      "Using 2 points in direction 2\n",
      "Using 1 points in direction 0\n",
      "Using 2 points in direction 2\n",
      "Using 1 points in direction 0\n",
      "Using 2 points in direction 2\n"
     ]
    },
    {
     "data": {
      "application/vnd.jupyter.widget-view+json": {
       "model_id": "d60ead1fac384a1283bd8fb17864bb55",
       "version_major": 2,
       "version_minor": 0
      },
      "text/plain": [
       "HBox(children=(FloatProgress(value=0.0, max=2.0), HTML(value='')))"
      ]
     },
     "metadata": {},
     "output_type": "display_data"
    },
    {
     "name": "stdout",
     "output_type": "stream",
     "text": [
      "\n"
     ]
    },
    {
     "data": {
      "application/vnd.jupyter.widget-view+json": {
       "model_id": "553d453997a04849b4802ff8020aae51",
       "version_major": 2,
       "version_minor": 0
      },
      "text/plain": [
       "HBox(children=(FloatProgress(value=0.0, max=4.0), HTML(value='')))"
      ]
     },
     "metadata": {},
     "output_type": "display_data"
    },
    {
     "name": "stdout",
     "output_type": "stream",
     "text": [
      "Using 1 points in direction 0\n",
      "Using 2 points in direction 2\n",
      "Using 1 points in direction 0\n",
      "Using 2 points in direction 2\n",
      "Using 1 points in direction 0\n",
      "Using 2 points in direction 2\n",
      "Using 1 points in direction 0\n",
      "Using 2 points in direction 2\n",
      "\n"
     ]
    },
    {
     "data": {
      "application/vnd.jupyter.widget-view+json": {
       "model_id": "499d8114af374f1dad10eba4fcac8234",
       "version_major": 2,
       "version_minor": 0
      },
      "text/plain": [
       "HBox(children=(FloatProgress(value=0.0, max=4.0), HTML(value='')))"
      ]
     },
     "metadata": {},
     "output_type": "display_data"
    },
    {
     "name": "stdout",
     "output_type": "stream",
     "text": [
      "\n",
      "Using 1 points in direction 0\n",
      "Using 2 points in direction 2\n",
      "Using 1 points in direction 0\n",
      "Using 2 points in direction 2\n",
      "Using 1 points in direction 0\n",
      "Using 2 points in direction 2\n",
      "Using 1 points in direction 0\n",
      "Using 2 points in direction 2\n"
     ]
    },
    {
     "data": {
      "application/vnd.jupyter.widget-view+json": {
       "model_id": "b1570170c0124ba49caee35c91080629",
       "version_major": 2,
       "version_minor": 0
      },
      "text/plain": [
       "HBox(children=(FloatProgress(value=0.0, max=2.0), HTML(value='')))"
      ]
     },
     "metadata": {},
     "output_type": "display_data"
    },
    {
     "name": "stdout",
     "output_type": "stream",
     "text": [
      "\n"
     ]
    },
    {
     "data": {
      "application/vnd.jupyter.widget-view+json": {
       "model_id": "72cbb0a8ea8d4a14829b652cd17cdb22",
       "version_major": 2,
       "version_minor": 0
      },
      "text/plain": [
       "HBox(children=(FloatProgress(value=0.0, max=4.0), HTML(value='')))"
      ]
     },
     "metadata": {},
     "output_type": "display_data"
    },
    {
     "name": "stdout",
     "output_type": "stream",
     "text": [
      "Using 1 points in direction 0\n",
      "Using 2 points in direction 2\n",
      "Using 1 points in direction 0\n",
      "Using 2 points in direction 2\n",
      "Using 1 points in direction 0\n",
      "Using 2 points in direction 2\n",
      "Using 1 points in direction 0\n",
      "Using 2 points in direction 2\n",
      "\n"
     ]
    },
    {
     "data": {
      "application/vnd.jupyter.widget-view+json": {
       "model_id": "007ee4b210fd49f6a035789a441bb85a",
       "version_major": 2,
       "version_minor": 0
      },
      "text/plain": [
       "HBox(children=(FloatProgress(value=0.0, max=4.0), HTML(value='')))"
      ]
     },
     "metadata": {},
     "output_type": "display_data"
    },
    {
     "name": "stdout",
     "output_type": "stream",
     "text": [
      "\n",
      "Using 1 points in direction 0\n",
      "Using 2 points in direction 2\n",
      "Using 1 points in direction 0\n",
      "Using 2 points in direction 2\n",
      "Using 1 points in direction 0\n",
      "Using 2 points in direction 2\n",
      "Using 1 points in direction 0\n",
      "Using 2 points in direction 2\n"
     ]
    },
    {
     "data": {
      "application/vnd.jupyter.widget-view+json": {
       "model_id": "f472a08d49394648b528cdcc3ff102ac",
       "version_major": 2,
       "version_minor": 0
      },
      "text/plain": [
       "HBox(children=(FloatProgress(value=0.0, max=2.0), HTML(value='')))"
      ]
     },
     "metadata": {},
     "output_type": "display_data"
    },
    {
     "name": "stdout",
     "output_type": "stream",
     "text": [
      "\n"
     ]
    },
    {
     "data": {
      "application/vnd.jupyter.widget-view+json": {
       "model_id": "392bde6f9d16475ab60b1a9ba7a7026f",
       "version_major": 2,
       "version_minor": 0
      },
      "text/plain": [
       "HBox(children=(FloatProgress(value=0.0, max=2.0), HTML(value='')))"
      ]
     },
     "metadata": {},
     "output_type": "display_data"
    },
    {
     "name": "stdout",
     "output_type": "stream",
     "text": [
      "Using 1 points in direction 0\n",
      "Using 2 points in direction 2\n",
      "Using 1 points in direction 0\n",
      "Using 2 points in direction 2\n",
      "Using 1 points in direction 0\n",
      "Using 2 points in direction 2\n",
      "\n"
     ]
    },
    {
     "data": {
      "application/vnd.jupyter.widget-view+json": {
       "model_id": "c5993abf295b4af58667ba7137266bff",
       "version_major": 2,
       "version_minor": 0
      },
      "text/plain": [
       "HBox(children=(FloatProgress(value=0.0, max=4.0), HTML(value='')))"
      ]
     },
     "metadata": {},
     "output_type": "display_data"
    },
    {
     "name": "stdout",
     "output_type": "stream",
     "text": [
      "\n",
      "Using 1 points in direction 0\n",
      "Using 2 points in direction 2\n",
      "Using 1 points in direction 0\n",
      "Using 2 points in direction 2\n",
      "Using 1 points in direction 0\n",
      "Using 2 points in direction 2\n",
      "Using 1 points in direction 0\n",
      "Using 2 points in direction 2\n",
      "Using 1 points in direction 0\n",
      "Using 2 points in direction 2\n"
     ]
    },
    {
     "data": {
      "application/vnd.jupyter.widget-view+json": {
       "model_id": "35749331629a4d228e75ba47e8849d0f",
       "version_major": 2,
       "version_minor": 0
      },
      "text/plain": [
       "HBox(children=(FloatProgress(value=0.0, max=2.0), HTML(value='')))"
      ]
     },
     "metadata": {},
     "output_type": "display_data"
    },
    {
     "name": "stdout",
     "output_type": "stream",
     "text": [
      "\n"
     ]
    },
    {
     "data": {
      "application/vnd.jupyter.widget-view+json": {
       "model_id": "32e173a967b746c4b73afe1fe7e18d51",
       "version_major": 2,
       "version_minor": 0
      },
      "text/plain": [
       "HBox(children=(FloatProgress(value=0.0, max=4.0), HTML(value='')))"
      ]
     },
     "metadata": {},
     "output_type": "display_data"
    },
    {
     "name": "stdout",
     "output_type": "stream",
     "text": [
      "Using 1 points in direction 0\n",
      "Using 2 points in direction 2\n",
      "Using 1 points in direction 0\n",
      "Using 2 points in direction 2\n",
      "Using 1 points in direction 0\n",
      "Using 2 points in direction 2\n",
      "Using 1 points in direction 0\n",
      "Using 2 points in direction 2\n",
      "\n"
     ]
    },
    {
     "data": {
      "application/vnd.jupyter.widget-view+json": {
       "model_id": "f76ff37b67244412b36908dc96e0e1db",
       "version_major": 2,
       "version_minor": 0
      },
      "text/plain": [
       "HBox(children=(FloatProgress(value=0.0, max=4.0), HTML(value='')))"
      ]
     },
     "metadata": {},
     "output_type": "display_data"
    },
    {
     "name": "stdout",
     "output_type": "stream",
     "text": [
      "\n",
      "Using 1 points in direction 0\n",
      "Using 2 points in direction 2\n",
      "Using 1 points in direction 0\n",
      "Using 2 points in direction 2\n",
      "Using 1 points in direction 0\n",
      "Using 2 points in direction 2\n",
      "Using 1 points in direction 0\n",
      "Using 2 points in direction 2\n"
     ]
    },
    {
     "data": {
      "application/vnd.jupyter.widget-view+json": {
       "model_id": "53c14391e9eb44eaa62e531fb3121b5a",
       "version_major": 2,
       "version_minor": 0
      },
      "text/plain": [
       "HBox(children=(FloatProgress(value=0.0, max=2.0), HTML(value='')))"
      ]
     },
     "metadata": {},
     "output_type": "display_data"
    },
    {
     "name": "stdout",
     "output_type": "stream",
     "text": [
      "\n"
     ]
    },
    {
     "data": {
      "application/vnd.jupyter.widget-view+json": {
       "model_id": "bf34547c6d31454e98b0bd4f14e2066c",
       "version_major": 2,
       "version_minor": 0
      },
      "text/plain": [
       "HBox(children=(FloatProgress(value=0.0, max=4.0), HTML(value='')))"
      ]
     },
     "metadata": {},
     "output_type": "display_data"
    },
    {
     "name": "stdout",
     "output_type": "stream",
     "text": [
      "Using 1 points in direction 0\n",
      "Using 2 points in direction 2\n",
      "Using 1 points in direction 0\n",
      "Using 2 points in direction 2\n",
      "Using 1 points in direction 0\n",
      "Using 2 points in direction 2\n",
      "Using 1 points in direction 0\n",
      "Using 2 points in direction 2\n",
      "\n"
     ]
    },
    {
     "data": {
      "application/vnd.jupyter.widget-view+json": {
       "model_id": "712fd3da08324d92bac18e54ebd0da89",
       "version_major": 2,
       "version_minor": 0
      },
      "text/plain": [
       "HBox(children=(FloatProgress(value=0.0, max=4.0), HTML(value='')))"
      ]
     },
     "metadata": {},
     "output_type": "display_data"
    },
    {
     "name": "stdout",
     "output_type": "stream",
     "text": [
      "\n",
      "Using 1 points in direction 0\n",
      "Using 2 points in direction 2\n",
      "Using 1 points in direction 0\n",
      "Using 2 points in direction 2\n",
      "Using 1 points in direction 0\n",
      "Using 2 points in direction 2\n",
      "Using 1 points in direction 0\n",
      "Using 2 points in direction 2\n"
     ]
    },
    {
     "data": {
      "application/vnd.jupyter.widget-view+json": {
       "model_id": "11d83ac272ba4724ab0cb8a06734cecf",
       "version_major": 2,
       "version_minor": 0
      },
      "text/plain": [
       "HBox(children=(FloatProgress(value=0.0, max=2.0), HTML(value='')))"
      ]
     },
     "metadata": {},
     "output_type": "display_data"
    },
    {
     "name": "stdout",
     "output_type": "stream",
     "text": [
      "\n",
      "\n"
     ]
    }
   ],
   "source": [
    "#Li3CrO4\n",
    "c= 8.560798; a=5.521837; b= 7.099335; alpha=90; beta=90; gamma=90\n",
    "atoms = [(4,'Pb'), (16,'O'), (4,'S')]\n",
    "d_tol = 1.2\n",
    "d_mins = {}\n",
    "spgs = [62]\n",
    "pbso4 = Structure.from_file('PbSO4_AMS_DATA.cif')\n",
    "\n",
    "xrd_calc = xrd.XRDCalculator()\n",
    "pbso4twothetas = xrd_calc.get_pattern(pbso4).x\n",
    "pbso4intensities = xrd_calc.get_pattern(pbso4).y\n",
    "strucs_new_full = []\n",
    "\n",
    "for i in range(len(spgs)):\n",
    "    density = 0.2\n",
    "    \n",
    "    hsgtest = hsg.HierarchicalStructureGeneration(spgs[i], a,b,c, alpha, beta, gamma, atoms, d_tol, d_mins, \\\n",
    "                                                         use_asu = True)\n",
    "\n",
    "    for k in tqdm(range(len(hsgtest.filter_combinations))):\n",
    "        strucs_new=hsgtest.get_structure_grid(density,combination = k)\n",
    "        strucs_new_full.append([])\n",
    "        for struc in tqdm(strucs_new):\n",
    "            strucs_new_full[-1].append(hsgtest.get_pymatgen_structure(struc))"
   ]
  },
  {
   "cell_type": "markdown",
   "metadata": {},
   "source": [
    "# Calculate XRD patterns using Pymatgen"
   ]
  },
  {
   "cell_type": "code",
   "execution_count": 11,
   "metadata": {
    "scrolled": true
   },
   "outputs": [
    {
     "data": {
      "application/vnd.jupyter.widget-view+json": {
       "model_id": "74a772d83eba42e280e0f750edabc537",
       "version_major": 2,
       "version_minor": 0
      },
      "text/plain": [
       "HBox(children=(FloatProgress(value=0.0, max=35.0), HTML(value='')))"
      ]
     },
     "metadata": {},
     "output_type": "display_data"
    },
    {
     "name": "stdout",
     "output_type": "stream",
     "text": [
      "\n"
     ]
    }
   ],
   "source": [
    "matpatterns_all = []\n",
    "xrd_calc = xrd.XRDCalculator()\n",
    "for strucs_spg in tqdm(strucs_new_full):\n",
    "    patterns = []\n",
    "    for strucs in strucs_spg:\n",
    "        patterns.append(xrd_calc.get_pattern(strucs))\n",
    "    matpatterns_all.append(patterns)\n"
   ]
  },
  {
   "cell_type": "markdown",
   "metadata": {},
   "source": [
    "# Calculate R values"
   ]
  },
  {
   "cell_type": "code",
   "execution_count": 13,
   "metadata": {},
   "outputs": [
    {
     "data": {
      "application/vnd.jupyter.widget-view+json": {
       "model_id": "b8d932a712144877ad4c623a89b79e60",
       "version_major": 2,
       "version_minor": 0
      },
      "text/plain": [
       "HBox(children=(FloatProgress(value=0.0, max=35.0), HTML(value='')))"
      ]
     },
     "metadata": {},
     "output_type": "display_data"
    },
    {
     "name": "stdout",
     "output_type": "stream",
     "text": [
      "\n"
     ]
    }
   ],
   "source": [
    "Rvalues = []\n",
    "for i in tqdm(range(len(matpatterns_all))):\n",
    "    Rvalues.append([])\n",
    "    for j in range(len(matpatterns_all[i])):\n",
    "        Rvalues[-1].append(hsg.get_R(pbso4twothetas, pbso4intensities, matpatterns_all[i][j].x, matpatterns_all[i][j].y))"
   ]
  },
  {
   "cell_type": "markdown",
   "metadata": {},
   "source": [
    "# Determine lowest R value structures for DFT relaxation"
   ]
  },
  {
   "cell_type": "code",
   "execution_count": 14,
   "metadata": {},
   "outputs": [],
   "source": [
    "lowests = []\n",
    "struc_indexes = []\n",
    "lowest = []\n",
    "for i in range(len(Rvalues)):\n",
    "    for k in range(len(Rvalues[i])):\n",
    "\n",
    "        if len(lowest) == 100:\n",
    "            order = np.argsort(lowest)\n",
    "            if Rvalues[i][k] < lowest[order[-1]]:\n",
    "                lowest[order[-1]] = Rvalues[i][k]\n",
    "                struc_indexes[order[-1]] = (i,k)\n",
    "        else:\n",
    "            lowest.append(Rvalues[i][k])\n",
    "            struc_indexes.append((i,k))\n",
    "\n",
    "test_strucs = []\n",
    "\n",
    "for index2 in struc_indexes:\n",
    "    test_strucs.append(strucs_new_full[index2[0]][index2[1]])\n"
   ]
  },
  {
   "cell_type": "code",
   "execution_count": 16,
   "metadata": {},
   "outputs": [],
   "source": [
    "def gaussian_peaks(twothetas, intensities, twothetascont, intensitiescont, c = 0.1):\n",
    "\n",
    "    intensitiescont = np.zeros([1,len(twothetascont)])[0]\n",
    "    for i in range(len(twothetascont)):\n",
    "        for j in range(len(twothetas)):\n",
    "            intensitiescont[i] += intensities[j]*np.exp(-(twothetascont[i]-twothetas[j])**2\\\n",
    "            /(2*c**2))\n",
    "\n",
    "    return intensitiescont"
   ]
  },
  {
   "cell_type": "code",
   "execution_count": 17,
   "metadata": {},
   "outputs": [],
   "source": [
    "import csv\n",
    "lifeo2twothetascont = []\n",
    "lifeo2intensitiescont = []\n",
    "with open('lifeo2cont.csv', mode='r', encoding='utf-8-sig') as csv_file:\n",
    "    csv_reader = csv.reader(csv_file, delimiter=',')\n",
    "    line_count = 0\n",
    "    for row in csv_reader:\n",
    "        lifeo2intensitiescont.append(float(row[1]))\n",
    "        lifeo2twothetascont.append(float(row[0]))"
   ]
  },
  {
   "cell_type": "code",
   "execution_count": 19,
   "metadata": {},
   "outputs": [
    {
     "data": {
      "application/vnd.jupyter.widget-view+json": {
       "model_id": "fd91ebad3afb4d82b9423d1a5eafd3e0",
       "version_major": 2,
       "version_minor": 0
      },
      "text/plain": [
       "HBox(children=(FloatProgress(value=0.0, max=35.0), HTML(value='')))"
      ]
     },
     "metadata": {},
     "output_type": "display_data"
    },
    {
     "name": "stdout",
     "output_type": "stream",
     "text": [
      "\n"
     ]
    }
   ],
   "source": [
    "lifeo2intensitiesg = []\n",
    "\n",
    "for i in tqdm(range(len(matpatterns_all))):\n",
    "    for j in range(len(matpatterns_all[i])):\n",
    "        lifeo2intensitiesg.append(gaussian_peaks(matpatterns_all[i][j].x, matpatterns_all[i][j].y, lifeo2twothetascont, lifeo2intensitiescont))\n"
   ]
  },
  {
   "cell_type": "code",
   "execution_count": null,
   "metadata": {},
   "outputs": [],
   "source": []
  }
 ],
 "metadata": {
  "kernelspec": {
   "display_name": "Python 3",
   "language": "python",
   "name": "python3"
  },
  "language_info": {
   "codemirror_mode": {
    "name": "ipython",
    "version": 3
   },
   "file_extension": ".py",
   "mimetype": "text/x-python",
   "name": "python",
   "nbconvert_exporter": "python",
   "pygments_lexer": "ipython3",
   "version": "3.8.3"
  }
 },
 "nbformat": 4,
 "nbformat_minor": 4
}
