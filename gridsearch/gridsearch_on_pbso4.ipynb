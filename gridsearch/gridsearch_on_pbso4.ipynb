{
 "cells": [
  {
   "cell_type": "markdown",
   "metadata": {},
   "source": [
    "### Hierarchical generation of candidate structures from space group, composition, and lattice parameters."
   ]
  },
  {
   "cell_type": "markdown",
   "metadata": {},
   "source": [
    "**Input:** Space group, lattice parameters, number of atoms for each element-type in the unit cell, and pair-wise minimum distances allowed.\n",
    "\n",
    "**Algorithm:**\n",
    "1. Get Wyckoff sites (symmtery operations) for the space group (attention should be paid to the spg setting used in experiments)\n",
    "2. Generate all possible combinations of Wyckoff sites satisfying the number of atoms (composition) in the cell. Filter out combinations that duplicate zero-degree-of-freedom Wyckoff sites.\n",
    "3. Sort combinations such that those with fewer number of distinct Wyckoff sites are higher on the list.\n",
    "4. For each combination on the list:\n",
    "    1. Start with the Wyckoff positions of the element-type (e.g. \"Pb\") that has fewer number of atoms. For each Wyckoff position of this element in the combination:\n",
    "        1. Generate sets of atomic positions from each Wyckoff position's symmetry operations for each point on the [x,y,z] grid with a specified step size within [0,1] (considering which dimensions are active)\n",
    "        2. Remove sets of positions where positions overlap or closer than the distance threshold for the same (A-A) pairs.\n",
    "    2. Repeat the overlap/distance check accross different Wyckoff sites of the same element. Skip those with atoms too close.\n",
    "    3. If this is the first element-type considered (e.g. \"Pb\"), continue loop.\n",
    "    4. If this is not the first element-type considered (e.g. \"S\"): Repeat the overlap/distance check between the newest element expanded in the loop (e.g. \"S\") and element-types already generated. (e.g. Pb). Skip those with atoms too close.\n",
    "    5. Store structures that pass all distance filters.\n",
    "      \n",
    "**Returns:** A list of feasible sets of atomic positions that satisfy the composition, symmetry and distance constraints.\n",
    " "
   ]
  },
  {
   "cell_type": "markdown",
   "metadata": {},
   "source": [
    "*TODO:* This is just an initial prototype. We should test, clean up and make this code modular/better!"
   ]
  },
  {
   "cell_type": "code",
   "execution_count": 3,
   "metadata": {},
   "outputs": [],
   "source": [
    "import itertools\n",
    "import numpy as np\n",
    "from pymatgen import Structure\n",
    "from pymatgen import Lattice\n",
    "from pyxtal.symmetry import get_wyckoffs\n",
    "from tqdm.notebook import tqdm"
   ]
  },
  {
   "cell_type": "markdown",
   "metadata": {},
   "source": [
    "This example is focusing on Anglesite: PbSO4; which has the space group 62. Experimental reports often use a non-standard setting of 62; i.e. Pbnm. In general, care must be taken to ensure proper comparison under similar settings for structures generate and experimental diffraction data."
   ]
  },
  {
   "cell_type": "code",
   "execution_count": 4,
   "metadata": {},
   "outputs": [],
   "source": [
    "# SETUP\n",
    "spg = 62\n",
    "c=6.959; a=8.482; b=5.398; alpha=90; beta=90; gamma=90 \n",
    "atoms = [(4,'Pb'), (16,'O'), (4,'S')]\n",
    "# General ovelap threshold:\n",
    "d_tol = 1.2 \n",
    "# Specific thresholds:\n",
    "d_mins = {'Pb': 1.5*2, 'S': 1.70*2, 'O': 2.1, 'O-Pb': 2.4, 'Pb-S': 3.0}\n",
    "# Numer of steps in [0,1] for each free (x, y or z) parameter.\n",
    "npoints = 10"
   ]
  },
  {
   "cell_type": "code",
   "execution_count": 5,
   "metadata": {},
   "outputs": [],
   "source": [
    "lattice = Lattice.from_parameters(a,b,c,alpha,beta,gamma)\n",
    "atoms = sorted(atoms)\n",
    "d_tol_squared = d_tol**2 # general overlap distance threshold\n",
    "d_mins_squared = {k: v**2 for k,v in d_mins.items()}\n",
    "wyckoffs = get_wyckoffs(spg)\n",
    "multiplicities = [len(w) for w in wyckoffs]\n",
    "\n",
    "def get_wyckoff_candidates(pos, npoints=5, d_min_squared=None, lattice=None):\n",
    "    \"\"\"\n",
    "    This function generates all unique sets of atomic positions from a Wyckoff position's symmetry operations,\n",
    "    on a grid of allowed free-varibles (with *n* equi-distant points on [0,1]) (e.g. n x n x n grid if all a \n",
    "    site has all x, y and z as free-variables; or nx1xn if x and z are free variables). It takes into account\n",
    "    a minimum allowed distance.\n",
    "    Args:\n",
    "        pos (list): Symmetry operations of the Wyckoff position\n",
    "        npoints (int): number of equi-distant points on [0,1] for generation of the free-variable grid.\n",
    "        d_min_squared (float): If given, squared distance between each atom pair in the generated set of positions \n",
    "            is compared to filter out unphysical structures.\n",
    "        lattice (pymatgen.Lattice): lattice object used for distance computations.\n",
    "    Returns:\n",
    "        A set of *sets of atomic positions* generated satisfying the symmetry and distance constraints.\n",
    "\n",
    "    \"\"\"\n",
    "    \n",
    "    grid_xyz=[]\n",
    "    for i in active_dim(pos):\n",
    "        if i:\n",
    "            grid_xyz.append(np.linspace(0,1.0,npoints)) \n",
    "        else:\n",
    "            grid_xyz.append([0]) # if dimension is not active.\n",
    "\n",
    "    candidates = []\n",
    "    # forming a meshgrid for free x, y, and/or z parameters for the wyckoff site.\n",
    "    for xyz in itertools.product(grid_xyz[0],\n",
    "                                 grid_xyz[1],\n",
    "                                 grid_xyz[2]):\n",
    "        wyckoff_positions = []\n",
    "        for so in pos: #apply symmetry operations of the wyckoff \n",
    "            product = so.operate(xyz) # applies both rotation and translation.\n",
    "            warped = warp(product)    # make sure sites remain within the unit cells\n",
    "            wyckoff_positions.append(tuple(warped))\n",
    "    \n",
    "        wyckoff_positions = frozenset(wyckoff_positions) # forming a set will get rid of duplciates (overlaps)\n",
    "        \n",
    "        if len(wyckoff_positions) == len(pos): # if no overlapping sites, store set of wyckoff positions\n",
    "            skip_str = False\n",
    "            if d_min_squared:\n",
    "                for s1,s2 in itertools.combinations(wyckoff_positions,2):\n",
    "                    if np.sum((\n",
    "                                lattice.get_cartesian_coords(np.array(s1))\n",
    "                                -lattice.get_cartesian_coords(np.array(s2)))**2 )< d_min_squared:\n",
    "                        skip_str = True\n",
    "                        break\n",
    "            if skip_str:\n",
    "                continue\n",
    "            candidates.append(wyckoff_positions)\n",
    "    return set(candidates)\n",
    "\n",
    "def get_possible_combinations(multiplicities, target_n_atoms):\n",
    "    \"\"\"\n",
    "    Helper function to find all possible combinatios of Wyckoff positions of a given space group\n",
    "         that would satisfy the target atom count.\n",
    "    \"\"\"\n",
    "    return [q for i in range(len(multiplicities), 0, -1) \n",
    "          for q in itertools.combinations(enumerate(multiplicities), i) if sum([k[1] for k in q]) == target_n_atoms]\n",
    "\n",
    "def active_dim(pos):\n",
    "    \"\"\"Helper function that checks if the wyckoff position has free variables\"\"\"\n",
    "    return pos[0].rotation_matrix.sum(axis=0) != 0  \n",
    "\n",
    "def warp(coord):\n",
    "    \"\"\"\n",
    "    Puts fractional coordinates that fall outside back into [0,1].\n",
    "    \"\"\"\n",
    "    for i in range(3):\n",
    "        coord[i]=coord[i]%1\n",
    "    return coord"
   ]
  },
  {
   "cell_type": "markdown",
   "metadata": {},
   "source": [
    "It will be useful to know which Wyckoff sites have free variables (i.e. which are not special positions)"
   ]
  },
  {
   "cell_type": "code",
   "execution_count": 6,
   "metadata": {},
   "outputs": [
    {
     "data": {
      "text/plain": [
       "array([0, 1])"
      ]
     },
     "execution_count": 6,
     "metadata": {},
     "output_type": "execute_result"
    }
   ],
   "source": [
    "all_active_wyckoffs = np.array([i for i in range(len(wyckoffs)) if sum(active_dim(wyckoffs[i]))>0])\n",
    "all_active_wyckoffs"
   ]
  },
  {
   "cell_type": "markdown",
   "metadata": {},
   "source": [
    "Let's take a look at multiplicities:"
   ]
  },
  {
   "cell_type": "code",
   "execution_count": 7,
   "metadata": {},
   "outputs": [
    {
     "data": {
      "text/plain": [
       "[8, 4, 4, 4]"
      ]
     },
     "execution_count": 7,
     "metadata": {},
     "output_type": "execute_result"
    }
   ],
   "source": [
    "multiplicities"
   ]
  },
  {
   "cell_type": "markdown",
   "metadata": {},
   "source": [
    "Combining groups of wyckoff: sites satisfying composition requirements, and filtering\n",
    "out those that would repeat wyckoffs that do not have internal degree of freedom (hence can't be occupied\n",
    "by two different species."
   ]
  },
  {
   "cell_type": "code",
   "execution_count": 8,
   "metadata": {},
   "outputs": [],
   "source": [
    "filter_combinations=[]\n",
    "[]\n",
    "for i in itertools.product(*[get_possible_combinations(multiplicities,a[0]) for a in atoms]):\n",
    "    counter = np.zeros(len(wyckoffs))\n",
    "    for j in i:\n",
    "        for k in j:\n",
    "            counter[k[0]] +=1\n",
    "    t = np.argwhere( counter> 1 ).flatten()\n",
    "    if False not in np.isin(t,all_active_wyckoffs):\n",
    "        filter_combinations.append(i)"
   ]
  },
  {
   "cell_type": "code",
   "execution_count": 9,
   "metadata": {},
   "outputs": [
    {
     "data": {
      "text/plain": [
       "[(((1, 4),), ((1, 4),), ((0, 8), (1, 4), (2, 4))),\n",
       " (((1, 4),), ((1, 4),), ((0, 8), (1, 4), (3, 4))),\n",
       " (((1, 4),), ((1, 4),), ((0, 8), (2, 4), (3, 4))),\n",
       " (((1, 4),), ((2, 4),), ((0, 8), (1, 4), (3, 4))),\n",
       " (((1, 4),), ((3, 4),), ((0, 8), (1, 4), (2, 4))),\n",
       " (((2, 4),), ((1, 4),), ((0, 8), (1, 4), (3, 4))),\n",
       " (((3, 4),), ((1, 4),), ((0, 8), (1, 4), (2, 4)))]"
      ]
     },
     "execution_count": 9,
     "metadata": {},
     "output_type": "execute_result"
    }
   ],
   "source": [
    "filter_combinations"
   ]
  },
  {
   "cell_type": "markdown",
   "metadata": {},
   "source": [
    "Let's sort these based on number of Wyckoff positions (prioritizing lower numbers)"
   ]
  },
  {
   "cell_type": "code",
   "execution_count": 10,
   "metadata": {},
   "outputs": [],
   "source": [
    "filter_combinations = sorted(filter_combinations, \n",
    "       key=lambda x: sum([len(i) for i in x]))"
   ]
  },
  {
   "cell_type": "code",
   "execution_count": 11,
   "metadata": {
    "scrolled": true
   },
   "outputs": [
    {
     "data": {
      "text/plain": [
       "[(((1, 4),), ((1, 4),), ((0, 8), (1, 4), (2, 4))),\n",
       " (((1, 4),), ((1, 4),), ((0, 8), (1, 4), (3, 4))),\n",
       " (((1, 4),), ((1, 4),), ((0, 8), (2, 4), (3, 4))),\n",
       " (((1, 4),), ((2, 4),), ((0, 8), (1, 4), (3, 4))),\n",
       " (((1, 4),), ((3, 4),), ((0, 8), (1, 4), (2, 4))),\n",
       " (((2, 4),), ((1, 4),), ((0, 8), (1, 4), (3, 4))),\n",
       " (((3, 4),), ((1, 4),), ((0, 8), (1, 4), (2, 4)))]"
      ]
     },
     "execution_count": 11,
     "metadata": {},
     "output_type": "execute_result"
    }
   ],
   "source": [
    "filter_combinations"
   ]
  },
  {
   "cell_type": "code",
   "execution_count": 12,
   "metadata": {},
   "outputs": [],
   "source": [
    "g=lambda x: sum([len(i) for i in x]) \n",
    "num_unique_wyckoffs=[g(x) for x in filter_combinations]"
   ]
  },
  {
   "cell_type": "markdown",
   "metadata": {},
   "source": [
    "Normally, one can use num_unique_wyckoffs in a candidate structure to prioritize simpler ones over others.\n",
    "Here they are all the same number."
   ]
  },
  {
   "cell_type": "code",
   "execution_count": 14,
   "metadata": {},
   "outputs": [
    {
     "data": {
      "text/plain": [
       "[5, 5, 5, 5, 5, 5, 5]"
      ]
     },
     "execution_count": 14,
     "metadata": {},
     "output_type": "execute_result"
    }
   ],
   "source": [
    "num_unique_wyckoffs"
   ]
  },
  {
   "cell_type": "markdown",
   "metadata": {},
   "source": [
    "Now, let's build a loop for combing through all structures and removing those that are likely to have atoms too close. This loop can take anywhere from a few seconds to few hours, primarily controlled by the npoints and distance threshold parameters."
   ]
  },
  {
   "cell_type": "code",
   "execution_count": 16,
   "metadata": {
    "scrolled": true
   },
   "outputs": [
    {
     "name": "stdout",
     "output_type": "stream",
     "text": [
      "0 (((1, 4),), ((1, 4),), ((0, 8), (1, 4), (2, 4)))\n",
      "0.(((1, 4),), ((1, 4),), ((0, 8), (1, 4), (2, 4))): Elem self loop: Pb\n"
     ]
    },
    {
     "data": {
      "application/vnd.jupyter.widget-view+json": {
       "model_id": "bcb00e9ea96c408ead43eca8e8a58474",
       "version_major": 2,
       "version_minor": 0
      },
      "text/plain": [
       "HBox(children=(FloatProgress(value=0.0, max=72.0), HTML(value='')))"
      ]
     },
     "metadata": {},
     "output_type": "display_data"
    },
    {
     "name": "stdout",
     "output_type": "stream",
     "text": [
      "\n",
      "0.(((1, 4),), ((1, 4),), ((0, 8), (1, 4), (2, 4))): Elem self loop: S\n"
     ]
    },
    {
     "data": {
      "application/vnd.jupyter.widget-view+json": {
       "model_id": "8a2d9aaaec4c4db8bfae6981590d8309",
       "version_major": 2,
       "version_minor": 0
      },
      "text/plain": [
       "HBox(children=(FloatProgress(value=0.0, max=68.0), HTML(value='')))"
      ]
     },
     "metadata": {},
     "output_type": "display_data"
    },
    {
     "name": "stdout",
     "output_type": "stream",
     "text": [
      "\n",
      "0.(((1, 4),), ((1, 4),), ((0, 8), (1, 4), (2, 4))):  Elem pairs loop: S\n"
     ]
    },
    {
     "data": {
      "application/vnd.jupyter.widget-view+json": {
       "model_id": "356fdfa2feb746d5af0350410d8e4e89",
       "version_major": 2,
       "version_minor": 0
      },
      "text/plain": [
       "HBox(children=(FloatProgress(value=0.0, max=4896.0), HTML(value='')))"
      ]
     },
     "metadata": {},
     "output_type": "display_data"
    },
    {
     "name": "stdout",
     "output_type": "stream",
     "text": [
      "\n",
      "0.(((1, 4),), ((1, 4),), ((0, 8), (1, 4), (2, 4))): Elem self loop: O\n"
     ]
    },
    {
     "data": {
      "application/vnd.jupyter.widget-view+json": {
       "model_id": "728921c97d2848ee91cfbde150550f94",
       "version_major": 2,
       "version_minor": 0
      },
      "text/plain": [
       "HBox(children=(FloatProgress(value=0.0, max=5508.0), HTML(value='')))"
      ]
     },
     "metadata": {},
     "output_type": "display_data"
    },
    {
     "name": "stdout",
     "output_type": "stream",
     "text": [
      "\n",
      "0.(((1, 4),), ((1, 4),), ((0, 8), (1, 4), (2, 4))):  Elem pairs loop: O\n"
     ]
    },
    {
     "data": {
      "application/vnd.jupyter.widget-view+json": {
       "model_id": "f355b9711c2148ee94a884e17635a787",
       "version_major": 2,
       "version_minor": 0
      },
      "text/plain": [
       "HBox(children=(FloatProgress(value=0.0, max=373464.0), HTML(value='')))"
      ]
     },
     "metadata": {},
     "output_type": "display_data"
    },
    {
     "name": "stdout",
     "output_type": "stream",
     "text": [
      "\n",
      "1 (((1, 4),), ((1, 4),), ((0, 8), (1, 4), (3, 4)))\n",
      "1.(((1, 4),), ((1, 4),), ((0, 8), (1, 4), (3, 4))): Elem self loop: Pb\n"
     ]
    },
    {
     "data": {
      "application/vnd.jupyter.widget-view+json": {
       "model_id": "105e0dbb0599408b809635fc35bddac5",
       "version_major": 2,
       "version_minor": 0
      },
      "text/plain": [
       "HBox(children=(FloatProgress(value=0.0, max=72.0), HTML(value='')))"
      ]
     },
     "metadata": {},
     "output_type": "display_data"
    },
    {
     "name": "stdout",
     "output_type": "stream",
     "text": [
      "\n",
      "1.(((1, 4),), ((1, 4),), ((0, 8), (1, 4), (3, 4))): Elem self loop: S\n"
     ]
    },
    {
     "data": {
      "application/vnd.jupyter.widget-view+json": {
       "model_id": "98c6482c104f4c86b2d81d6c37f41ee0",
       "version_major": 2,
       "version_minor": 0
      },
      "text/plain": [
       "HBox(children=(FloatProgress(value=0.0, max=68.0), HTML(value='')))"
      ]
     },
     "metadata": {},
     "output_type": "display_data"
    },
    {
     "name": "stdout",
     "output_type": "stream",
     "text": [
      "\n",
      "1.(((1, 4),), ((1, 4),), ((0, 8), (1, 4), (3, 4))):  Elem pairs loop: S\n"
     ]
    },
    {
     "data": {
      "application/vnd.jupyter.widget-view+json": {
       "model_id": "a8dfedec6ea047d8979eb5d082096a4e",
       "version_major": 2,
       "version_minor": 0
      },
      "text/plain": [
       "HBox(children=(FloatProgress(value=0.0, max=4896.0), HTML(value='')))"
      ]
     },
     "metadata": {},
     "output_type": "display_data"
    },
    {
     "name": "stdout",
     "output_type": "stream",
     "text": [
      "\n",
      "1.(((1, 4),), ((1, 4),), ((0, 8), (1, 4), (3, 4))): Elem self loop: O\n"
     ]
    },
    {
     "data": {
      "application/vnd.jupyter.widget-view+json": {
       "model_id": "1b1877fc410747f8a999a4086c2edeed",
       "version_major": 2,
       "version_minor": 0
      },
      "text/plain": [
       "HBox(children=(FloatProgress(value=0.0, max=5508.0), HTML(value='')))"
      ]
     },
     "metadata": {},
     "output_type": "display_data"
    },
    {
     "name": "stdout",
     "output_type": "stream",
     "text": [
      "\n",
      "1.(((1, 4),), ((1, 4),), ((0, 8), (1, 4), (3, 4))):  Elem pairs loop: O\n"
     ]
    },
    {
     "data": {
      "application/vnd.jupyter.widget-view+json": {
       "model_id": "b9d94aa9c04d40158b4120034dafe1bf",
       "version_major": 2,
       "version_minor": 0
      },
      "text/plain": [
       "HBox(children=(FloatProgress(value=0.0, max=359632.0), HTML(value='')))"
      ]
     },
     "metadata": {},
     "output_type": "display_data"
    },
    {
     "name": "stdout",
     "output_type": "stream",
     "text": [
      "\n",
      "2 (((1, 4),), ((1, 4),), ((0, 8), (2, 4), (3, 4)))\n",
      "2.(((1, 4),), ((1, 4),), ((0, 8), (2, 4), (3, 4))): Elem self loop: Pb\n"
     ]
    },
    {
     "data": {
      "application/vnd.jupyter.widget-view+json": {
       "model_id": "9e459baa4b9e4955a2ab92b3d2aea8b0",
       "version_major": 2,
       "version_minor": 0
      },
      "text/plain": [
       "HBox(children=(FloatProgress(value=0.0, max=72.0), HTML(value='')))"
      ]
     },
     "metadata": {},
     "output_type": "display_data"
    },
    {
     "name": "stdout",
     "output_type": "stream",
     "text": [
      "\n",
      "2.(((1, 4),), ((1, 4),), ((0, 8), (2, 4), (3, 4))): Elem self loop: S\n"
     ]
    },
    {
     "data": {
      "application/vnd.jupyter.widget-view+json": {
       "model_id": "1cd3556b2e804765a69c593fc7b7e56a",
       "version_major": 2,
       "version_minor": 0
      },
      "text/plain": [
       "HBox(children=(FloatProgress(value=0.0, max=68.0), HTML(value='')))"
      ]
     },
     "metadata": {},
     "output_type": "display_data"
    },
    {
     "name": "stdout",
     "output_type": "stream",
     "text": [
      "\n",
      "2.(((1, 4),), ((1, 4),), ((0, 8), (2, 4), (3, 4))):  Elem pairs loop: S\n"
     ]
    },
    {
     "data": {
      "application/vnd.jupyter.widget-view+json": {
       "model_id": "328e24b700224af488daf0cc64c76923",
       "version_major": 2,
       "version_minor": 0
      },
      "text/plain": [
       "HBox(children=(FloatProgress(value=0.0, max=4896.0), HTML(value='')))"
      ]
     },
     "metadata": {},
     "output_type": "display_data"
    },
    {
     "name": "stdout",
     "output_type": "stream",
     "text": [
      "\n",
      "2.(((1, 4),), ((1, 4),), ((0, 8), (2, 4), (3, 4))): Elem self loop: O\n"
     ]
    },
    {
     "data": {
      "application/vnd.jupyter.widget-view+json": {
       "model_id": "6062d2eeb56041be891d8a302e926fe1",
       "version_major": 2,
       "version_minor": 0
      },
      "text/plain": [
       "HBox(children=(FloatProgress(value=0.0, max=68.0), HTML(value='')))"
      ]
     },
     "metadata": {},
     "output_type": "display_data"
    },
    {
     "name": "stdout",
     "output_type": "stream",
     "text": [
      "\n",
      "2.(((1, 4),), ((1, 4),), ((0, 8), (2, 4), (3, 4))):  Elem pairs loop: O\n"
     ]
    },
    {
     "data": {
      "application/vnd.jupyter.widget-view+json": {
       "model_id": "46f8681488954f019c153998988cfbba",
       "version_major": 2,
       "version_minor": 0
      },
      "text/plain": [
       "HBox(children=(FloatProgress(value=0.0, max=4256.0), HTML(value='')))"
      ]
     },
     "metadata": {},
     "output_type": "display_data"
    },
    {
     "name": "stdout",
     "output_type": "stream",
     "text": [
      "\n",
      "3 (((1, 4),), ((2, 4),), ((0, 8), (1, 4), (3, 4)))\n",
      "3.(((1, 4),), ((2, 4),), ((0, 8), (1, 4), (3, 4))): Elem self loop: Pb\n"
     ]
    },
    {
     "data": {
      "application/vnd.jupyter.widget-view+json": {
       "model_id": "4ee9c758597848fb81df9e9b64c1b80c",
       "version_major": 2,
       "version_minor": 0
      },
      "text/plain": [
       "HBox(children=(FloatProgress(value=0.0, max=72.0), HTML(value='')))"
      ]
     },
     "metadata": {},
     "output_type": "display_data"
    },
    {
     "name": "stdout",
     "output_type": "stream",
     "text": [
      "\n",
      "3.(((1, 4),), ((2, 4),), ((0, 8), (1, 4), (3, 4))): Elem self loop: S\n"
     ]
    },
    {
     "data": {
      "application/vnd.jupyter.widget-view+json": {
       "model_id": "a8ebddfe166c4274946e1e675184ff39",
       "version_major": 2,
       "version_minor": 0
      },
      "text/plain": [
       "HBox(children=(FloatProgress(value=1.0, bar_style='info', max=1.0), HTML(value='')))"
      ]
     },
     "metadata": {},
     "output_type": "display_data"
    },
    {
     "name": "stdout",
     "output_type": "stream",
     "text": [
      "\n",
      "3.(((1, 4),), ((2, 4),), ((0, 8), (1, 4), (3, 4))):  Elem pairs loop: S\n"
     ]
    },
    {
     "data": {
      "application/vnd.jupyter.widget-view+json": {
       "model_id": "d99c98490de649dc82c77b27816ba999",
       "version_major": 2,
       "version_minor": 0
      },
      "text/plain": [
       "HBox(children=(FloatProgress(value=1.0, bar_style='info', max=1.0), HTML(value='')))"
      ]
     },
     "metadata": {},
     "output_type": "display_data"
    },
    {
     "name": "stdout",
     "output_type": "stream",
     "text": [
      "\n",
      "3.(((1, 4),), ((2, 4),), ((0, 8), (1, 4), (3, 4))): Elem self loop: O\n"
     ]
    },
    {
     "data": {
      "application/vnd.jupyter.widget-view+json": {
       "model_id": "da11ed4750af46a5800c86edfb9bb8fc",
       "version_major": 2,
       "version_minor": 0
      },
      "text/plain": [
       "HBox(children=(FloatProgress(value=0.0, max=5508.0), HTML(value='')))"
      ]
     },
     "metadata": {},
     "output_type": "display_data"
    },
    {
     "name": "stdout",
     "output_type": "stream",
     "text": [
      "\n",
      "3.(((1, 4),), ((2, 4),), ((0, 8), (1, 4), (3, 4))):  Elem pairs loop: O\n"
     ]
    },
    {
     "data": {
      "application/vnd.jupyter.widget-view+json": {
       "model_id": "5d413687f4c7412cb7e398f79a7c5b47",
       "version_major": 2,
       "version_minor": 0
      },
      "text/plain": [
       "HBox(children=(FloatProgress(value=1.0, bar_style='info', max=1.0), HTML(value='')))"
      ]
     },
     "metadata": {},
     "output_type": "display_data"
    },
    {
     "name": "stdout",
     "output_type": "stream",
     "text": [
      "\n",
      "4 (((1, 4),), ((3, 4),), ((0, 8), (1, 4), (2, 4)))\n",
      "4.(((1, 4),), ((3, 4),), ((0, 8), (1, 4), (2, 4))): Elem self loop: Pb\n"
     ]
    },
    {
     "data": {
      "application/vnd.jupyter.widget-view+json": {
       "model_id": "650e59024bfa466382802c59ef5a72ac",
       "version_major": 2,
       "version_minor": 0
      },
      "text/plain": [
       "HBox(children=(FloatProgress(value=0.0, max=72.0), HTML(value='')))"
      ]
     },
     "metadata": {},
     "output_type": "display_data"
    },
    {
     "name": "stdout",
     "output_type": "stream",
     "text": [
      "\n",
      "4.(((1, 4),), ((3, 4),), ((0, 8), (1, 4), (2, 4))): Elem self loop: S\n"
     ]
    },
    {
     "data": {
      "application/vnd.jupyter.widget-view+json": {
       "model_id": "2dcd93b1c5814f83a931e8aae0cfca97",
       "version_major": 2,
       "version_minor": 0
      },
      "text/plain": [
       "HBox(children=(FloatProgress(value=1.0, bar_style='info', max=1.0), HTML(value='')))"
      ]
     },
     "metadata": {},
     "output_type": "display_data"
    },
    {
     "name": "stdout",
     "output_type": "stream",
     "text": [
      "\n",
      "4.(((1, 4),), ((3, 4),), ((0, 8), (1, 4), (2, 4))):  Elem pairs loop: S\n"
     ]
    },
    {
     "data": {
      "application/vnd.jupyter.widget-view+json": {
       "model_id": "4a55250dcc95405abc55d40cc5be0358",
       "version_major": 2,
       "version_minor": 0
      },
      "text/plain": [
       "HBox(children=(FloatProgress(value=1.0, bar_style='info', max=1.0), HTML(value='')))"
      ]
     },
     "metadata": {},
     "output_type": "display_data"
    },
    {
     "name": "stdout",
     "output_type": "stream",
     "text": [
      "\n",
      "4.(((1, 4),), ((3, 4),), ((0, 8), (1, 4), (2, 4))): Elem self loop: O\n"
     ]
    },
    {
     "data": {
      "application/vnd.jupyter.widget-view+json": {
       "model_id": "a0ba09b2a22f430aa046d85c38dbf18e",
       "version_major": 2,
       "version_minor": 0
      },
      "text/plain": [
       "HBox(children=(FloatProgress(value=0.0, max=5508.0), HTML(value='')))"
      ]
     },
     "metadata": {},
     "output_type": "display_data"
    },
    {
     "name": "stdout",
     "output_type": "stream",
     "text": [
      "\n",
      "4.(((1, 4),), ((3, 4),), ((0, 8), (1, 4), (2, 4))):  Elem pairs loop: O\n"
     ]
    },
    {
     "data": {
      "application/vnd.jupyter.widget-view+json": {
       "model_id": "f4e7261e868140ed8562c7eabfee2b37",
       "version_major": 2,
       "version_minor": 0
      },
      "text/plain": [
       "HBox(children=(FloatProgress(value=1.0, bar_style='info', max=1.0), HTML(value='')))"
      ]
     },
     "metadata": {},
     "output_type": "display_data"
    },
    {
     "name": "stdout",
     "output_type": "stream",
     "text": [
      "\n",
      "5 (((2, 4),), ((1, 4),), ((0, 8), (1, 4), (3, 4)))\n",
      "5.(((2, 4),), ((1, 4),), ((0, 8), (1, 4), (3, 4))): Elem self loop: Pb\n"
     ]
    },
    {
     "data": {
      "application/vnd.jupyter.widget-view+json": {
       "model_id": "98c85b171f164be78825e323c8ea35c8",
       "version_major": 2,
       "version_minor": 0
      },
      "text/plain": [
       "HBox(children=(FloatProgress(value=1.0, bar_style='info', max=1.0), HTML(value='')))"
      ]
     },
     "metadata": {},
     "output_type": "display_data"
    },
    {
     "name": "stdout",
     "output_type": "stream",
     "text": [
      "\n",
      "5.(((2, 4),), ((1, 4),), ((0, 8), (1, 4), (3, 4))): Elem self loop: S\n"
     ]
    },
    {
     "data": {
      "application/vnd.jupyter.widget-view+json": {
       "model_id": "c1a7132f43c949bb95c542ec95d48037",
       "version_major": 2,
       "version_minor": 0
      },
      "text/plain": [
       "HBox(children=(FloatProgress(value=0.0, max=68.0), HTML(value='')))"
      ]
     },
     "metadata": {},
     "output_type": "display_data"
    },
    {
     "name": "stdout",
     "output_type": "stream",
     "text": [
      "\n",
      "5.(((2, 4),), ((1, 4),), ((0, 8), (1, 4), (3, 4))):  Elem pairs loop: S\n"
     ]
    },
    {
     "data": {
      "application/vnd.jupyter.widget-view+json": {
       "model_id": "14b4ecb406624b6faa6475518c0c1b7b",
       "version_major": 2,
       "version_minor": 0
      },
      "text/plain": [
       "HBox(children=(FloatProgress(value=1.0, bar_style='info', max=1.0), HTML(value='')))"
      ]
     },
     "metadata": {},
     "output_type": "display_data"
    },
    {
     "name": "stdout",
     "output_type": "stream",
     "text": [
      "\n",
      "5.(((2, 4),), ((1, 4),), ((0, 8), (1, 4), (3, 4))): Elem self loop: O\n"
     ]
    },
    {
     "data": {
      "application/vnd.jupyter.widget-view+json": {
       "model_id": "e535f50b5f3d45df946730d4d73fe990",
       "version_major": 2,
       "version_minor": 0
      },
      "text/plain": [
       "HBox(children=(FloatProgress(value=0.0, max=5508.0), HTML(value='')))"
      ]
     },
     "metadata": {},
     "output_type": "display_data"
    },
    {
     "name": "stdout",
     "output_type": "stream",
     "text": [
      "\n",
      "5.(((2, 4),), ((1, 4),), ((0, 8), (1, 4), (3, 4))):  Elem pairs loop: O\n"
     ]
    },
    {
     "data": {
      "application/vnd.jupyter.widget-view+json": {
       "model_id": "651745a258e14227804f6e2e86f71516",
       "version_major": 2,
       "version_minor": 0
      },
      "text/plain": [
       "HBox(children=(FloatProgress(value=1.0, bar_style='info', max=1.0), HTML(value='')))"
      ]
     },
     "metadata": {},
     "output_type": "display_data"
    },
    {
     "name": "stdout",
     "output_type": "stream",
     "text": [
      "\n"
     ]
    }
   ],
   "source": [
    "filter_further = [] # We will collect all \"feasible\" structures in this list\n",
    "top_X_combinations = -1 # If we want to focus on top X combinations, we can set this to some other value X.\n",
    "\n",
    "counter=0\n",
    "for combin in filter_combinations[:top_X_combinations]:\n",
    "    print(counter, combin)\n",
    "    rolling_good_base_strs = []\n",
    "    for atom in range(len(combin)):\n",
    "        elem_group = combin[atom]\n",
    "        elem = atoms[atom][1]\n",
    "        if elem in d_mins_squared:\n",
    "            d_min_squared = d_mins_squared[elem]\n",
    "        else:\n",
    "            d_min_squared = None\n",
    "        \n",
    "        # FIRST WE WILL GET WYCKOFF SITE GRIDS; \n",
    "        # AND REMOVE THOSE OVERLAP ACCROSS DIFFERENT SITES FOR SAME ATOM!\n",
    "        _g = []\n",
    "        print('{}.{}: Elem self loop: {}'.format(counter, combin, elem))\n",
    "        for site in elem_group:\n",
    "            _g.append(list(get_wyckoff_candidates(wyckoffs[site[0]],npoints=npoints, \n",
    "                                                  d_min_squared=d_min_squared, lattice=lattice)))\n",
    "        within_elem_group = list(itertools.product(*_g))\n",
    "        \n",
    "        _d_tol_squared = d_min_squared if d_min_squared else d_tol_squared\n",
    "        good_strs_within_elem_group = []\n",
    "        \n",
    "        for struct in tqdm(within_elem_group):\n",
    "            skip_str = False\n",
    "            for sub_pairs in itertools.combinations(struct,2):\n",
    "                for s1,s2 in itertools.product(*sub_pairs):\n",
    "                    if np.sum( (\n",
    "                                    lattice.get_cartesian_coords(\n",
    "                                                np.array(s1))\n",
    "                                            -lattice.get_cartesian_coords(\n",
    "                                                np.array(s2)))**2 ) < _d_tol_squared:\n",
    "                        skip_str = True\n",
    "                        break\n",
    "                else:\n",
    "                    continue\n",
    "                break\n",
    "            if not skip_str:\n",
    "                good_strs_within_elem_group.append([[i for sub in struct for i in sub]])\n",
    "            \n",
    "        if atom==0:\n",
    "            rolling_good_base_strs = good_strs_within_elem_group\n",
    "            \n",
    "        # NOW; we will combine good_strs_within_elem_group and rolling_good_base_strs and\n",
    "        # remove if any bad structures accross these.\n",
    "            \n",
    "        if atom>0:\n",
    "            print('{}.{}:  Elem pairs loop: {}'.format(counter, combin, elem))\n",
    "            good_structures_merged = []\n",
    "            for structs in tqdm( itertools.product(rolling_good_base_strs, good_strs_within_elem_group), \n",
    "                               total=len(rolling_good_base_strs)*len(good_strs_within_elem_group)):\n",
    "                skip_str = False\n",
    "                for i in range(len(structs[0])):\n",
    "                    # different atoms of previous kind\n",
    "                    atomgroup1 = structs[0][i]\n",
    "                    atomgroup2 = structs[1][0]\n",
    "                    pair = '-'.join(sorted([atoms[i][1], atoms[atom][1]]))\n",
    "                    _d_tol_squared = max( d_mins_squared.get(pair, 0), d_tol_squared)     \n",
    "                    for s1,s2 in itertools.product(atomgroup1,atomgroup2):\n",
    "                        if np.sum( (lattice.get_cartesian_coords(\n",
    "                                                    np.array(s1))\n",
    "                                                -lattice.get_cartesian_coords(\n",
    "                                                    np.array(s2)))**2 ) < _d_tol_squared:\n",
    "                                skip_str = True\n",
    "                                break\n",
    "                    if skip_str:\n",
    "                        break\n",
    "                if not skip_str:\n",
    "                    good_structures_merged.append(structs[0]+[structs[1][0]])\n",
    "            rolling_good_base_strs = good_structures_merged\n",
    "    filter_further+=rolling_good_base_strs\n",
    "    counter+=1"
   ]
  },
  {
   "cell_type": "markdown",
   "metadata": {},
   "source": [
    "Let's see how many structures are generated with a npoints=10 and distance thresholds specified:"
   ]
  },
  {
   "cell_type": "code",
   "execution_count": 17,
   "metadata": {
    "scrolled": false
   },
   "outputs": [
    {
     "data": {
      "text/plain": [
       "14488"
      ]
     },
     "execution_count": 17,
     "metadata": {},
     "output_type": "execute_result"
    }
   ],
   "source": [
    "len(filter_further)"
   ]
  },
  {
   "cell_type": "markdown",
   "metadata": {},
   "source": [
    "Okay, now let's compare these to experimental structure to see if we have a decent match in our list. Whole workflow below is really crude -- needs lots of cleanup/refinement. And is also slow."
   ]
  },
  {
   "cell_type": "code",
   "execution_count": 20,
   "metadata": {},
   "outputs": [],
   "source": [
    "original_str = Structure.from_file('PbSO4_AMS_DATA.cif')"
   ]
  },
  {
   "cell_type": "code",
   "execution_count": 21,
   "metadata": {},
   "outputs": [],
   "source": [
    "from pymatgen.analysis.structure_matcher import StructureMatcher\n",
    "sm = StructureMatcher(ltol=0.6,stol=0.6, angle_tol=25)"
   ]
  },
  {
   "cell_type": "markdown",
   "metadata": {},
   "source": [
    "Let's get pymatgen.Structure objects from our coordinates, and comapre those to the original structure. This will take a while..."
   ]
  },
  {
   "cell_type": "code",
   "execution_count": 24,
   "metadata": {},
   "outputs": [
    {
     "name": "stdout",
     "output_type": "stream",
     "text": [
      "0  100  200  300  400  500  600  700  800  900  1000  1100  1200  1300  1400  1500  1600  1700  1800  1900  2000  2100  2200  2300  2400  2500  2600  2700  2800  2900  3000  3100  3200  3300  3400  3500  3600  3700  3800  3900  4000  4100  4200  4300  4400  4500  4600  4700  4800  4900  5000  5100  5200  5300  5400  5500  5600  5700  5800  5900  6000  6100  6200  6300  6400  6500  6600  6700  6800  6900  7000  7100  7200  7300  7400  7500  7600  7700  7800  7900  8000  8100  8200  8300  8400  8500  8600  8700  8800  8900  9000  9100  9200  9300  9400  9500  9600  9700  9800  9900  10000  10100  10200  10300  10400  10500  10600  10700  10800  10900  11000  11100  11200  11300  11400  11500  11600  11700  11800  11900  12000  12100  12200  12300  12400  12500  12600  12700  12800  12900  13000  13100  13200  13300  13400  13500  13600  13700  13800  13900  14000  14100  14200  14300  14400  "
     ]
    }
   ],
   "source": [
    "species = ['Pb']*4+['S']*4+['O']*16\n",
    "scores=[]\n",
    "for m in range(len(filter_further)):\n",
    "    sites = []\n",
    "    for j in [list(i) for i in filter_further[m]]:\n",
    "        for k in j:\n",
    "            sites.append(k)\n",
    "    s = Structure(lattice, species, sites)\n",
    "    if m%100==0:\n",
    "        print(m,' ', end='')\n",
    "    scores.append( sm.get_rms_dist(s, original_str) )"
   ]
  },
  {
   "cell_type": "code",
   "execution_count": 28,
   "metadata": {},
   "outputs": [],
   "source": [
    "# we should write a simple function to setup Structure from coordinates in filter_further..."
   ]
  },
  {
   "cell_type": "code",
   "execution_count": 26,
   "metadata": {
    "scrolled": true
   },
   "outputs": [],
   "source": [
    "_scores = [(scores[i][0],i) for i in range(len(scores)) if scores[i] is not None]"
   ]
  },
  {
   "cell_type": "code",
   "execution_count": 27,
   "metadata": {},
   "outputs": [
    {
     "data": {
      "text/plain": [
       "(0.3055005621261954, 8364)"
      ]
     },
     "execution_count": 27,
     "metadata": {},
     "output_type": "execute_result"
    }
   ],
   "source": [
    "min(_scores)"
   ]
  },
  {
   "cell_type": "markdown",
   "metadata": {},
   "source": [
    "We can save this structure we found and inspect."
   ]
  },
  {
   "cell_type": "code",
   "execution_count": 30,
   "metadata": {},
   "outputs": [],
   "source": [
    "species = ['Pb']*4+['S']*4+['O']*16\n",
    "sites = []\n",
    "for j in [list(i) for i in filter_further[min(_scores)[1]]]:\n",
    "    for k in j:\n",
    "        sites.append(k)\n",
    "s = Structure(lattice, species, sites)\n",
    "s.to('poscar','best_so_far.vasp')"
   ]
  },
  {
   "cell_type": "markdown",
   "metadata": {},
   "source": [
    "This structure looks reasonble, but it does not seem close enough to the actual structure. My test with npointst=12 \n",
    "(for which StructureMatching, rather than generation, is the the most time-consuming step) yielded a structure that has a score 0.29 but looks much closer to the original one."
   ]
  },
  {
   "cell_type": "code",
   "execution_count": null,
   "metadata": {},
   "outputs": [],
   "source": []
  }
 ],
 "metadata": {
  "kernelspec": {
   "display_name": "Python 3",
   "language": "python",
   "name": "python3"
  },
  "language_info": {
   "codemirror_mode": {
    "name": "ipython",
    "version": 3
   },
   "file_extension": ".py",
   "mimetype": "text/x-python",
   "name": "python",
   "nbconvert_exporter": "python",
   "pygments_lexer": "ipython3",
   "version": "3.7.7"
  }
 },
 "nbformat": 4,
 "nbformat_minor": 4
}
