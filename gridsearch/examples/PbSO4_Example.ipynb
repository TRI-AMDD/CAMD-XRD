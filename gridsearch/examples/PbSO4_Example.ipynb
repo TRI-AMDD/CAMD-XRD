{
 "cells": [
  {
   "cell_type": "markdown",
   "metadata": {},
   "source": [
    "### Hierarchical generation of candidate structures from space group, composition, and lattice parameters."
   ]
  },
  {
   "cell_type": "markdown",
   "metadata": {},
   "source": [
    "We will use PbSO4 (spg: 62) as an example for structure generation"
   ]
  },
  {
   "cell_type": "code",
   "execution_count": 1,
   "metadata": {},
   "outputs": [],
   "source": [
    "from hsg import HierarchicalStructureGeneration\n",
    "from utils import get_minimum_distances"
   ]
  },
  {
   "cell_type": "markdown",
   "metadata": {},
   "source": [
    "Here is some information on PbSO4:"
   ]
  },
  {
   "cell_type": "code",
   "execution_count": 2,
   "metadata": {},
   "outputs": [],
   "source": [
    "spg=62\n",
    "c=6.959; a=8.482; b=5.398; alpha=90; beta=90; gamma=90 \n",
    "atoms = [(4,'Pb'), (16,'O'), (4,'S')]\n",
    "# General ovelap threshold:\n",
    "d_tol = 1.2 \n",
    "# Specific thresholds:\n",
    "d_mins = {'Pb': 1.5*2, 'S': 1.70*2, 'O': 2.1, 'O-Pb': 2.4, 'Pb-S': 3.0}"
   ]
  },
  {
   "cell_type": "markdown",
   "metadata": {},
   "source": [
    "Let's look at the convenience distance dictionary generator to see if our choices make sense."
   ]
  },
  {
   "cell_type": "code",
   "execution_count": 3,
   "metadata": {
    "scrolled": true
   },
   "outputs": [
    {
     "data": {
      "text/plain": [
       "{'Pb': 3.195545009975325,\n",
       " 'Pb-S': 2.391605958780626,\n",
       " 'O-Pb': 2.0251249999999996,\n",
       " 'S': 1.5876669075859264,\n",
       " 'O-S': 1.249925,\n",
       " 'O': 2.142}"
      ]
     },
     "execution_count": 3,
     "metadata": {},
     "output_type": "execute_result"
    }
   ],
   "source": [
    "get_minimum_distances('PbSO4', glue='O', polya=['S','O'])"
   ]
  },
  {
   "cell_type": "code",
   "execution_count": 4,
   "metadata": {},
   "outputs": [],
   "source": [
    "hsg = HierarchicalStructureGeneration(spg=spg, a=a, b=b, c=c, \n",
    "                                      alpha=alpha, beta=beta, \n",
    "                                      gamma=gamma, atoms=atoms, \n",
    "                                      d_tol=d_tol, d_mins=d_mins, \n",
    "                                      use_asu=True)"
   ]
  },
  {
   "cell_type": "markdown",
   "metadata": {},
   "source": [
    "`HierarchicalStructureGeneration` can confine the search to the asymmetric unit parallelpiped of the unit cell for more efficient searching."
   ]
  },
  {
   "cell_type": "code",
   "execution_count": 5,
   "metadata": {},
   "outputs": [
    {
     "data": {
      "text/plain": [
       "([[0, 0.5], [0, 0.25], [0, 1]], [[True, False], [True, True], [True, False]])"
      ]
     },
     "execution_count": 5,
     "metadata": {},
     "output_type": "execute_result"
    }
   ],
   "source": [
    "hsg.ppipe"
   ]
  },
  {
   "cell_type": "markdown",
   "metadata": {},
   "source": [
    "We have 35 unique Wyckoff combinations that satisfy the number of atoms:"
   ]
  },
  {
   "cell_type": "code",
   "execution_count": 6,
   "metadata": {},
   "outputs": [
    {
     "name": "stdout",
     "output_type": "stream",
     "text": [
      "35\n"
     ]
    }
   ],
   "source": [
    "print(len(hsg.filter_combinations))"
   ]
  },
  {
   "cell_type": "code",
   "execution_count": 7,
   "metadata": {},
   "outputs": [
    {
     "data": {
      "text/plain": [
       "[(((1, 4),), ((1, 4),), ((0, 8), (0, 8))),\n",
       " (((1, 4),), ((2, 4),), ((0, 8), (0, 8))),\n",
       " (((1, 4),), ((3, 4),), ((0, 8), (0, 8))),\n",
       " (((2, 4),), ((1, 4),), ((0, 8), (0, 8))),\n",
       " (((2, 4),), ((3, 4),), ((0, 8), (0, 8))),\n",
       " (((3, 4),), ((1, 4),), ((0, 8), (0, 8))),\n",
       " (((3, 4),), ((2, 4),), ((0, 8), (0, 8))),\n",
       " (((1, 4),), ((1, 4),), ((0, 8), (1, 4), (1, 4))),\n",
       " (((1, 4),), ((1, 4),), ((0, 8), (1, 4), (2, 4))),\n",
       " (((1, 4),), ((1, 4),), ((0, 8), (1, 4), (3, 4))),\n",
       " (((1, 4),), ((1, 4),), ((0, 8), (2, 4), (3, 4))),\n",
       " (((1, 4),), ((2, 4),), ((0, 8), (1, 4), (1, 4))),\n",
       " (((1, 4),), ((2, 4),), ((0, 8), (1, 4), (3, 4))),\n",
       " (((1, 4),), ((3, 4),), ((0, 8), (1, 4), (1, 4))),\n",
       " (((1, 4),), ((3, 4),), ((0, 8), (1, 4), (2, 4))),\n",
       " (((2, 4),), ((1, 4),), ((0, 8), (1, 4), (1, 4))),\n",
       " (((2, 4),), ((1, 4),), ((0, 8), (1, 4), (3, 4))),\n",
       " (((2, 4),), ((3, 4),), ((0, 8), (1, 4), (1, 4))),\n",
       " (((3, 4),), ((1, 4),), ((0, 8), (1, 4), (1, 4))),\n",
       " (((3, 4),), ((1, 4),), ((0, 8), (1, 4), (2, 4))),\n",
       " (((3, 4),), ((2, 4),), ((0, 8), (1, 4), (1, 4))),\n",
       " (((1, 4),), ((1, 4),), ((1, 4), (1, 4), (1, 4), (1, 4))),\n",
       " (((1, 4),), ((1, 4),), ((1, 4), (1, 4), (1, 4), (2, 4))),\n",
       " (((1, 4),), ((1, 4),), ((1, 4), (1, 4), (1, 4), (3, 4))),\n",
       " (((1, 4),), ((1, 4),), ((1, 4), (1, 4), (2, 4), (3, 4))),\n",
       " (((1, 4),), ((2, 4),), ((1, 4), (1, 4), (1, 4), (1, 4))),\n",
       " (((1, 4),), ((2, 4),), ((1, 4), (1, 4), (1, 4), (3, 4))),\n",
       " (((1, 4),), ((3, 4),), ((1, 4), (1, 4), (1, 4), (1, 4))),\n",
       " (((1, 4),), ((3, 4),), ((1, 4), (1, 4), (1, 4), (2, 4))),\n",
       " (((2, 4),), ((1, 4),), ((1, 4), (1, 4), (1, 4), (1, 4))),\n",
       " (((2, 4),), ((1, 4),), ((1, 4), (1, 4), (1, 4), (3, 4))),\n",
       " (((2, 4),), ((3, 4),), ((1, 4), (1, 4), (1, 4), (1, 4))),\n",
       " (((3, 4),), ((1, 4),), ((1, 4), (1, 4), (1, 4), (1, 4))),\n",
       " (((3, 4),), ((1, 4),), ((1, 4), (1, 4), (1, 4), (2, 4))),\n",
       " (((3, 4),), ((2, 4),), ((1, 4), (1, 4), (1, 4), (1, 4)))]"
      ]
     },
     "execution_count": 7,
     "metadata": {},
     "output_type": "execute_result"
    }
   ],
   "source": [
    "hsg.filter_combinations"
   ]
  },
  {
   "cell_type": "markdown",
   "metadata": {},
   "source": [
    "Just as an example, let's generate structures for 0, 1, 7 and 28 (7 happens to contain the actual structure). We will use a point density of 1.2 points per angstrom. This may take a few minutes"
   ]
  },
  {
   "cell_type": "code",
   "execution_count": 8,
   "metadata": {
    "scrolled": true
   },
   "outputs": [
    {
     "name": "stdout",
     "output_type": "stream",
     "text": [
      "0 (((1, 4),), ((1, 4),), ((0, 8), (0, 8)))\n",
      "0.(((1, 4),), ((1, 4),), ((0, 8), (0, 8))): Elem self loop: Pb\n",
      "Using 6 points in direction 0\n",
      "Using 9 points in direction 2\n"
     ]
    },
    {
     "data": {
      "application/vnd.jupyter.widget-view+json": {
       "model_id": "efd23497a97e4dbfbc571fa4a20eedd4",
       "version_major": 2,
       "version_minor": 0
      },
      "text/plain": [
       "HBox(children=(FloatProgress(value=0.0, max=51.0), HTML(value='')))"
      ]
     },
     "metadata": {},
     "output_type": "display_data"
    },
    {
     "name": "stdout",
     "output_type": "stream",
     "text": [
      "\n",
      "0.(((1, 4),), ((1, 4),), ((0, 8), (0, 8))): Elem self loop: S\n",
      "Using 6 points in direction 0\n",
      "Using 9 points in direction 2\n"
     ]
    },
    {
     "data": {
      "application/vnd.jupyter.widget-view+json": {
       "model_id": "edb8802e233f4f14b1058a07612aafcd",
       "version_major": 2,
       "version_minor": 0
      },
      "text/plain": [
       "HBox(children=(FloatProgress(value=0.0, max=45.0), HTML(value='')))"
      ]
     },
     "metadata": {},
     "output_type": "display_data"
    },
    {
     "name": "stdout",
     "output_type": "stream",
     "text": [
      "\n",
      "0.(((1, 4),), ((1, 4),), ((0, 8), (0, 8))):  Elem pairs loop: S\n"
     ]
    },
    {
     "data": {
      "application/vnd.jupyter.widget-view+json": {
       "model_id": "da385813360d464bb470bbae3e6ac7f0",
       "version_major": 2,
       "version_minor": 0
      },
      "text/plain": [
       "HBox(children=(FloatProgress(value=0.0, max=2295.0), HTML(value='')))"
      ]
     },
     "metadata": {},
     "output_type": "display_data"
    },
    {
     "name": "stdout",
     "output_type": "stream",
     "text": [
      "\n",
      "0.(((1, 4),), ((1, 4),), ((0, 8), (0, 8))): Elem self loop: O\n",
      "Using 6 points in direction 0\n",
      "Using 2 points in direction 1\n",
      "Using 9 points in direction 2\n"
     ]
    },
    {
     "data": {
      "application/vnd.jupyter.widget-view+json": {
       "model_id": "8c25cf7208f84e2e9d578fee0002233e",
       "version_major": 2,
       "version_minor": 0
      },
      "text/plain": [
       "HBox(children=(FloatProgress(value=0.0, max=130.0), HTML(value='')))"
      ]
     },
     "metadata": {},
     "output_type": "display_data"
    },
    {
     "name": "stdout",
     "output_type": "stream",
     "text": [
      "\n",
      "0.(((1, 4),), ((1, 4),), ((0, 8), (0, 8))):  Elem pairs loop: O\n"
     ]
    },
    {
     "data": {
      "application/vnd.jupyter.widget-view+json": {
       "model_id": "19e4d2fefce047d2b693271419e6f1a1",
       "version_major": 2,
       "version_minor": 0
      },
      "text/plain": [
       "HBox(children=(FloatProgress(value=0.0, max=40300.0), HTML(value='')))"
      ]
     },
     "metadata": {},
     "output_type": "display_data"
    },
    {
     "name": "stdout",
     "output_type": "stream",
     "text": [
      "\n",
      "1 (((1, 4),), ((2, 4),), ((0, 8), (0, 8)))\n",
      "1.(((1, 4),), ((2, 4),), ((0, 8), (0, 8))): Elem self loop: Pb\n",
      "Using 6 points in direction 0\n",
      "Using 9 points in direction 2\n"
     ]
    },
    {
     "data": {
      "application/vnd.jupyter.widget-view+json": {
       "model_id": "fd3aebf9329440409a01bd2c3efacc0b",
       "version_major": 2,
       "version_minor": 0
      },
      "text/plain": [
       "HBox(children=(FloatProgress(value=0.0, max=51.0), HTML(value='')))"
      ]
     },
     "metadata": {},
     "output_type": "display_data"
    },
    {
     "name": "stdout",
     "output_type": "stream",
     "text": [
      "\n",
      "1.(((1, 4),), ((2, 4),), ((0, 8), (0, 8))): Elem self loop: S\n"
     ]
    },
    {
     "data": {
      "application/vnd.jupyter.widget-view+json": {
       "model_id": "625b1a2c92c7466999d4a2427d56a6fe",
       "version_major": 2,
       "version_minor": 0
      },
      "text/plain": [
       "HBox(children=(FloatProgress(value=1.0, bar_style='info', max=1.0), HTML(value='')))"
      ]
     },
     "metadata": {},
     "output_type": "display_data"
    },
    {
     "name": "stdout",
     "output_type": "stream",
     "text": [
      "\n",
      "1.(((1, 4),), ((2, 4),), ((0, 8), (0, 8))):  Elem pairs loop: S\n"
     ]
    },
    {
     "data": {
      "application/vnd.jupyter.widget-view+json": {
       "model_id": "12e97eb8849c42399dfdbc823bbbdf26",
       "version_major": 2,
       "version_minor": 0
      },
      "text/plain": [
       "HBox(children=(FloatProgress(value=1.0, bar_style='info', max=1.0), HTML(value='')))"
      ]
     },
     "metadata": {},
     "output_type": "display_data"
    },
    {
     "name": "stdout",
     "output_type": "stream",
     "text": [
      "\n",
      "1.(((1, 4),), ((2, 4),), ((0, 8), (0, 8))): Elem self loop: O\n",
      "Using 6 points in direction 0\n",
      "Using 2 points in direction 1\n",
      "Using 9 points in direction 2\n"
     ]
    },
    {
     "data": {
      "application/vnd.jupyter.widget-view+json": {
       "model_id": "015989f24f2d4cf0ad8be5a927b674a4",
       "version_major": 2,
       "version_minor": 0
      },
      "text/plain": [
       "HBox(children=(FloatProgress(value=0.0, max=130.0), HTML(value='')))"
      ]
     },
     "metadata": {},
     "output_type": "display_data"
    },
    {
     "name": "stdout",
     "output_type": "stream",
     "text": [
      "\n",
      "1.(((1, 4),), ((2, 4),), ((0, 8), (0, 8))):  Elem pairs loop: O\n"
     ]
    },
    {
     "data": {
      "application/vnd.jupyter.widget-view+json": {
       "model_id": "73220dcf2c5a4d34a919841134c7ca89",
       "version_major": 2,
       "version_minor": 0
      },
      "text/plain": [
       "HBox(children=(FloatProgress(value=1.0, bar_style='info', max=1.0), HTML(value='')))"
      ]
     },
     "metadata": {},
     "output_type": "display_data"
    },
    {
     "name": "stdout",
     "output_type": "stream",
     "text": [
      "\n",
      "7 (((1, 4),), ((1, 4),), ((0, 8), (1, 4), (1, 4)))\n",
      "7.(((1, 4),), ((1, 4),), ((0, 8), (1, 4), (1, 4))): Elem self loop: Pb\n",
      "Using 6 points in direction 0\n",
      "Using 9 points in direction 2\n"
     ]
    },
    {
     "data": {
      "application/vnd.jupyter.widget-view+json": {
       "model_id": "8de8b672320d4895b2eee447b8370ec5",
       "version_major": 2,
       "version_minor": 0
      },
      "text/plain": [
       "HBox(children=(FloatProgress(value=0.0, max=51.0), HTML(value='')))"
      ]
     },
     "metadata": {},
     "output_type": "display_data"
    },
    {
     "name": "stdout",
     "output_type": "stream",
     "text": [
      "\n",
      "7.(((1, 4),), ((1, 4),), ((0, 8), (1, 4), (1, 4))): Elem self loop: S\n",
      "Using 6 points in direction 0\n",
      "Using 9 points in direction 2\n"
     ]
    },
    {
     "data": {
      "application/vnd.jupyter.widget-view+json": {
       "model_id": "21ce9997ca98421d922d49e005f1c2f7",
       "version_major": 2,
       "version_minor": 0
      },
      "text/plain": [
       "HBox(children=(FloatProgress(value=0.0, max=45.0), HTML(value='')))"
      ]
     },
     "metadata": {},
     "output_type": "display_data"
    },
    {
     "name": "stdout",
     "output_type": "stream",
     "text": [
      "\n",
      "7.(((1, 4),), ((1, 4),), ((0, 8), (1, 4), (1, 4))):  Elem pairs loop: S\n"
     ]
    },
    {
     "data": {
      "application/vnd.jupyter.widget-view+json": {
       "model_id": "d15bb92ff0b74be7aa98389c7196d644",
       "version_major": 2,
       "version_minor": 0
      },
      "text/plain": [
       "HBox(children=(FloatProgress(value=0.0, max=2295.0), HTML(value='')))"
      ]
     },
     "metadata": {},
     "output_type": "display_data"
    },
    {
     "name": "stdout",
     "output_type": "stream",
     "text": [
      "\n",
      "7.(((1, 4),), ((1, 4),), ((0, 8), (1, 4), (1, 4))): Elem self loop: O\n",
      "Using 6 points in direction 0\n",
      "Using 2 points in direction 1\n",
      "Using 9 points in direction 2\n",
      "Using 6 points in direction 0\n",
      "Using 9 points in direction 2\n"
     ]
    },
    {
     "data": {
      "application/vnd.jupyter.widget-view+json": {
       "model_id": "3fe0f6ee2102487db9df5c6a2d02359a",
       "version_major": 2,
       "version_minor": 0
      },
      "text/plain": [
       "HBox(children=(FloatProgress(value=0.0, max=34142.0), HTML(value='')))"
      ]
     },
     "metadata": {},
     "output_type": "display_data"
    },
    {
     "name": "stdout",
     "output_type": "stream",
     "text": [
      "\n",
      "7.(((1, 4),), ((1, 4),), ((0, 8), (1, 4), (1, 4))):  Elem pairs loop: O\n"
     ]
    },
    {
     "data": {
      "application/vnd.jupyter.widget-view+json": {
       "model_id": "4860f2faf5f6483ba901c0b68c4437d0",
       "version_major": 2,
       "version_minor": 0
      },
      "text/plain": [
       "HBox(children=(FloatProgress(value=0.0, max=2137760.0), HTML(value='')))"
      ]
     },
     "metadata": {},
     "output_type": "display_data"
    },
    {
     "name": "stdout",
     "output_type": "stream",
     "text": [
      "\n",
      "28 (((1, 4),), ((3, 4),), ((1, 4), (1, 4), (1, 4), (2, 4)))\n",
      "28.(((1, 4),), ((3, 4),), ((1, 4), (1, 4), (1, 4), (2, 4))): Elem self loop: Pb\n",
      "Using 6 points in direction 0\n",
      "Using 9 points in direction 2\n"
     ]
    },
    {
     "data": {
      "application/vnd.jupyter.widget-view+json": {
       "model_id": "96d8e77bba0046aa9bd32f37d77da3af",
       "version_major": 2,
       "version_minor": 0
      },
      "text/plain": [
       "HBox(children=(FloatProgress(value=0.0, max=51.0), HTML(value='')))"
      ]
     },
     "metadata": {},
     "output_type": "display_data"
    },
    {
     "name": "stdout",
     "output_type": "stream",
     "text": [
      "\n",
      "28.(((1, 4),), ((3, 4),), ((1, 4), (1, 4), (1, 4), (2, 4))): Elem self loop: S\n"
     ]
    },
    {
     "data": {
      "application/vnd.jupyter.widget-view+json": {
       "model_id": "1bcdb2bb07c045a888da9ce993436581",
       "version_major": 2,
       "version_minor": 0
      },
      "text/plain": [
       "HBox(children=(FloatProgress(value=1.0, bar_style='info', max=1.0), HTML(value='')))"
      ]
     },
     "metadata": {},
     "output_type": "display_data"
    },
    {
     "name": "stdout",
     "output_type": "stream",
     "text": [
      "\n",
      "28.(((1, 4),), ((3, 4),), ((1, 4), (1, 4), (1, 4), (2, 4))):  Elem pairs loop: S\n"
     ]
    },
    {
     "data": {
      "application/vnd.jupyter.widget-view+json": {
       "model_id": "19164ff0a7844e99bf64fc3fcff09bb1",
       "version_major": 2,
       "version_minor": 0
      },
      "text/plain": [
       "HBox(children=(FloatProgress(value=1.0, bar_style='info', max=1.0), HTML(value='')))"
      ]
     },
     "metadata": {},
     "output_type": "display_data"
    },
    {
     "name": "stdout",
     "output_type": "stream",
     "text": [
      "\n",
      "28.(((1, 4),), ((3, 4),), ((1, 4), (1, 4), (1, 4), (2, 4))): Elem self loop: O\n",
      "Using 6 points in direction 0\n",
      "Using 9 points in direction 2\n"
     ]
    },
    {
     "data": {
      "application/vnd.jupyter.widget-view+json": {
       "model_id": "e0260c47e8624cc4b3040916341c07c6",
       "version_major": 2,
       "version_minor": 0
      },
      "text/plain": [
       "HBox(children=(FloatProgress(value=0.0, max=3360.0), HTML(value='')))"
      ]
     },
     "metadata": {},
     "output_type": "display_data"
    },
    {
     "name": "stdout",
     "output_type": "stream",
     "text": [
      "\n",
      "28.(((1, 4),), ((3, 4),), ((1, 4), (1, 4), (1, 4), (2, 4))):  Elem pairs loop: O\n"
     ]
    },
    {
     "data": {
      "application/vnd.jupyter.widget-view+json": {
       "model_id": "6bd37a1d8b174eeaace5689926bd63bb",
       "version_major": 2,
       "version_minor": 0
      },
      "text/plain": [
       "HBox(children=(FloatProgress(value=1.0, bar_style='info', max=1.0), HTML(value='')))"
      ]
     },
     "metadata": {},
     "output_type": "display_data"
    },
    {
     "name": "stdout",
     "output_type": "stream",
     "text": [
      "\n",
      "CPU times: user 5min 38s, sys: 1min 48s, total: 7min 26s\n",
      "Wall time: 5min 53s\n"
     ]
    }
   ],
   "source": [
    "%%time\n",
    "results = hsg.get_structure_grids(1.2, [0,1,7,28])"
   ]
  },
  {
   "cell_type": "markdown",
   "metadata": {},
   "source": [
    "Let's see how many structures are generated for each combination:"
   ]
  },
  {
   "cell_type": "code",
   "execution_count": 11,
   "metadata": {
    "scrolled": true
   },
   "outputs": [
    {
     "data": {
      "text/plain": [
       "[300, 0, 13898, 0]"
      ]
     },
     "execution_count": 11,
     "metadata": {},
     "output_type": "execute_result"
    }
   ],
   "source": [
    "[len(i) for i in results]"
   ]
  },
  {
   "cell_type": "markdown",
   "metadata": {},
   "source": [
    "For combination 7 (or the 3rd entry in results), let's do a structure comparison to the original:"
   ]
  },
  {
   "cell_type": "code",
   "execution_count": 13,
   "metadata": {},
   "outputs": [],
   "source": [
    "from pymatgen import Structure\n",
    "original_str = Structure.from_file('PbSO4_AMS_DATA.cif')\n",
    "from pymatgen.analysis.structure_matcher import StructureMatcher\n",
    "sm = StructureMatcher(ltol=0.5, stol=0.5, angle_tol=20)"
   ]
  },
  {
   "cell_type": "markdown",
   "metadata": {},
   "source": [
    "Let's get pymatgen.Structure objects from our coordinates, and comapre those to the original structure. This will take a while..."
   ]
  },
  {
   "cell_type": "code",
   "execution_count": 14,
   "metadata": {},
   "outputs": [
    {
     "name": "stdout",
     "output_type": "stream",
     "text": [
      "0  100  200  300  400  500  600  700  800  900  1000  1100  1200  1300  1400  1500  1600  1700  1800  1900  2000  2100  2200  2300  2400  2500  2600  2700  2800  2900  3000  3100  3200  3300  3400  3500  3600  3700  3800  3900  4000  4100  4200  4300  4400  4500  4600  4700  4800  4900  5000  5100  5200  5300  5400  5500  5600  5700  5800  5900  6000  6100  6200  6300  6400  6500  6600  6700  6800  6900  7000  7100  7200  7300  7400  7500  7600  7700  7800  7900  8000  8100  8200  8300  8400  8500  8600  8700  8800  8900  9000  9100  9200  9300  9400  9500  9600  9700  9800  9900  10000  10100  10200  10300  10400  10500  10600  10700  10800  10900  11000  11100  11200  11300  11400  11500  11600  11700  11800  11900  12000  12100  12200  12300  12400  12500  12600  12700  12800  12900  13000  13100  13200  13300  13400  13500  13600  13700  13800  "
     ]
    }
   ],
   "source": [
    "_results = results[2] # Just doing it for the correct combination for demonstration purposes\n",
    "species = ['Pb']*4+['S']*4+['O']*16\n",
    "scores=[]\n",
    "for m in range(len(_results)):\n",
    "    sites = []\n",
    "    for j in [list(i) for i in _results[m]]:\n",
    "        for k in j:\n",
    "            sites.append(k)\n",
    "    s = Structure(hsg.lattice, species, sites)\n",
    "    if m%100==0:\n",
    "        print(m,' ', end='')\n",
    "    scores.append( sm.get_rms_dist(s, original_str) )"
   ]
  },
  {
   "cell_type": "markdown",
   "metadata": {},
   "source": [
    "Let's see how the distance scores to original structure are distributed"
   ]
  },
  {
   "cell_type": "code",
   "execution_count": 15,
   "metadata": {},
   "outputs": [
    {
     "data": {
      "text/plain": [
       "(array([   0.,    0.,   24.,  136.,  390.,  892., 1618., 2124., 2182.,\n",
       "        1925.,    0.,    0.,    0.,    0.,    0.,    0.,    0.,    0.,\n",
       "           0.,    0.]),\n",
       " array([0.  , 0.05, 0.1 , 0.15, 0.2 , 0.25, 0.3 , 0.35, 0.4 , 0.45, 0.5 ,\n",
       "        0.55, 0.6 , 0.65, 0.7 , 0.75, 0.8 , 0.85, 0.9 , 0.95, 1.  ]),\n",
       " <a list of 20 Patch objects>)"
      ]
     },
     "execution_count": 15,
     "metadata": {},
     "output_type": "execute_result"
    },
    {
     "data": {
      "image/png": "[encoded data removed]",
      "text/plain": [
       "<Figure size 432x288 with 1 Axes>"
      ]
     },
     "metadata": {
      "needs_background": "light"
     },
     "output_type": "display_data"
    }
   ],
   "source": [
    "import matplotlib.pyplot as plt\n",
    "_scores = [(scores[i][0],i) for i in range(len(scores)) if scores[i] is not None]\n",
    "plt.hist([i[0] for i in _scores], range=(0,1), bins=20)"
   ]
  },
  {
   "cell_type": "markdown",
   "metadata": {},
   "source": [
    "This is the closest structure's score:"
   ]
  },
  {
   "cell_type": "code",
   "execution_count": 16,
   "metadata": {
    "scrolled": true
   },
   "outputs": [
    {
     "data": {
      "text/plain": [
       "(0.1304195902535959, 1448)"
      ]
     },
     "execution_count": 16,
     "metadata": {},
     "output_type": "execute_result"
    }
   ],
   "source": [
    "min(_scores)"
   ]
  },
  {
   "cell_type": "markdown",
   "metadata": {},
   "source": [
    "We can save this structure we found and inspect."
   ]
  },
  {
   "cell_type": "code",
   "execution_count": 17,
   "metadata": {},
   "outputs": [],
   "source": [
    "species = ['Pb']*4+['S']*4+['O']*16\n",
    "sites = []\n",
    "for j in [list(i) for i in _results[min(_scores)[1]]]:\n",
    "    for k in j:\n",
    "        sites.append(k)\n",
    "s = Structure(hsg.lattice, species, sites)\n",
    "s.to('poscar','PbSO4_RMS0.13.vasp')"
   ]
  },
  {
   "cell_type": "markdown",
   "metadata": {},
   "source": [
    "You will see that the structure looks quite similar to the original!"
   ]
  },
  {
   "cell_type": "code",
   "execution_count": null,
   "metadata": {},
   "outputs": [],
   "source": []
  }
 ],
 "metadata": {
  "kernelspec": {
   "display_name": "Python 3",
   "language": "python",
   "name": "python3"
  },
  "language_info": {
   "codemirror_mode": {
    "name": "ipython",
    "version": 3
   },
   "file_extension": ".py",
   "mimetype": "text/x-python",
   "name": "python",
   "nbconvert_exporter": "python",
   "pygments_lexer": "ipython3",
   "version": "3.7.7"
  }
 },
 "nbformat": 4,
 "nbformat_minor": 4
}
