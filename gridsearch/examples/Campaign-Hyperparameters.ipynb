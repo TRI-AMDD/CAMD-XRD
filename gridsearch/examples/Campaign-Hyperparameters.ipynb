{
 "cells": [
  {
   "cell_type": "code",
   "execution_count": 1,
   "metadata": {},
   "outputs": [],
   "source": [
    "import itertools\n",
    "import numpy as np\n",
    "from pymatgen import Structure\n",
    "from pymatgen import Lattice\n",
    "from pyxtal.symmetry import get_wyckoffs\n",
    "from tqdm.notebook import tqdm\n",
    "from pymatgen.symmetry.analyzer import SpacegroupAnalyzer\n",
    "from scipy.optimize import linear_sum_assignment\n",
    "import numpy as np\n",
    "import pandas as pd\n",
    "import GPy\n",
    "from matplotlib import pyplot as plt\n",
    "from numpy.random import randn\n",
    "import warnings\n",
    "\n",
    "from monty.serialization import loadfn, dumpfn\n",
    "\n",
    "from pandas import DataFrame\n",
    "import sklearn\n",
    "from sklearn.model_selection import train_test_split\n",
    "from sklearn.preprocessing import StandardScaler\n",
    "from tqdm.notebook import tqdm\n",
    "import os\n",
    "from camd.experiment.dft import *\n",
    "%matplotlib inline\n",
    "import pandas as pd\n",
    "from camd.agent.generic import GPBatchUCB\n",
    "import matplotlib.pyplot as plt\n",
    "import numpy as np\n",
    "import pandas as pd\n",
    "import os\n",
    "import camd\n",
    "from camd.agent.base import RandomAgent\n",
    "from camd.agent.generic import GenericGPUCB\n",
    "from camd.analysis import GenericMaxAnalyzer\n",
    "from camd.experiment import ATFSampler\n",
    "from camd.campaigns.base import Campaign\n",
    "path = os.getcwd()\n",
    "\n",
    "import pickle\n",
    "from tqdm.notebook import tqdm\n",
    "from pymatgen.analysis.diffraction import xrd\n",
    "from pymatgen import MPRester\n",
    "from pymatgen.symmetry.analyzer import SpacegroupAnalyzer\n",
    "import numpy as np\n",
    "import matplotlib.pyplot as plt\n",
    "from pymatgen.core import Structure\n",
    "from pymatgen import Lattice\n",
    "from joblib import Parallel, delayed\n",
    "from joblib import wrap_non_picklable_objects\n",
    "mpr = MPRester('xpFvqo6ae6RNF3rqM0WI')\n",
    "    "
   ]
  },
  {
   "cell_type": "markdown",
   "metadata": {},
   "source": [
    "# Setup Data\n"
   ]
  },
  {
   "cell_type": "code",
   "execution_count": null,
   "metadata": {},
   "outputs": [],
   "source": []
  },
  {
   "cell_type": "code",
   "execution_count": 2,
   "metadata": {},
   "outputs": [],
   "source": [
    "scores = loadfn('scores-mp-7648-density=1.7.json')\n",
    "struc_coords = loadfn('struc_coords-mp-7648-density=1.7.json')\n",
    "rvalues=loadfn('rvalues-mp-7648-density=1.7.json')\n",
    "energies=loadfn('energies-mp-7648-density=1.7.json')"
   ]
  },
  {
   "cell_type": "code",
   "execution_count": 3,
   "metadata": {},
   "outputs": [
    {
     "name": "stdout",
     "output_type": "stream",
     "text": [
      "20 5.088538 9.138582 8.334435 90.0 90.0 90.0\n"
     ]
    }
   ],
   "source": [
    "mpid = 'mp-7648'\n",
    "# density = 2\n",
    "\n",
    "original_str = SpacegroupAnalyzer(mpr.get_structure_by_material_id(mpid)).get_conventional_standard_structure()\n",
    "\n",
    "# SETUP\n",
    "spg = SpacegroupAnalyzer(original_str).get_symmetry_dataset()['number']\n",
    "a=original_str.lattice.a ; b=original_str.lattice.b; c=original_str.lattice.c \n",
    "alpha=original_str.lattice.alpha; beta=original_str.lattice.beta; gamma=original_str.lattice.gamma\n",
    "print(spg,a,b,c,alpha,beta,gamma)\n",
    "tracker = {}\n",
    "for specie in original_str.species:\n",
    "    if specie.as_dict()['element'] not in tracker:\n",
    "        tracker[specie.as_dict()['element']] = 1\n",
    "    else:\n",
    "        tracker[specie.as_dict()['element']] += 1\n",
    "\n",
    "atoms = [(tracker[key], key) for key in tracker]\n",
    "\n",
    "sorteddict = list(reversed(sorted(tracker)))\n",
    "\n",
    "species = []\n",
    "for specie in sorteddict:\n",
    "    for num in range(tracker[specie]):\n",
    "        species.append(specie) "
   ]
  },
  {
   "cell_type": "code",
   "execution_count": 4,
   "metadata": {},
   "outputs": [],
   "source": [
    "configuration = 0\n",
    "\n",
    "scores = scores[configuration]\n",
    "struc_coords = struc_coords[configuration]\n",
    "rvalues = rvalues[configuration]\n",
    "energies = energies[configuration]"
   ]
  },
  {
   "cell_type": "code",
   "execution_count": 5,
   "metadata": {},
   "outputs": [
    {
     "name": "stdout",
     "output_type": "stream",
     "text": [
      "['Si', 'Si', 'Si', 'Si', 'Si', 'Si', 'Si', 'Si', 'O', 'O', 'O', 'O', 'O', 'O', 'O', 'O', 'O', 'O', 'O', 'O', 'O', 'O', 'O', 'O'] [(8, 'Si'), (16, 'O')]\n"
     ]
    }
   ],
   "source": [
    "strucs = []\n",
    "lattice = Lattice.from_parameters(a,b,c,alpha,beta,gamma)\n",
    "\n",
    "for m in range(len(struc_coords)):\n",
    "    sites = []\n",
    "    for j in list(struc_coords[m]):\n",
    "        for k in j:\n",
    "            sites.append(k)\n",
    "    strucs.append(Structure(lattice, species, sites))\n",
    "print(species,atoms)"
   ]
  },
  {
   "cell_type": "code",
   "execution_count": 6,
   "metadata": {},
   "outputs": [],
   "source": [
    "data = []\n",
    "index = [[0,[0,1,2]],[8,[0,1,2]],[16,[1]],[20,[0]]]\n",
    "for i in range(len(scores)):\n",
    "    \n",
    "    if scores[i] == None:\n",
    "        continue\n",
    "    x =[]\n",
    "    for coord in index:\n",
    "        for xyz in coord[1]:\n",
    "            x.append(strucs[i].frac_coords[coord[0]][xyz])\n",
    "   \n",
    "    x.append(rvalues[i])\n",
    "    x.append(-1*energies[i])\n",
    "#     x.append(None)\n",
    "    x.append(strucs[i])\n",
    "    data.append(x)\n",
    "\n"
   ]
  },
  {
   "cell_type": "code",
   "execution_count": 22,
   "metadata": {},
   "outputs": [],
   "source": [
    "df2 = df.copy()"
   ]
  },
  {
   "cell_type": "code",
   "execution_count": 23,
   "metadata": {},
   "outputs": [],
   "source": [
    "df3 = df2.sort_values(by= 'target')"
   ]
  },
  {
   "cell_type": "code",
   "execution_count": 24,
   "metadata": {},
   "outputs": [
    {
     "data": {
      "text/plain": [
       "111198"
      ]
     },
     "execution_count": 24,
     "metadata": {},
     "output_type": "execute_result"
    }
   ],
   "source": [
    "len(df3)"
   ]
  },
  {
   "cell_type": "code",
   "execution_count": 27,
   "metadata": {},
   "outputs": [
    {
     "data": {
      "text/plain": [
       "1x                                                       0.125\n",
       "1y                                                    0.166667\n",
       "1z                                                    0.466667\n",
       "2x                                                       0.375\n",
       "2y                                                        0.25\n",
       "2z                                                         0.6\n",
       "3y                                                           0\n",
       "4x                                                        0.25\n",
       "R                                                      41.4337\n",
       "target                                                 104.183\n",
       "structure    [[0.63606725 1.523097   3.889403  ] Si, [4.452...\n",
       "Name: 58711, dtype: object"
      ]
     },
     "execution_count": 27,
     "metadata": {},
     "output_type": "execute_result"
    }
   ],
   "source": [
    "df3.iloc[int(111198*0.99)]"
   ]
  },
  {
   "cell_type": "code",
   "execution_count": 7,
   "metadata": {},
   "outputs": [],
   "source": [
    "indexes = []\n",
    "for i in range(len(data)):\n",
    "    indexes.append(str(i))\n",
    "    \n",
    "df = DataFrame(data, index=indexes, columns = ['1x','1y','1z','2x','2y','2z','3y','4x', 'R', 'target', 'structure'])\n",
    "df = df.loc[df['R']< 30]\n",
    "\n",
    "df = df.sample(frac=1)"
   ]
  },
  {
   "cell_type": "code",
   "execution_count": 37,
   "metadata": {},
   "outputs": [],
   "source": [
    "dfs = []\n",
    "for rvalue in [200,50,40,30,25, 20]:\n",
    "    dfs.append(df.loc[df['R']< rvalue].copy().drop([\"R\",'structure'],axis=1))"
   ]
  },
  {
   "cell_type": "code",
   "execution_count": 8,
   "metadata": {},
   "outputs": [],
   "source": [
    "MLP_kern = GPy.kern.MLP(8)\n",
    "RBF_kern = GPy.kern.RBF(8, lengthscale = 0.6)\n",
    "per_kern = GPy.kern.StdPeriodic(8)"
   ]
  },
  {
   "cell_type": "code",
   "execution_count": 39,
   "metadata": {},
   "outputs": [],
   "source": [
    "def random_campaign(i):\n",
    "    loop_dir = os.path.join(path,'policy-random-{}-si-500'.format(i))\n",
    "    os.mkdir(loop_dir)\n",
    "    N_query = 1  # This many experiments are requested in each iteration\n",
    "    N_seed = 100  # This many samples are randomly acquired in the beginning to form a seed.\n",
    "    agent = RandomAgent(n_query=N_query)\n",
    "    analyzer = GenericMaxAnalyzer(threshold=104.183)\n",
    "    experiment = ATFSampler(df)\n",
    "    candidate_data = df\n",
    "    loop = Campaign(candidate_data, agent, experiment, analyzer,path=loop_dir,create_seed=N_seed)\n",
    "    loop.initialize(random_state=i)\n",
    "    loop.auto_loop(n_iterations=500)\n",
    "    return loop.analyzer.score "
   ]
  },
  {
   "cell_type": "code",
   "execution_count": 33,
   "metadata": {},
   "outputs": [],
   "source": [
    "### Implement agent here\n",
    "from camd.agent.base import HypothesisAgent\n",
    "from sklearn.linear_model import LinearRegression\n",
    "\n",
    "from sklearn.ensemble import RandomForestRegressor\n",
    "\n",
    "class RFAgent(HypothesisAgent):\n",
    "    def __init__(self, n_query = 1):\n",
    "        self.n_query = n_query\n",
    "        \n",
    "    def get_hypotheses(self, candidate_data, seed_data):\n",
    "        # Fit on known data\n",
    "        x_known = seed_data.get(['1x','1y','1z','2x','2y','2z','3y','4x']).values.tolist()\n",
    "        y_known = seed_data.get('target').values.tolist()\n",
    "        regressor = RandomForestRegressor(n_estimators=10)\n",
    "        regressor.fit(x_known, y_known)\n",
    "        \n",
    "        # Predict unknown data\n",
    "        x_unknown = candidate_data.get(['1x','1y','1z','2x','2y','2z','3y','4x']).values.tolist()\n",
    "        y_predicted = regressor.predict(x_unknown)\n",
    "        \n",
    "        # Pick top 5 candidates\n",
    "        candidate_data['energy_pred'] = y_predicted\n",
    "        candidate_data = candidate_data.sort_values(\n",
    "            'energy_pred', ascending=False)\n",
    "        top_candidates = candidate_data.head(self.n_query)\n",
    "        return top_candidates\n",
    "    \n"
   ]
  },
  {
   "cell_type": "code",
   "execution_count": 34,
   "metadata": {},
   "outputs": [],
   "source": [
    "class LinearAgent(HypothesisAgent):\n",
    "    def __init__(self, n_query = 1):\n",
    "        self.n_query = n_query\n",
    "    def get_hypotheses(self, candidate_data, seed_data):\n",
    "        # Fit on known data\n",
    "        x_known = seed_data.get(['1x','1y','1z','2x','2y','2z','3y','4x']).values.tolist()\n",
    "        y_known = seed_data.get('target').values.tolist()\n",
    "        regressor = LinearRegression()\n",
    "        regressor.fit(x_known, y_known)\n",
    "        \n",
    "        # Predict unknown data\n",
    "        x_unknown = candidate_data.get(['1x','1y','1z','2x','2y','2z','3y','4x']).values.tolist()\n",
    "        y_predicted = regressor.predict(x_unknown)\n",
    "        \n",
    "        # Pick top 5 candidates\n",
    "        candidate_data['energy_pred'] = y_predicted\n",
    "        candidate_data = candidate_data.sort_values(\n",
    "            'energy_pred', ascending=False)\n",
    "        top_candidates = candidate_data.head(self.n_query)\n",
    "        return top_candidates"
   ]
  },
  {
   "cell_type": "code",
   "execution_count": 37,
   "metadata": {},
   "outputs": [],
   "source": [
    "def RF_campaign(i):\n",
    "    loop_dir = os.path.join(path,'policy-RF-{}-si-500'.format(i))\n",
    "    os.mkdir(loop_dir)\n",
    "    N_query = 1  # This many experiments are requested in each iteration\n",
    "    N_seed = 100  # This many samples are randomly acquired in the beginning to form a seed.\n",
    "    agent = RFAgent(n_query=N_query)\n",
    "    analyzer = GenericMaxAnalyzer(threshold=104.183)\n",
    "    experiment = ATFSampler(df)\n",
    "    candidate_data = df\n",
    "    loop = Campaign(candidate_data, agent, experiment, analyzer,path=loop_dir,create_seed=N_seed)\n",
    "    loop.initialize(random_state=i)\n",
    "    loop.auto_loop(n_iterations=500)\n",
    "    return loop.analyzer.score "
   ]
  },
  {
   "cell_type": "code",
   "execution_count": 38,
   "metadata": {},
   "outputs": [],
   "source": [
    "def Linear_campaign(i):\n",
    "    loop_dir = os.path.join(path,'policy-Linear-{}-si-500'.format(i))\n",
    "    os.mkdir(loop_dir)\n",
    "    N_query = 1  # This many experiments are requested in each iteration\n",
    "    N_seed = 100  # This many samples are randomly acquired in the beginning to form a seed.\n",
    "    agent = LinearAgent(n_query=N_query)\n",
    "    analyzer = GenericMaxAnalyzer(threshold=104.183)\n",
    "    experiment = ATFSampler(df)\n",
    "    candidate_data = df\n",
    "    loop = Campaign(candidate_data, agent, experiment, analyzer,path=loop_dir,create_seed=N_seed)\n",
    "    loop.initialize(random_state=i)\n",
    "    loop.auto_loop(n_iterations=500)\n",
    "    return loop.analyzer.score "
   ]
  },
  {
   "cell_type": "code",
   "execution_count": 14,
   "metadata": {},
   "outputs": [],
   "source": [
    "@wrap_non_picklable_objects\n",
    "def gp_campaign(i,n_query,max_budget):\n",
    "    loop_dir = os.path.join(path,'GP-SiO2-100seed-500exp-{}-{}'.format(n_query,i))\n",
    "    os.mkdir(loop_dir)\n",
    "    N_seed = 100  # This many samples are randomly acquired in the beginning to form a seed.\n",
    "    agent = GPBatchUCB(n_query=n_query, mode='batch', alpha='auto', kernel=RBF_kern+per_kern, features = ['1x','1y','1z','2x','2y','2z','3y','4x', 'target'])\n",
    "    analyzer = GenericMaxAnalyzer(threshold=104.183)\n",
    "    experiment = ATFSampler(df)\n",
    "#     experiment = OqmdDFTonMC1(poll_time=20, timeout=7200)\n",
    "    candidate_data = df\n",
    "    loop = Campaign(candidate_data, agent, experiment, analyzer,\n",
    "                    path=loop_dir,create_seed=N_seed)\n",
    "    loop.initialize(random_state=i)\n",
    "    loop.auto_loop(n_iterations=max_budget/n_query)\n",
    "    return loop.analyzer.score "
   ]
  },
  {
   "cell_type": "code",
   "execution_count": 18,
   "metadata": {
    "scrolled": true
   },
   "outputs": [
    {
     "data": {
      "text/html": [
       "<div>\n",
       "<style scoped>\n",
       "    .dataframe tbody tr th:only-of-type {\n",
       "        vertical-align: middle;\n",
       "    }\n",
       "\n",
       "    .dataframe tbody tr th {\n",
       "        vertical-align: top;\n",
       "    }\n",
       "\n",
       "    .dataframe thead th {\n",
       "        text-align: right;\n",
       "    }\n",
       "</style>\n",
       "<table border=\"1\" class=\"dataframe\">\n",
       "  <thead>\n",
       "    <tr style=\"text-align: right;\">\n",
       "      <th></th>\n",
       "      <th>1x</th>\n",
       "      <th>1y</th>\n",
       "      <th>1z</th>\n",
       "      <th>2x</th>\n",
       "      <th>2y</th>\n",
       "      <th>2z</th>\n",
       "      <th>3y</th>\n",
       "      <th>4x</th>\n",
       "      <th>R</th>\n",
       "      <th>target</th>\n",
       "      <th>structure</th>\n",
       "    </tr>\n",
       "  </thead>\n",
       "  <tbody>\n",
       "    <tr>\n",
       "      <th>68836</th>\n",
       "      <td>0.875</td>\n",
       "      <td>0.000000</td>\n",
       "      <td>0.833333</td>\n",
       "      <td>0.375</td>\n",
       "      <td>0.000000</td>\n",
       "      <td>0.133333</td>\n",
       "      <td>0.500000</td>\n",
       "      <td>0.250</td>\n",
       "      <td>37.401215</td>\n",
       "      <td>22.442416</td>\n",
       "      <td>[[4.45247075 0.         6.9453625 ] Si, [4.452...</td>\n",
       "    </tr>\n",
       "    <tr>\n",
       "      <th>102554</th>\n",
       "      <td>0.500</td>\n",
       "      <td>0.166667</td>\n",
       "      <td>0.933333</td>\n",
       "      <td>0.250</td>\n",
       "      <td>0.083333</td>\n",
       "      <td>0.666667</td>\n",
       "      <td>0.916667</td>\n",
       "      <td>0.250</td>\n",
       "      <td>26.293797</td>\n",
       "      <td>93.143996</td>\n",
       "      <td>[[2.544269 1.523097 7.778806] Si, [2.544269  1...</td>\n",
       "    </tr>\n",
       "    <tr>\n",
       "      <th>94158</th>\n",
       "      <td>0.000</td>\n",
       "      <td>0.083333</td>\n",
       "      <td>0.933333</td>\n",
       "      <td>0.750</td>\n",
       "      <td>0.583333</td>\n",
       "      <td>0.200000</td>\n",
       "      <td>0.666667</td>\n",
       "      <td>0.250</td>\n",
       "      <td>41.083534</td>\n",
       "      <td>40.939756</td>\n",
       "      <td>[[-4.66313966e-17  7.61548500e-01  7.77880600e...</td>\n",
       "    </tr>\n",
       "    <tr>\n",
       "      <th>63697</th>\n",
       "      <td>0.750</td>\n",
       "      <td>0.000000</td>\n",
       "      <td>0.700000</td>\n",
       "      <td>0.125</td>\n",
       "      <td>0.666667</td>\n",
       "      <td>0.500000</td>\n",
       "      <td>0.916667</td>\n",
       "      <td>0.375</td>\n",
       "      <td>40.142384</td>\n",
       "      <td>38.742767</td>\n",
       "      <td>[[3.8164035 0.        5.8341045] Si, [1.272134...</td>\n",
       "    </tr>\n",
       "    <tr>\n",
       "      <th>46922</th>\n",
       "      <td>0.250</td>\n",
       "      <td>0.250000</td>\n",
       "      <td>0.200000</td>\n",
       "      <td>0.750</td>\n",
       "      <td>0.416667</td>\n",
       "      <td>0.866667</td>\n",
       "      <td>0.083333</td>\n",
       "      <td>0.250</td>\n",
       "      <td>70.614362</td>\n",
       "      <td>83.573305</td>\n",
       "      <td>[[1.2721345 2.2846455 1.666887 ] Si, [3.816403...</td>\n",
       "    </tr>\n",
       "  </tbody>\n",
       "</table>\n",
       "</div>"
      ],
      "text/plain": [
       "           1x        1y        1z     2x        2y        2z        3y     4x  \\\n",
       "68836   0.875  0.000000  0.833333  0.375  0.000000  0.133333  0.500000  0.250   \n",
       "102554  0.500  0.166667  0.933333  0.250  0.083333  0.666667  0.916667  0.250   \n",
       "94158   0.000  0.083333  0.933333  0.750  0.583333  0.200000  0.666667  0.250   \n",
       "63697   0.750  0.000000  0.700000  0.125  0.666667  0.500000  0.916667  0.375   \n",
       "46922   0.250  0.250000  0.200000  0.750  0.416667  0.866667  0.083333  0.250   \n",
       "\n",
       "                R     target  \\\n",
       "68836   37.401215  22.442416   \n",
       "102554  26.293797  93.143996   \n",
       "94158   41.083534  40.939756   \n",
       "63697   40.142384  38.742767   \n",
       "46922   70.614362  83.573305   \n",
       "\n",
       "                                                structure  \n",
       "68836   [[4.45247075 0.         6.9453625 ] Si, [4.452...  \n",
       "102554  [[2.544269 1.523097 7.778806] Si, [2.544269  1...  \n",
       "94158   [[-4.66313966e-17  7.61548500e-01  7.77880600e...  \n",
       "63697   [[3.8164035 0.        5.8341045] Si, [1.272134...  \n",
       "46922   [[1.2721345 2.2846455 1.666887 ] Si, [3.816403...  "
      ]
     },
     "execution_count": 18,
     "metadata": {},
     "output_type": "execute_result"
    }
   ],
   "source": [
    "df.head()"
   ]
  },
  {
   "cell_type": "code",
   "execution_count": null,
   "metadata": {},
   "outputs": [],
   "source": [
    "RF_results = Parallel(n_jobs=5)(delayed(RF_campaign)(i) for i in range(5))\n",
    "Linear_results = Parallel(n_jobs=5)(delayed(Linear_campaign)(i) for i in range(5))\n",
    "random_results = Parallel(n_jobs=5)(delayed(random_campaign)(i) for i in range(5))"
   ]
  },
  {
   "cell_type": "code",
   "execution_count": 50,
   "metadata": {},
   "outputs": [],
   "source": [
    "dumpfn(RF_results, 'RF_results.json')\n",
    "dumpfn(Linear_results, 'Linear_results.json')\n",
    "dumpfn(random_results, 'random_results.json')"
   ]
  },
  {
   "cell_type": "code",
   "execution_count": 17,
   "metadata": {},
   "outputs": [],
   "source": [
    "RF_results = loadfn('RF_results.json')\n",
    "Linear_results = loadfn('Linear_results.json')\n",
    "random_results = loadfn('random_results.json')"
   ]
  },
  {
   "cell_type": "code",
   "execution_count": null,
   "metadata": {},
   "outputs": [],
   "source": [
    "alpha_runs1 = []\n",
    "# for n_query in [1]:\n",
    "for dataframe in dfs:\n",
    "    gp_results = Parallel(n_jobs=-1)(delayed(gp_campaign)(i,1, 100, dataframe) for i in range(10))\n",
    "    alpha_runs1.append(gp_results)"
   ]
  },
  {
   "cell_type": "code",
   "execution_count": 15,
   "metadata": {},
   "outputs": [
    {
     "name": "stderr",
     "output_type": "stream",
     "text": [
      " /opt/miniconda3/envs/python37/lib/python3.7/site-packages/joblib-0.16.0-py3.7.egg/joblib/externals/loky/process_executor.py:691: UserWarning:A worker stopped while some jobs were given to the executor. This can be caused by a too short worker timeout or by a memory leak.\n"
     ]
    }
   ],
   "source": [
    "alpha_runs3 = []\n",
    "for n_query in [1,3,5,10,20]:\n",
    "# for dataframe in dfs:\n",
    "    gp_results = Parallel(n_jobs=5)(delayed(gp_campaign)(i,n_query, 500) for i in range(5))\n",
    "    alpha_runs3.append(gp_results)"
   ]
  },
  {
   "cell_type": "code",
   "execution_count": 29,
   "metadata": {},
   "outputs": [
    {
     "data": {
      "text/plain": [
       "6"
      ]
     },
     "execution_count": 29,
     "metadata": {},
     "output_type": "execute_result"
    }
   ],
   "source": [
    "len(alpha_runs2)"
   ]
  },
  {
   "cell_type": "code",
   "execution_count": 28,
   "metadata": {
    "scrolled": true
   },
   "outputs": [
    {
     "name": "stderr",
     "output_type": "stream",
     "text": [
      " /opt/miniconda3/envs/python37/lib/python3.7/site-packages/joblib-0.16.0-py3.7.egg/joblib/externals/loky/process_executor.py:691: UserWarning:A worker stopped while some jobs were given to the executor. This can be caused by a too short worker timeout or by a memory leak.\n"
     ]
    },
    {
     "ename": "TerminatedWorkerError",
     "evalue": "A worker process managed by the executor was unexpectedly terminated. This could be caused by a segmentation fault while calling the function or by an excessive memory usage causing the Operating System to kill the worker.\n\nThe exit codes of the workers are {SIGABRT(-6), SIGABRT(-6), SIGABRT(-6)}",
     "output_type": "error",
     "traceback": [
      "\u001b[0;31m---------------------------------------------------------------------------\u001b[0m",
      "\u001b[0;31mTerminatedWorkerError\u001b[0m                     Traceback (most recent call last)",
      "\u001b[0;32m<ipython-input-28-30aa23a912e5>\u001b[0m in \u001b[0;36m<module>\u001b[0;34m\u001b[0m\n\u001b[1;32m      2\u001b[0m \u001b[0;32mfor\u001b[0m \u001b[0mseed\u001b[0m \u001b[0;32min\u001b[0m \u001b[0;34m[\u001b[0m\u001b[0;36m10\u001b[0m\u001b[0;34m,\u001b[0m\u001b[0;36m30\u001b[0m\u001b[0;34m,\u001b[0m\u001b[0;36m50\u001b[0m\u001b[0;34m,\u001b[0m\u001b[0;36m100\u001b[0m\u001b[0;34m,\u001b[0m\u001b[0;36m200\u001b[0m\u001b[0;34m,\u001b[0m\u001b[0;36m500\u001b[0m\u001b[0;34m,\u001b[0m\u001b[0;36m1000\u001b[0m\u001b[0;34m]\u001b[0m\u001b[0;34m:\u001b[0m\u001b[0;34m\u001b[0m\u001b[0m\n\u001b[1;32m      3\u001b[0m \u001b[0;31m# for dataframe in dfs:\u001b[0m\u001b[0;34m\u001b[0m\u001b[0;34m\u001b[0m\u001b[0m\n\u001b[0;32m----> 4\u001b[0;31m     \u001b[0mgp_results\u001b[0m \u001b[0;34m=\u001b[0m \u001b[0mParallel\u001b[0m\u001b[0;34m(\u001b[0m\u001b[0mn_jobs\u001b[0m\u001b[0;34m=\u001b[0m\u001b[0;36m5\u001b[0m\u001b[0;34m)\u001b[0m\u001b[0;34m(\u001b[0m\u001b[0mdelayed\u001b[0m\u001b[0;34m(\u001b[0m\u001b[0mgp_campaign\u001b[0m\u001b[0;34m)\u001b[0m\u001b[0;34m(\u001b[0m\u001b[0mi\u001b[0m\u001b[0;34m,\u001b[0m\u001b[0;36m1\u001b[0m\u001b[0;34m,\u001b[0m \u001b[0;36m100\u001b[0m\u001b[0;34m,\u001b[0m \u001b[0mseed\u001b[0m\u001b[0;34m)\u001b[0m \u001b[0;32mfor\u001b[0m \u001b[0mi\u001b[0m \u001b[0;32min\u001b[0m \u001b[0mrange\u001b[0m\u001b[0;34m(\u001b[0m\u001b[0;36m10\u001b[0m\u001b[0;34m)\u001b[0m\u001b[0;34m)\u001b[0m\u001b[0;34m\u001b[0m\u001b[0m\n\u001b[0m\u001b[1;32m      5\u001b[0m     \u001b[0malpha_runs2\u001b[0m\u001b[0;34m.\u001b[0m\u001b[0mappend\u001b[0m\u001b[0;34m(\u001b[0m\u001b[0mgp_results\u001b[0m\u001b[0;34m)\u001b[0m\u001b[0;34m\u001b[0m\u001b[0m\n",
      "\u001b[0;32m/opt/miniconda3/envs/python37/lib/python3.7/site-packages/joblib-0.16.0-py3.7.egg/joblib/parallel.py\u001b[0m in \u001b[0;36m__call__\u001b[0;34m(self, iterable)\u001b[0m\n\u001b[1;32m   1040\u001b[0m \u001b[0;34m\u001b[0m\u001b[0m\n\u001b[1;32m   1041\u001b[0m             \u001b[0;32mwith\u001b[0m \u001b[0mself\u001b[0m\u001b[0;34m.\u001b[0m\u001b[0m_backend\u001b[0m\u001b[0;34m.\u001b[0m\u001b[0mretrieval_context\u001b[0m\u001b[0;34m(\u001b[0m\u001b[0;34m)\u001b[0m\u001b[0;34m:\u001b[0m\u001b[0;34m\u001b[0m\u001b[0m\n\u001b[0;32m-> 1042\u001b[0;31m                 \u001b[0mself\u001b[0m\u001b[0;34m.\u001b[0m\u001b[0mretrieve\u001b[0m\u001b[0;34m(\u001b[0m\u001b[0;34m)\u001b[0m\u001b[0;34m\u001b[0m\u001b[0m\n\u001b[0m\u001b[1;32m   1043\u001b[0m             \u001b[0;31m# Make sure that we get a last message telling us we are done\u001b[0m\u001b[0;34m\u001b[0m\u001b[0;34m\u001b[0m\u001b[0m\n\u001b[1;32m   1044\u001b[0m             \u001b[0melapsed_time\u001b[0m \u001b[0;34m=\u001b[0m \u001b[0mtime\u001b[0m\u001b[0;34m.\u001b[0m\u001b[0mtime\u001b[0m\u001b[0;34m(\u001b[0m\u001b[0;34m)\u001b[0m \u001b[0;34m-\u001b[0m \u001b[0mself\u001b[0m\u001b[0;34m.\u001b[0m\u001b[0m_start_time\u001b[0m\u001b[0;34m\u001b[0m\u001b[0m\n",
      "\u001b[0;32m/opt/miniconda3/envs/python37/lib/python3.7/site-packages/joblib-0.16.0-py3.7.egg/joblib/parallel.py\u001b[0m in \u001b[0;36mretrieve\u001b[0;34m(self)\u001b[0m\n\u001b[1;32m    919\u001b[0m             \u001b[0;32mtry\u001b[0m\u001b[0;34m:\u001b[0m\u001b[0;34m\u001b[0m\u001b[0m\n\u001b[1;32m    920\u001b[0m                 \u001b[0;32mif\u001b[0m \u001b[0mgetattr\u001b[0m\u001b[0;34m(\u001b[0m\u001b[0mself\u001b[0m\u001b[0;34m.\u001b[0m\u001b[0m_backend\u001b[0m\u001b[0;34m,\u001b[0m \u001b[0;34m'supports_timeout'\u001b[0m\u001b[0;34m,\u001b[0m \u001b[0;32mFalse\u001b[0m\u001b[0;34m)\u001b[0m\u001b[0;34m:\u001b[0m\u001b[0;34m\u001b[0m\u001b[0m\n\u001b[0;32m--> 921\u001b[0;31m                     \u001b[0mself\u001b[0m\u001b[0;34m.\u001b[0m\u001b[0m_output\u001b[0m\u001b[0;34m.\u001b[0m\u001b[0mextend\u001b[0m\u001b[0;34m(\u001b[0m\u001b[0mjob\u001b[0m\u001b[0;34m.\u001b[0m\u001b[0mget\u001b[0m\u001b[0;34m(\u001b[0m\u001b[0mtimeout\u001b[0m\u001b[0;34m=\u001b[0m\u001b[0mself\u001b[0m\u001b[0;34m.\u001b[0m\u001b[0mtimeout\u001b[0m\u001b[0;34m)\u001b[0m\u001b[0;34m)\u001b[0m\u001b[0;34m\u001b[0m\u001b[0m\n\u001b[0m\u001b[1;32m    922\u001b[0m                 \u001b[0;32melse\u001b[0m\u001b[0;34m:\u001b[0m\u001b[0;34m\u001b[0m\u001b[0m\n\u001b[1;32m    923\u001b[0m                     \u001b[0mself\u001b[0m\u001b[0;34m.\u001b[0m\u001b[0m_output\u001b[0m\u001b[0;34m.\u001b[0m\u001b[0mextend\u001b[0m\u001b[0;34m(\u001b[0m\u001b[0mjob\u001b[0m\u001b[0;34m.\u001b[0m\u001b[0mget\u001b[0m\u001b[0;34m(\u001b[0m\u001b[0;34m)\u001b[0m\u001b[0;34m)\u001b[0m\u001b[0;34m\u001b[0m\u001b[0m\n",
      "\u001b[0;32m/opt/miniconda3/envs/python37/lib/python3.7/site-packages/joblib-0.16.0-py3.7.egg/joblib/_parallel_backends.py\u001b[0m in \u001b[0;36mwrap_future_result\u001b[0;34m(future, timeout)\u001b[0m\n\u001b[1;32m    540\u001b[0m         AsyncResults.get from multiprocessing.\"\"\"\n\u001b[1;32m    541\u001b[0m         \u001b[0;32mtry\u001b[0m\u001b[0;34m:\u001b[0m\u001b[0;34m\u001b[0m\u001b[0m\n\u001b[0;32m--> 542\u001b[0;31m             \u001b[0;32mreturn\u001b[0m \u001b[0mfuture\u001b[0m\u001b[0;34m.\u001b[0m\u001b[0mresult\u001b[0m\u001b[0;34m(\u001b[0m\u001b[0mtimeout\u001b[0m\u001b[0;34m=\u001b[0m\u001b[0mtimeout\u001b[0m\u001b[0;34m)\u001b[0m\u001b[0;34m\u001b[0m\u001b[0m\n\u001b[0m\u001b[1;32m    543\u001b[0m         \u001b[0;32mexcept\u001b[0m \u001b[0mCfTimeoutError\u001b[0m \u001b[0;32mas\u001b[0m \u001b[0me\u001b[0m\u001b[0;34m:\u001b[0m\u001b[0;34m\u001b[0m\u001b[0m\n\u001b[1;32m    544\u001b[0m             \u001b[0;32mraise\u001b[0m \u001b[0mTimeoutError\u001b[0m \u001b[0;32mfrom\u001b[0m \u001b[0me\u001b[0m\u001b[0;34m\u001b[0m\u001b[0m\n",
      "\u001b[0;32m/opt/miniconda3/envs/python37/lib/python3.7/concurrent/futures/_base.py\u001b[0m in \u001b[0;36mresult\u001b[0;34m(self, timeout)\u001b[0m\n\u001b[1;32m    430\u001b[0m                 \u001b[0;32mraise\u001b[0m \u001b[0mCancelledError\u001b[0m\u001b[0;34m(\u001b[0m\u001b[0;34m)\u001b[0m\u001b[0;34m\u001b[0m\u001b[0m\n\u001b[1;32m    431\u001b[0m             \u001b[0;32melif\u001b[0m \u001b[0mself\u001b[0m\u001b[0;34m.\u001b[0m\u001b[0m_state\u001b[0m \u001b[0;34m==\u001b[0m \u001b[0mFINISHED\u001b[0m\u001b[0;34m:\u001b[0m\u001b[0;34m\u001b[0m\u001b[0m\n\u001b[0;32m--> 432\u001b[0;31m                 \u001b[0;32mreturn\u001b[0m \u001b[0mself\u001b[0m\u001b[0;34m.\u001b[0m\u001b[0m__get_result\u001b[0m\u001b[0;34m(\u001b[0m\u001b[0;34m)\u001b[0m\u001b[0;34m\u001b[0m\u001b[0m\n\u001b[0m\u001b[1;32m    433\u001b[0m             \u001b[0;32melse\u001b[0m\u001b[0;34m:\u001b[0m\u001b[0;34m\u001b[0m\u001b[0m\n\u001b[1;32m    434\u001b[0m                 \u001b[0;32mraise\u001b[0m \u001b[0mTimeoutError\u001b[0m\u001b[0;34m(\u001b[0m\u001b[0;34m)\u001b[0m\u001b[0;34m\u001b[0m\u001b[0m\n",
      "\u001b[0;32m/opt/miniconda3/envs/python37/lib/python3.7/concurrent/futures/_base.py\u001b[0m in \u001b[0;36m__get_result\u001b[0;34m(self)\u001b[0m\n\u001b[1;32m    382\u001b[0m     \u001b[0;32mdef\u001b[0m \u001b[0m__get_result\u001b[0m\u001b[0;34m(\u001b[0m\u001b[0mself\u001b[0m\u001b[0;34m)\u001b[0m\u001b[0;34m:\u001b[0m\u001b[0;34m\u001b[0m\u001b[0m\n\u001b[1;32m    383\u001b[0m         \u001b[0;32mif\u001b[0m \u001b[0mself\u001b[0m\u001b[0;34m.\u001b[0m\u001b[0m_exception\u001b[0m\u001b[0;34m:\u001b[0m\u001b[0;34m\u001b[0m\u001b[0m\n\u001b[0;32m--> 384\u001b[0;31m             \u001b[0;32mraise\u001b[0m \u001b[0mself\u001b[0m\u001b[0;34m.\u001b[0m\u001b[0m_exception\u001b[0m\u001b[0;34m\u001b[0m\u001b[0m\n\u001b[0m\u001b[1;32m    385\u001b[0m         \u001b[0;32melse\u001b[0m\u001b[0;34m:\u001b[0m\u001b[0;34m\u001b[0m\u001b[0m\n\u001b[1;32m    386\u001b[0m             \u001b[0;32mreturn\u001b[0m \u001b[0mself\u001b[0m\u001b[0;34m.\u001b[0m\u001b[0m_result\u001b[0m\u001b[0;34m\u001b[0m\u001b[0m\n",
      "\u001b[0;31mTerminatedWorkerError\u001b[0m: A worker process managed by the executor was unexpectedly terminated. This could be caused by a segmentation fault while calling the function or by an excessive memory usage causing the Operating System to kill the worker.\n\nThe exit codes of the workers are {SIGABRT(-6), SIGABRT(-6), SIGABRT(-6)}"
     ]
    }
   ],
   "source": [
    "alpha_runs2 = []\n",
    "for seed in [10,30,50,100,200,500]:\n",
    "# for dataframe in dfs:\n",
    "    gp_results = Parallel(n_jobs=5)(delayed(gp_campaign)(i,1, 100, seed) for i in range(10))\n",
    "    alpha_runs2.append(gp_results)"
   ]
  },
  {
   "cell_type": "code",
   "execution_count": 33,
   "metadata": {},
   "outputs": [],
   "source": [
    "dumpfn(alpha_runs2, 'gpseedruns-100experiments.json')"
   ]
  },
  {
   "cell_type": "code",
   "execution_count": 4,
   "metadata": {},
   "outputs": [],
   "source": [
    "alpha_runs2 = loadfn('gpseedruns-100experiments.json')"
   ]
  },
  {
   "cell_type": "code",
   "execution_count": 34,
   "metadata": {},
   "outputs": [
    {
     "name": "stderr",
     "output_type": "stream",
     "text": [
      " /opt/miniconda3/envs/python37/lib/python3.7/site-packages/joblib-0.16.0-py3.7.egg/joblib/externals/loky/process_executor.py:691: UserWarning:A worker stopped while some jobs were given to the executor. This can be caused by a too short worker timeout or by a memory leak.\n"
     ]
    },
    {
     "ename": "KeyboardInterrupt",
     "evalue": "",
     "output_type": "error",
     "traceback": [
      "\u001b[0;31m---------------------------------------------------------------------------\u001b[0m",
      "\u001b[0;31mKeyboardInterrupt\u001b[0m                         Traceback (most recent call last)",
      "\u001b[0;32m<ipython-input-34-153249300c46>\u001b[0m in \u001b[0;36m<module>\u001b[0;34m\u001b[0m\n\u001b[1;32m      2\u001b[0m \u001b[0;32mfor\u001b[0m \u001b[0mseed\u001b[0m \u001b[0;32min\u001b[0m \u001b[0;34m[\u001b[0m\u001b[0;36m100\u001b[0m\u001b[0;34m]\u001b[0m\u001b[0;34m:\u001b[0m\u001b[0;34m\u001b[0m\u001b[0m\n\u001b[1;32m      3\u001b[0m \u001b[0;31m# for dataframe in dfs:\u001b[0m\u001b[0;34m\u001b[0m\u001b[0;34m\u001b[0m\u001b[0m\n\u001b[0;32m----> 4\u001b[0;31m     \u001b[0mgp_results\u001b[0m \u001b[0;34m=\u001b[0m \u001b[0mParallel\u001b[0m\u001b[0;34m(\u001b[0m\u001b[0mn_jobs\u001b[0m\u001b[0;34m=\u001b[0m\u001b[0;36m5\u001b[0m\u001b[0;34m)\u001b[0m\u001b[0;34m(\u001b[0m\u001b[0mdelayed\u001b[0m\u001b[0;34m(\u001b[0m\u001b[0mgp_campaign\u001b[0m\u001b[0;34m)\u001b[0m\u001b[0;34m(\u001b[0m\u001b[0mi\u001b[0m\u001b[0;34m,\u001b[0m\u001b[0;36m1\u001b[0m\u001b[0;34m,\u001b[0m \u001b[0;36m1000\u001b[0m\u001b[0;34m)\u001b[0m \u001b[0;32mfor\u001b[0m \u001b[0mi\u001b[0m \u001b[0;32min\u001b[0m \u001b[0mrange\u001b[0m\u001b[0;34m(\u001b[0m\u001b[0;36m10\u001b[0m\u001b[0;34m)\u001b[0m\u001b[0;34m)\u001b[0m\u001b[0;34m\u001b[0m\u001b[0m\n\u001b[0m\u001b[1;32m      5\u001b[0m     \u001b[0malpha_runs3\u001b[0m\u001b[0;34m.\u001b[0m\u001b[0mappend\u001b[0m\u001b[0;34m(\u001b[0m\u001b[0mgp_results\u001b[0m\u001b[0;34m)\u001b[0m\u001b[0;34m\u001b[0m\u001b[0m\n",
      "\u001b[0;32m/opt/miniconda3/envs/python37/lib/python3.7/site-packages/joblib-0.16.0-py3.7.egg/joblib/parallel.py\u001b[0m in \u001b[0;36m__call__\u001b[0;34m(self, iterable)\u001b[0m\n\u001b[1;32m   1040\u001b[0m \u001b[0;34m\u001b[0m\u001b[0m\n\u001b[1;32m   1041\u001b[0m             \u001b[0;32mwith\u001b[0m \u001b[0mself\u001b[0m\u001b[0;34m.\u001b[0m\u001b[0m_backend\u001b[0m\u001b[0;34m.\u001b[0m\u001b[0mretrieval_context\u001b[0m\u001b[0;34m(\u001b[0m\u001b[0;34m)\u001b[0m\u001b[0;34m:\u001b[0m\u001b[0;34m\u001b[0m\u001b[0m\n\u001b[0;32m-> 1042\u001b[0;31m                 \u001b[0mself\u001b[0m\u001b[0;34m.\u001b[0m\u001b[0mretrieve\u001b[0m\u001b[0;34m(\u001b[0m\u001b[0;34m)\u001b[0m\u001b[0;34m\u001b[0m\u001b[0m\n\u001b[0m\u001b[1;32m   1043\u001b[0m             \u001b[0;31m# Make sure that we get a last message telling us we are done\u001b[0m\u001b[0;34m\u001b[0m\u001b[0;34m\u001b[0m\u001b[0m\n\u001b[1;32m   1044\u001b[0m             \u001b[0melapsed_time\u001b[0m \u001b[0;34m=\u001b[0m \u001b[0mtime\u001b[0m\u001b[0;34m.\u001b[0m\u001b[0mtime\u001b[0m\u001b[0;34m(\u001b[0m\u001b[0;34m)\u001b[0m \u001b[0;34m-\u001b[0m \u001b[0mself\u001b[0m\u001b[0;34m.\u001b[0m\u001b[0m_start_time\u001b[0m\u001b[0;34m\u001b[0m\u001b[0m\n",
      "\u001b[0;32m/opt/miniconda3/envs/python37/lib/python3.7/site-packages/joblib-0.16.0-py3.7.egg/joblib/parallel.py\u001b[0m in \u001b[0;36mretrieve\u001b[0;34m(self)\u001b[0m\n\u001b[1;32m    919\u001b[0m             \u001b[0;32mtry\u001b[0m\u001b[0;34m:\u001b[0m\u001b[0;34m\u001b[0m\u001b[0m\n\u001b[1;32m    920\u001b[0m                 \u001b[0;32mif\u001b[0m \u001b[0mgetattr\u001b[0m\u001b[0;34m(\u001b[0m\u001b[0mself\u001b[0m\u001b[0;34m.\u001b[0m\u001b[0m_backend\u001b[0m\u001b[0;34m,\u001b[0m \u001b[0;34m'supports_timeout'\u001b[0m\u001b[0;34m,\u001b[0m \u001b[0;32mFalse\u001b[0m\u001b[0;34m)\u001b[0m\u001b[0;34m:\u001b[0m\u001b[0;34m\u001b[0m\u001b[0m\n\u001b[0;32m--> 921\u001b[0;31m                     \u001b[0mself\u001b[0m\u001b[0;34m.\u001b[0m\u001b[0m_output\u001b[0m\u001b[0;34m.\u001b[0m\u001b[0mextend\u001b[0m\u001b[0;34m(\u001b[0m\u001b[0mjob\u001b[0m\u001b[0;34m.\u001b[0m\u001b[0mget\u001b[0m\u001b[0;34m(\u001b[0m\u001b[0mtimeout\u001b[0m\u001b[0;34m=\u001b[0m\u001b[0mself\u001b[0m\u001b[0;34m.\u001b[0m\u001b[0mtimeout\u001b[0m\u001b[0;34m)\u001b[0m\u001b[0;34m)\u001b[0m\u001b[0;34m\u001b[0m\u001b[0m\n\u001b[0m\u001b[1;32m    922\u001b[0m                 \u001b[0;32melse\u001b[0m\u001b[0;34m:\u001b[0m\u001b[0;34m\u001b[0m\u001b[0m\n\u001b[1;32m    923\u001b[0m                     \u001b[0mself\u001b[0m\u001b[0;34m.\u001b[0m\u001b[0m_output\u001b[0m\u001b[0;34m.\u001b[0m\u001b[0mextend\u001b[0m\u001b[0;34m(\u001b[0m\u001b[0mjob\u001b[0m\u001b[0;34m.\u001b[0m\u001b[0mget\u001b[0m\u001b[0;34m(\u001b[0m\u001b[0;34m)\u001b[0m\u001b[0;34m)\u001b[0m\u001b[0;34m\u001b[0m\u001b[0m\n",
      "\u001b[0;32m/opt/miniconda3/envs/python37/lib/python3.7/site-packages/joblib-0.16.0-py3.7.egg/joblib/_parallel_backends.py\u001b[0m in \u001b[0;36mwrap_future_result\u001b[0;34m(future, timeout)\u001b[0m\n\u001b[1;32m    540\u001b[0m         AsyncResults.get from multiprocessing.\"\"\"\n\u001b[1;32m    541\u001b[0m         \u001b[0;32mtry\u001b[0m\u001b[0;34m:\u001b[0m\u001b[0;34m\u001b[0m\u001b[0m\n\u001b[0;32m--> 542\u001b[0;31m             \u001b[0;32mreturn\u001b[0m \u001b[0mfuture\u001b[0m\u001b[0;34m.\u001b[0m\u001b[0mresult\u001b[0m\u001b[0;34m(\u001b[0m\u001b[0mtimeout\u001b[0m\u001b[0;34m=\u001b[0m\u001b[0mtimeout\u001b[0m\u001b[0;34m)\u001b[0m\u001b[0;34m\u001b[0m\u001b[0m\n\u001b[0m\u001b[1;32m    543\u001b[0m         \u001b[0;32mexcept\u001b[0m \u001b[0mCfTimeoutError\u001b[0m \u001b[0;32mas\u001b[0m \u001b[0me\u001b[0m\u001b[0;34m:\u001b[0m\u001b[0;34m\u001b[0m\u001b[0m\n\u001b[1;32m    544\u001b[0m             \u001b[0;32mraise\u001b[0m \u001b[0mTimeoutError\u001b[0m \u001b[0;32mfrom\u001b[0m \u001b[0me\u001b[0m\u001b[0;34m\u001b[0m\u001b[0m\n",
      "\u001b[0;32m/opt/miniconda3/envs/python37/lib/python3.7/concurrent/futures/_base.py\u001b[0m in \u001b[0;36mresult\u001b[0;34m(self, timeout)\u001b[0m\n\u001b[1;32m    425\u001b[0m                 \u001b[0;32mreturn\u001b[0m \u001b[0mself\u001b[0m\u001b[0;34m.\u001b[0m\u001b[0m__get_result\u001b[0m\u001b[0;34m(\u001b[0m\u001b[0;34m)\u001b[0m\u001b[0;34m\u001b[0m\u001b[0m\n\u001b[1;32m    426\u001b[0m \u001b[0;34m\u001b[0m\u001b[0m\n\u001b[0;32m--> 427\u001b[0;31m             \u001b[0mself\u001b[0m\u001b[0;34m.\u001b[0m\u001b[0m_condition\u001b[0m\u001b[0;34m.\u001b[0m\u001b[0mwait\u001b[0m\u001b[0;34m(\u001b[0m\u001b[0mtimeout\u001b[0m\u001b[0;34m)\u001b[0m\u001b[0;34m\u001b[0m\u001b[0m\n\u001b[0m\u001b[1;32m    428\u001b[0m \u001b[0;34m\u001b[0m\u001b[0m\n\u001b[1;32m    429\u001b[0m             \u001b[0;32mif\u001b[0m \u001b[0mself\u001b[0m\u001b[0;34m.\u001b[0m\u001b[0m_state\u001b[0m \u001b[0;32min\u001b[0m \u001b[0;34m[\u001b[0m\u001b[0mCANCELLED\u001b[0m\u001b[0;34m,\u001b[0m \u001b[0mCANCELLED_AND_NOTIFIED\u001b[0m\u001b[0;34m]\u001b[0m\u001b[0;34m:\u001b[0m\u001b[0;34m\u001b[0m\u001b[0m\n",
      "\u001b[0;32m/opt/miniconda3/envs/python37/lib/python3.7/threading.py\u001b[0m in \u001b[0;36mwait\u001b[0;34m(self, timeout)\u001b[0m\n\u001b[1;32m    294\u001b[0m         \u001b[0;32mtry\u001b[0m\u001b[0;34m:\u001b[0m    \u001b[0;31m# restore state no matter what (e.g., KeyboardInterrupt)\u001b[0m\u001b[0;34m\u001b[0m\u001b[0m\n\u001b[1;32m    295\u001b[0m             \u001b[0;32mif\u001b[0m \u001b[0mtimeout\u001b[0m \u001b[0;32mis\u001b[0m \u001b[0;32mNone\u001b[0m\u001b[0;34m:\u001b[0m\u001b[0;34m\u001b[0m\u001b[0m\n\u001b[0;32m--> 296\u001b[0;31m                 \u001b[0mwaiter\u001b[0m\u001b[0;34m.\u001b[0m\u001b[0macquire\u001b[0m\u001b[0;34m(\u001b[0m\u001b[0;34m)\u001b[0m\u001b[0;34m\u001b[0m\u001b[0m\n\u001b[0m\u001b[1;32m    297\u001b[0m                 \u001b[0mgotit\u001b[0m \u001b[0;34m=\u001b[0m \u001b[0;32mTrue\u001b[0m\u001b[0;34m\u001b[0m\u001b[0m\n\u001b[1;32m    298\u001b[0m             \u001b[0;32melse\u001b[0m\u001b[0;34m:\u001b[0m\u001b[0;34m\u001b[0m\u001b[0m\n",
      "\u001b[0;31mKeyboardInterrupt\u001b[0m: "
     ]
    }
   ],
   "source": [
    "alpha_runs3 = []\n",
    "for seed in [100]:\n",
    "# for dataframe in dfs:\n",
    "    gp_results = Parallel(n_jobs=5)(delayed(gp_campaign)(i,5, 500) for i in range(5))\n",
    "    alpha_runs3.append(gp_results)"
   ]
  },
  {
   "cell_type": "code",
   "execution_count": 39,
   "metadata": {},
   "outputs": [],
   "source": [
    "dumpfn(alpha_runs1, 'gprvaluesruns-100seed-100experiments.json')"
   ]
  },
  {
   "cell_type": "code",
   "execution_count": 20,
   "metadata": {},
   "outputs": [],
   "source": [
    "dumpfn(alpha_runs1, 'gpbatchruns-100seed-100experiments.json')"
   ]
  },
  {
   "cell_type": "code",
   "execution_count": 32,
   "metadata": {},
   "outputs": [],
   "source": [
    "alpha_runs1 = loadfn('gprvaluesruns-100seed-100experiments.json')"
   ]
  },
  {
   "cell_type": "code",
   "execution_count": 43,
   "metadata": {},
   "outputs": [
    {
     "data": {
      "text/plain": [
       "<matplotlib.legend.Legend at 0x7fca7ffecc18>"
      ]
     },
     "execution_count": 43,
     "metadata": {},
     "output_type": "execute_result"
    },
    {
     "data": {
      "image/png": "[encoded data removed]",
      "text/plain": [
       "<Figure size 864x576 with 1 Axes>"
      ]
     },
     "metadata": {
      "needs_background": "light"
     },
     "output_type": "display_data"
    }
   ],
   "source": [
    "# q = ['All R', 'R<50','R < 40', 'R < 30', 'R < 25', 'R < 20']\n",
    "q = [1,3,5,10,20]\n",
    "plt.figure(figsize = [12,8])\n",
    "for i in range(5):\n",
    "    \n",
    "    merged1 = np.array([j for j in alpha_runs3[i]])\n",
    "    mu1 = np.mean(merged1, axis=0)\n",
    "    std1 = np.std(merged1, axis=0)\n",
    "    x1 = np.arange(0,len(merged1[0])+1)* q[i]\n",
    "    merged1 = np.insert(merged1,0,0)\n",
    "    std1 = np.insert(std1,0,0)\n",
    "    mu1 = np.insert(mu1,0,0)\n",
    "    plt.fill_between(x1, (mu1+std1), (mu1-std1), alpha=0.1)\n",
    "    plt.plot(x1 ,mu1, label='Batch Size: '+ str(q[i]))\n",
    "\n",
    "# merged1 = np.array([j for j in random_results])\n",
    "# mu1 = np.mean(merged1, axis=0)\n",
    "# std1 = np.std(merged1, axis=0)\n",
    "# x1 = np.arange(0,len(merged1[0])+1)* 5\n",
    "# merged1 = np.insert(merged1,0,0)\n",
    "# std1 = np.insert(std1,0,0)\n",
    "# mu1 = np.insert(mu1,0,0)\n",
    "# plt.fill_between(x1, mu1+std1, mu1-std1, alpha=0.1)\n",
    "# plt.plot(x1 ,mu1, label='random')\n",
    "\n",
    "# merged2 = np.array([j for j in RF_results])\n",
    "# mul2 = np.mean(merged2, axis=0)\n",
    "# std2 = np.std(merged2, axis=0)\n",
    "# x2 = np.arange(0,len(merged2[0])+1)* 5\n",
    "# merged2 = np.insert(merged2,0,0)\n",
    "# std2 = np.insert(std2,0,0)\n",
    "# mul2 = np.insert(mul2,0,0)\n",
    "# plt.fill_between(x2, mul2+std2, mu1-std2, alpha=0.1)\n",
    "# plt.plot(x2, mul2, label='Random-Forest')\n",
    "\n",
    "\n",
    "# merged3 = np.array([j for j in Linear_results])\n",
    "# mul3 = np.mean(merged3, axis=0)\n",
    "# std3 = np.std(merged3, axis=0)\n",
    "# x3 = np.arange(0,len(merged3[0])+1)* 5\n",
    "# merged3 = np.insert(merged3,0,0)\n",
    "# std3 = np.insert(std3,0,0)\n",
    "# mul3 = np.insert(mul3,0,0)\n",
    "# plt.fill_between(x3, mul3+std3, mu1-std3, alpha=0.1)\n",
    "# plt.plot(x3, mul3, label='Linear')\n",
    "\n",
    "# plt.plot([0,120],[12,12],'k--')\n",
    "# plt.title('Multiphase Nanoparticle Discovery [D:148,Seed:10]')\n",
    "plt.xlim(0,500)\n",
    "plt.ylim(0,120)\n",
    "plt.ylabel(\"Strucs with Energy in 99th Percentile (< -104 eV)\",fontsize = 20)\n",
    "plt.xlabel(\"Total number of experiments\",fontsize = 20)\n",
    "plt.xticks(size = 16)\n",
    "plt.yticks(size = 16)\n",
    "plt.legend()"
   ]
  },
  {
   "cell_type": "code",
   "execution_count": 40,
   "metadata": {},
   "outputs": [],
   "source": [
    "lendfs = []\n",
    "for j in range(len(dfs)):\n",
    "    count = 0\n",
    "    for i in range(len(dfs[j])):\n",
    "        if dfs[j].iloc[i]['target'] > 120:\n",
    "            count += 1\n",
    "    lendfs.append(count)"
   ]
  },
  {
   "cell_type": "code",
   "execution_count": 20,
   "metadata": {},
   "outputs": [
    {
     "data": {
      "text/plain": [
       "[74, 72, 48, 40, 32, 24]"
      ]
     },
     "execution_count": 20,
     "metadata": {},
     "output_type": "execute_result"
    }
   ],
   "source": [
    "lendfs"
   ]
  },
  {
   "cell_type": "code",
   "execution_count": null,
   "metadata": {},
   "outputs": [],
   "source": []
  }
 ],
 "metadata": {
  "kernelspec": {
   "display_name": "Python 3",
   "language": "python",
   "name": "python3"
  },
  "language_info": {
   "codemirror_mode": {
    "name": "ipython",
    "version": 3
   },
   "file_extension": ".py",
   "mimetype": "text/x-python",
   "name": "python",
   "nbconvert_exporter": "python",
   "pygments_lexer": "ipython3",
   "version": "3.7.0"
  }
 },
 "nbformat": 4,
 "nbformat_minor": 4
}
